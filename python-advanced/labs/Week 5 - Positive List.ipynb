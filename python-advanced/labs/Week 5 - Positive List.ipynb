{
 "cells": [
  {
   "cell_type": "markdown",
   "id": "retained-retrieval",
   "metadata": {
    "deletable": false,
    "editable": false,
    "nbgrader": {
     "cell_type": "markdown",
     "checksum": "91d4d4518b26234ff403508eedc3092e",
     "grade": false,
     "grade_id": "cell-8e9c69713e805d9d",
     "locked": true,
     "schema_version": 3,
     "solution": false,
     "task": false
    }
   },
   "source": [
    "# Python Advanced\n",
    "\n",
    "This is autograded assignment. After each problem there is a test cell (with `assert`'s). If it runs correctly, test is passed, if it gives error, something should be fixed. Implement the functions, click \"Validate\" button, then submit for grading. All problems weight 1 point except where stated otherwise."
   ]
  },
  {
   "cell_type": "markdown",
   "id": "descending-butterfly",
   "metadata": {
    "deletable": false,
    "editable": false,
    "nbgrader": {
     "cell_type": "markdown",
     "checksum": "38f7784db25027a16d2940bfc9ff5478",
     "grade": false,
     "grade_id": "cell-cda6ed5622c9e86b",
     "locked": true,
     "schema_version": 3,
     "solution": false,
     "task": false
    }
   },
   "source": [
    "## Positive list\n",
    "\n",
    "\n",
    "Implement the class <b>PositiveList</b> to store positive integers. Inherit it from the class <b>list</b>. Also implement the new exception <b>NonPositiveError</b>.\n",
    "\n",
    "In the class <b>PositiveList</b>, override the method `append` so that when you try to add a non-positive integer, a <b>NonPositiveError</b> exception is thrown and the number is not added, and when you try to add a positive integer, the number is added as in a standard list.\n",
    "\n",
    "It is guaranteed that only integers will always be passed as an argument to the method append.\n",
    "\n",
    "---\n",
    "\n",
    "Comments:\n",
    "- New class should be the list but with the modified method `append`.\n",
    "- It must have list methods and functions - len, extend, pop and constructor. Don't change these methods only the method `append`.\n",
    "- In this task you don't have to check other methods (extend and constructor) for nonpositive numbers."
   ]
  },
  {
   "cell_type": "code",
   "execution_count": 16,
   "id": "faced-engineering",
   "metadata": {
    "deletable": false,
    "nbgrader": {
     "cell_type": "code",
     "checksum": "49357ca5fa40e6e22fa275c921a4a63f",
     "grade": false,
     "grade_id": "cell-ee41f04e58eae2f1",
     "locked": false,
     "schema_version": 3,
     "solution": true,
     "task": false
    }
   },
   "outputs": [],
   "source": [
    "class NonPositiveError(Exception):\n",
    "    \"\"\"\n",
    "    This class is used to create an exception when a non-positive number is added to the list.\n",
    "    \"\"\"\n",
    "    pass\n",
    "\n",
    "class PositiveList(list):\n",
    "    \"\"\"\n",
    "    This class is used to create a list that only accepts positive numbers.\n",
    "    \"\"\"\n",
    "    def append(self, num):\n",
    "        if num > 0:\n",
    "            super().append(num)\n",
    "        else:\n",
    "            raise NonPositiveError\n"
   ]
  },
  {
   "cell_type": "markdown",
   "id": "lasting-junior",
   "metadata": {
    "deletable": false,
    "editable": false,
    "nbgrader": {
     "cell_type": "markdown",
     "checksum": "62e5bd642533c41d01dcda7260de0bc8",
     "grade": false,
     "grade_id": "cell-58caf57f537f2c37",
     "locked": true,
     "schema_version": 3,
     "solution": false,
     "task": false
    }
   },
   "source": [
    "### Run tests"
   ]
  },
  {
   "cell_type": "code",
   "execution_count": 17,
   "id": "julian-optimum",
   "metadata": {
    "deletable": false,
    "editable": false,
    "nbgrader": {
     "cell_type": "code",
     "checksum": "560a441f445674dc35e5edaffc800d56",
     "grade": true,
     "grade_id": "cell-73ba8639d0f31fef",
     "locked": true,
     "points": 1,
     "schema_version": 3,
     "solution": false,
     "task": false
    }
   },
   "outputs": [
    {
     "name": "stdout",
     "output_type": "stream",
     "text": [
      "Great job! You passed all test cases.\n"
     ]
    }
   ],
   "source": [
    "def check():\n",
    "    # check custom exceptions definition\n",
    "    try:\n",
    "        NonPositiveError\n",
    "    except NameError:\n",
    "        return \"0\\tNonPositiveError doesn't defined\"\n",
    "    \n",
    "    try:\n",
    "        PositiveList\n",
    "    except NameError:\n",
    "        return \"0\\tPositiveList doesn't defined\"\n",
    "\n",
    "    # check custom exceptions inheritance\n",
    "    if not issubclass(NonPositiveError, Exception):\n",
    "        return \"0\\tNonPositiveError doesn't inherit Exception\"\n",
    "\n",
    "    tested_class = PositiveList()\n",
    "\n",
    "    # append 1 element\n",
    "    tested_class.append(4)\n",
    "    if tested_class != [4]:\n",
    "        return '0\\tFailed test #1. Please try again!'\n",
    "\n",
    "    # append 2 elements\n",
    "    tested_class.append(1)\n",
    "    tested_class.append(7)\n",
    "    if tested_class != [4, 1, 7]:\n",
    "        return '0\\tFailed test #2. Please try again!'\n",
    "\n",
    "    # append negative element\n",
    "    try:\n",
    "        tested_class.append(-7)\n",
    "    except NonPositiveError:\n",
    "        pass\n",
    "    except Exception:\n",
    "        return '0\\tFailed test #3. Use NonPositiveError exception. Please try again!'\n",
    "\n",
    "    if tested_class != [4, 1, 7]:\n",
    "        return '0\\tFailed test #4. Please try again!'\n",
    "\n",
    "    # append 0\n",
    "    try:\n",
    "        tested_class.append(0)\n",
    "    except NonPositiveError:\n",
    "        pass\n",
    "    except Exception:\n",
    "        return '0\\tFailed test #5. Use NonPositiveError exception. Please try again!'\n",
    "\n",
    "    if tested_class != [4, 1, 7]:\n",
    "        return '0\\tFailed test #6. Please try again!'\n",
    "\n",
    "    # check method len\n",
    "    if len(tested_class) != 3:\n",
    "        return '0\\tFailed test #7. Please try again!'\n",
    "\n",
    "    # check list method __iadd__\n",
    "    tested_class += [5, 0, -9]\n",
    "    if tested_class != [4, 1, 7, 5, 0, -9]:\n",
    "        return '0\\tFailed test #8. Please try again!'\n",
    "\n",
    "    # check list method extend\n",
    "    tested_class.extend([10, -98, 0])\n",
    "    if tested_class != [4, 1, 7, 5, 0, -9, 10, -98, 0]:\n",
    "        return '0\\tFailed test #9. Please try again!'\n",
    "\n",
    "    # check function sum\n",
    "    if sum(tested_class) != -80:\n",
    "        return '0\\tFailed test #10. Please try again!'\n",
    "\n",
    "    # check list method pop\n",
    "    tested_class.pop(0)\n",
    "    if tested_class != [1, 7, 5, 0, -9, 10, -98, 0]:\n",
    "        return '0\\tFailed test #11. Please try again!'\n",
    "\n",
    "    # append 1 element\n",
    "    tested_class.append(400)\n",
    "    if tested_class != [1, 7, 5, 0, -9, 10, -98, 0, 400]:\n",
    "        return '0\\tFailed test #12. Please try again!'\n",
    "\n",
    "    # append negative element\n",
    "    try:\n",
    "        tested_class.append(-67)\n",
    "    except NonPositiveError:\n",
    "        pass\n",
    "    except Exception:\n",
    "        return '0\\tFailed test #13. Use NonPositiveError exception. Please try again!'\n",
    "\n",
    "    if tested_class != [1, 7, 5, 0, -9, 10, -98, 0, 400]:\n",
    "        return '0\\tFailed test #14. Please try again!'\n",
    "\n",
    "    # append 0\n",
    "    try:\n",
    "        tested_class.append(0)\n",
    "    except NonPositiveError:\n",
    "        pass\n",
    "    except Exception:\n",
    "        return '0\\tFailed test #15. Use NonPositiveError exception. Please try again!'\n",
    "\n",
    "    if tested_class != [1, 7, 5, 0, -9, 10, -98, 0, 400]:\n",
    "        return '0\\tFailed test #16. Please try again!'\n",
    "\n",
    "    return '1\\tGreat job! You passed all test cases.'\n",
    "\n",
    "\n",
    "result, message = check().split('\\t')\n",
    "assert result == '1', message\n",
    "print(message)"
   ]
  }
 ],
 "metadata": {
  "kernelspec": {
   "display_name": "Python 3.9.12 ('base')",
   "language": "python",
   "name": "python3"
  },
  "language_info": {
   "codemirror_mode": {
    "name": "ipython",
    "version": 3
   },
   "file_extension": ".py",
   "mimetype": "text/x-python",
   "name": "python",
   "nbconvert_exporter": "python",
   "pygments_lexer": "ipython3",
   "version": "3.9.12"
  },
  "vscode": {
   "interpreter": {
    "hash": "cd78fef2128015050713e82ca51c6520b11aee7c9ee8df750520bbbc7384cbaa"
   }
  }
 },
 "nbformat": 4,
 "nbformat_minor": 5
}
