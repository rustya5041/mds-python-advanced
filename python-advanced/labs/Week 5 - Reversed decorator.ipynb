{
 "cells": [
  {
   "cell_type": "markdown",
   "id": "retained-retrieval",
   "metadata": {
    "deletable": false,
    "editable": false,
    "nbgrader": {
     "cell_type": "markdown",
     "checksum": "58bebab54ef5c535591263a153d1f0a0",
     "grade": false,
     "grade_id": "cell-35ef5cf315f544d0",
     "locked": true,
     "schema_version": 3,
     "solution": false,
     "task": false
    }
   },
   "source": [
    "# Python Advanced\n",
    "\n",
    "This is autograded assignment. After each problem there is a test cell (with `assert`'s). If it runs correctly, test is passed, if it gives error, something should be fixed. Implement the functions, click \"Validate\" button, then submit for grading. All problems weight 1 point except where stated otherwise."
   ]
  },
  {
   "cell_type": "markdown",
   "id": "descending-butterfly",
   "metadata": {
    "deletable": false,
    "editable": false,
    "nbgrader": {
     "cell_type": "markdown",
     "checksum": "b63905410f91190958eb931195532829",
     "grade": false,
     "grade_id": "cell-84ba6f4bba115eac",
     "locked": true,
     "schema_version": 3,
     "solution": false,
     "task": false
    }
   },
   "source": [
    "## Reversed decorator\n",
    "\n",
    "Write a decorator that uses the reverse order for positional arguments in the decorated function. Decorated function can also take keyword arguments. Decorator should save a name of a decorated function, study <b>functools.wraps</b>.\n",
    "\n",
    "\n",
    "\n",
    "\n",
    "\n",
    "```python\n",
    "def reversed_dec(func):\n",
    "    def wrapped(---TODO---):\n",
    "        pass\n",
    "    return wrapped\n",
    "```"
   ]
  },
  {
   "cell_type": "code",
   "execution_count": 1,
   "id": "faced-engineering",
   "metadata": {
    "deletable": false,
    "nbgrader": {
     "cell_type": "code",
     "checksum": "3fd2c2a9faa2781c0998813a56ed8f1e",
     "grade": false,
     "grade_id": "cell-77f4a2eb9dc011e8",
     "locked": false,
     "schema_version": 3,
     "solution": true,
     "task": false
    }
   },
   "outputs": [],
   "source": [
    "# Write a decorator that uses the reverse order for positional arguments in the decorated function. \n",
    "# Decorated function can also take keyword arguments. Decorator should save a name of a decorated function, study functools.wraps.\n",
    "import functools\n",
    "\n",
    "def reversed_dec(func):\n",
    "    @functools.wraps(func)\n",
    "    def wrapped(*args, **kwargs):\n",
    "        return func(*reversed(args), **kwargs)\n",
    "    return wrapped"
   ]
  },
  {
   "cell_type": "code",
   "execution_count": 6,
   "id": "11a608f1",
   "metadata": {},
   "outputs": [
    {
     "name": "stdout",
     "output_type": "stream",
     "text": [
      "(3, 2, 1)\n"
     ]
    }
   ],
   "source": [
    "@reversed_dec\n",
    "def func(a, b, c):\n",
    "    return a, b, c\n",
    "\n",
    "print(func(1, 2, 3))"
   ]
  },
  {
   "cell_type": "markdown",
   "id": "lasting-junior",
   "metadata": {
    "deletable": false,
    "editable": false,
    "nbgrader": {
     "cell_type": "markdown",
     "checksum": "bed6efbdb904e8ada8b3cdbf66a87145",
     "grade": false,
     "grade_id": "cell-236a8f9d0624ca53",
     "locked": true,
     "schema_version": 3,
     "solution": false,
     "task": false
    }
   },
   "source": [
    "### Run tests"
   ]
  },
  {
   "cell_type": "code",
   "execution_count": 3,
   "id": "julian-optimum",
   "metadata": {
    "deletable": false,
    "editable": false,
    "nbgrader": {
     "cell_type": "code",
     "checksum": "57871f1a0baa947a7d5612833cec7b00",
     "grade": true,
     "grade_id": "cell-3c8f08b513e6cc13",
     "locked": true,
     "points": 1,
     "schema_version": 3,
     "solution": false,
     "task": false
    }
   },
   "outputs": [
    {
     "name": "stdout",
     "output_type": "stream",
     "text": [
      "Great job! You passed all test cases.\n"
     ]
    }
   ],
   "source": [
    "def check():\n",
    "    tests_results = []\n",
    "\n",
    "    @reversed_dec\n",
    "    def test_func_1(x, y, z=7):\n",
    "        return f'{x}_{y}_{z}'\n",
    "\n",
    "    if test_func_1.__name__ != 'test_func_1':\n",
    "        return '0\\tIncorrect name of the decorated function.'\n",
    "\n",
    "    try:\n",
    "        tests_results.extend([\n",
    "            test_func_1(3, 4, 5) == '5_4_3',\n",
    "            test_func_1(3, 4, z=5) == '4_3_5',\n",
    "            test_func_1(3, 4) == '4_3_7',\n",
    "            test_func_1('456', '234') == '234_456_7',\n",
    "        ])\n",
    "    except Exception:\n",
    "        return '0\\tFailed test #1. Please try again!'\n",
    "\n",
    "    @reversed_dec\n",
    "    def test_func_2(*args, **kwargs):\n",
    "        args_str = 'x'.join(map(str, args))\n",
    "        kwargs_str = 'z'.join(map(lambda x: f'{x[1]}<-{x[0]}', sorted(kwargs.items())))\n",
    "        return f'{args_str}_{kwargs_str}'\n",
    "\n",
    "    if test_func_2.__name__ != 'test_func_2':\n",
    "        return '0\\tIncorrect name of the decorated function.'\n",
    "\n",
    "    try:\n",
    "        tests_results.extend([\n",
    "            test_func_2(3, 4, z=5) == '4x3_5<-z',\n",
    "            test_func_2(-903, 4000) == '4000x-903_',\n",
    "            test_func_2(*range(10)) == '9x8x7x6x5x4x3x2x1x0_',\n",
    "            test_func_2(*range(-5, 2, 2), **dict(zip(['a', 'n', 't'], [9, 4, 3]))) == '1x-1x-3x-5_9<-az4<-nz3<-t',\n",
    "        ])\n",
    "    except Exception:\n",
    "        return '0\\tFailed test #2. Please try again!'\n",
    "\n",
    "    @reversed_dec\n",
    "    def test_func_3():\n",
    "        return 5\n",
    "\n",
    "    if test_func_3.__name__ != 'test_func_3':\n",
    "        return '0\\tIncorrect name of the decorated function.'\n",
    "\n",
    "    try:\n",
    "        if test_func_3() != 5:\n",
    "            return '0\\tFailed test #3. Please try again!'\n",
    "    except Exception:\n",
    "        return '0\\tFailed test #4. Please try again!'\n",
    "\n",
    "    # check answers\n",
    "    for test_idx, test_result in enumerate(tests_results, start=1):\n",
    "        if test_result is False:\n",
    "            return f'0\\tTest #{test_idx} - incorrect answer. Please try again!'\n",
    "\n",
    "    return '1\\tGreat job! You passed all test cases.'\n",
    "\n",
    "\n",
    "result, message = check().split('\\t')\n",
    "assert result == '1', message\n",
    "print(message)"
   ]
  },
  {
   "cell_type": "code",
   "execution_count": null,
   "id": "e9d809cf",
   "metadata": {},
   "outputs": [],
   "source": []
  }
 ],
 "metadata": {
  "kernelspec": {
   "display_name": "Python 3.9.12 ('base')",
   "language": "python",
   "name": "python3"
  },
  "language_info": {
   "codemirror_mode": {
    "name": "ipython",
    "version": 3
   },
   "file_extension": ".py",
   "mimetype": "text/x-python",
   "name": "python",
   "nbconvert_exporter": "python",
   "pygments_lexer": "ipython3",
   "version": "3.9.12"
  },
  "vscode": {
   "interpreter": {
    "hash": "cd78fef2128015050713e82ca51c6520b11aee7c9ee8df750520bbbc7384cbaa"
   }
  }
 },
 "nbformat": 4,
 "nbformat_minor": 5
}
