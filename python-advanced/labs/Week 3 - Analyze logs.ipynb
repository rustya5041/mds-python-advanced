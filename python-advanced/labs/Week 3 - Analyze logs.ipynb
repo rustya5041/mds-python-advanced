{
 "cells": [
  {
   "cell_type": "markdown",
   "id": "retained-retrieval",
   "metadata": {},
   "source": [
    "# Python Advanced\n",
    "\n",
    "This is autograded assignment. After each problem there is a test cell (with `assert`'s). If it runs correctly, test is passed, if it gives error, something should be fixed. Implement the functions, click \"Validate\" button, then submit for grading. All problems weight 1 point except where stated otherwise."
   ]
  },
  {
   "cell_type": "markdown",
   "id": "descending-butterfly",
   "metadata": {},
   "source": [
    "## Analyze logs\n",
    "\n",
    "In this task, you need to analyze the web application logs. Each line contains JSON, but some lines may not be written correctly. JSON contains 2 fields - \"message\" and \"status\". We want to know how many messages have a status of 200. Additionally, we want to know how many messages had a status other than 200, how many messages had an incorrect status, how many messages were without status, and how many messages can't be read.\n",
    "\n",
    "<b>Input format</b>: The list of JSON logs\n",
    "\n",
    "<b>Output format</b>: Return 5 numbers:\n",
    "\n",
    "- Number of messages (lines) with the correct status 200;\n",
    "- The number of messages with the correct status but not equal to 200;\n",
    "- The number of lines in which the message has a status, but it is not an integer;\n",
    "- The number of messages with no status, either None or an empty string is written in the status;\n",
    "- Number of messages that cannot be read.\n",
    "\n",
    "<b>Note</b>: The correct status must be an integer or can be cast to an integer.\n",
    "\n",
    "We recommend you to check file before writing the code and understand all possible situations. Don't try to fix broken JSON.\n"
   ]
  },
  {
   "cell_type": "markdown",
   "id": "super-therapy",
   "metadata": {},
   "source": [
    "Examples:\n",
    "- {\"message\": \"m\", \"status\": 200}\n",
    "- {\"message\": \"\" <b>(broken line)</b>\n",
    "- , \"status\": \"\"} <b>(broken line)</b>\n",
    "- {\"message\": \"zq&\", \"status\": \"foo\"}\n",
    "- {\"message\": \"09\", \"status\": 502}\n",
    "- {\"message\": \"m\", \"status\": \"200\"}"
   ]
  },
  {
   "cell_type": "code",
   "execution_count": 70,
   "id": "faced-engineering",
   "metadata": {},
   "outputs": [],
   "source": [
    "import json\n",
    "import pandas as pd\n",
    "\n",
    "def solve(log_data : list) -> int:\n",
    "    \"\"\"\n",
    "    This function takes in a list of log data and returns the solution of the task described above.\n",
    "\n",
    "    param1: log_data: list() of input lines\n",
    "    returns: 5 integer numbers for the solution\n",
    "    \"\"\"\n",
    "    # declaring list of dictionaries for clean data & a counter for failed rows\n",
    "    clean_log, cannot_read = list(), 0\n",
    "    \n",
    "    # cleaning data\n",
    "    for log in log_data:\n",
    "        try:\n",
    "            clean_log.append(json.loads(log))\n",
    "        except Exception:\n",
    "            cannot_read += 1\n",
    "            \n",
    "    # creating a dataframe from clean logs\n",
    "    df = pd.DataFrame(clean_log)\n",
    "\n",
    "    # converting status column to string\n",
    "    df['status'] = df['status'].astype(str) \n",
    "\n",
    "    # checking how many records have status 200\n",
    "    status_200 = df[df['status'] == '200'].shape[0]\n",
    "\n",
    "    # checking how many records have a correct status other than 200\n",
    "    status_not_200 = df[(df['status'] != '200') & (df['status'].str.isnumeric())].shape[0]\n",
    "\n",
    "    # checking how many records have a status which is not an int\n",
    "    status_not_int = df[(~df['status'].str.isdigit()) & (df['status'] != 'None') & (df['status'] != 'nan') & (df['status'] != '')].shape[0]\n",
    "\n",
    "    # checking none, nan, or empty statuses\n",
    "    none_status = df[(df['status'] == 'None') | (df['status'] == '') | (df['status'] == 'nan')].shape[0]\n",
    "\n",
    "    # returning the solution\n",
    "    return status_200, status_not_200, status_not_int, none_status, cannot_read\n"
   ]
  },
  {
   "cell_type": "markdown",
   "id": "christian-binding",
   "metadata": {},
   "source": [
    "### Test data\n",
    "log_data_test_* - a list of lines"
   ]
  },
  {
   "cell_type": "code",
   "execution_count": 55,
   "id": "a7727716",
   "metadata": {},
   "outputs": [],
   "source": [
    "def solve(log_files: list) -> int:\n",
    "    n_unread_rows = 0\n",
    "    clean_logs = []\n",
    "\n",
    "    for log in log_files:\n",
    "        try:\n",
    "            clean_logs.append(json.loads(log))\n",
    "        except Exception:\n",
    "            n_unread_rows += 1\n",
    "\n",
    "    df = pd.DataFrame(clean_logs)\n",
    "\n",
    "    # transfroming status to string\n",
    "    df['status'] = df['status'].astype(str)\n",
    "    \n",
    "    status_200 = df[df['status'] == '200'].shape[0]\n",
    "        \n",
    "    return status_200, n_unread_rows"
   ]
  },
  {
   "cell_type": "code",
   "execution_count": null,
   "id": "af51de5c",
   "metadata": {},
   "outputs": [],
   "source": [
    "for i in counter_all:\n",
    "        try:\n",
    "            if i is not None:\n",
    "                i = int(i)\n",
    "                if i == 200:\n",
    "                    counter_1+=1\n",
    "                elif isinstance(i, int):\n",
    "                    counter_2+=1\n",
    "        except ValueError:\n",
    "            if isinstance(i, int)==False and i!=None and i!='':\n",
    "                counter_3+=1\n",
    "            continue\n",
    "    return counter_1,counter_2,counter_3,counter_4,counter_5"
   ]
  },
  {
   "cell_type": "code",
   "execution_count": 66,
   "id": "e90e8938",
   "metadata": {},
   "outputs": [
    {
     "data": {
      "text/plain": [
       "65"
      ]
     },
     "execution_count": 66,
     "metadata": {},
     "output_type": "execute_result"
    }
   ],
   "source": [
    "counter_all = [d.get('status') for d in clean_logs]\n",
    "\n",
    "counter_4=counter_all.count(None)+counter_all.count('')\n",
    "\n",
    "counter_not_200 = counter_all.count()"
   ]
  },
  {
   "cell_type": "code",
   "execution_count": 63,
   "id": "aa216036",
   "metadata": {},
   "outputs": [
    {
     "ename": "KeyError",
     "evalue": "\"None of [Index(['200', 'foo', '200', 'nan', '200', '', 'bar', 'None', '200', '200',\\n       ...\\n       '502', 'nan', '200', '200', '200', 'None', '200', 'nan', '200', 'None'],\\n      dtype='object', length=195)] are in the [columns]\"",
     "output_type": "error",
     "traceback": [
      "\u001b[0;31m---------------------------------------------------------------------------\u001b[0m",
      "\u001b[0;31mKeyError\u001b[0m                                  Traceback (most recent call last)",
      "Cell \u001b[0;32mIn [63], line 1\u001b[0m\n\u001b[0;32m----> 1\u001b[0m df[df[\u001b[39m'\u001b[39m\u001b[39mstatus\u001b[39m\u001b[39m'\u001b[39m]]\n",
      "File \u001b[0;32m/Applications/anaconda3/lib/python3.9/site-packages/pandas/core/frame.py:3511\u001b[0m, in \u001b[0;36mDataFrame.__getitem__\u001b[0;34m(self, key)\u001b[0m\n\u001b[1;32m   3509\u001b[0m     \u001b[39mif\u001b[39;00m is_iterator(key):\n\u001b[1;32m   3510\u001b[0m         key \u001b[39m=\u001b[39m \u001b[39mlist\u001b[39m(key)\n\u001b[0;32m-> 3511\u001b[0m     indexer \u001b[39m=\u001b[39m \u001b[39mself\u001b[39;49m\u001b[39m.\u001b[39;49mcolumns\u001b[39m.\u001b[39;49m_get_indexer_strict(key, \u001b[39m\"\u001b[39;49m\u001b[39mcolumns\u001b[39;49m\u001b[39m\"\u001b[39;49m)[\u001b[39m1\u001b[39m]\n\u001b[1;32m   3513\u001b[0m \u001b[39m# take() does not accept boolean indexers\u001b[39;00m\n\u001b[1;32m   3514\u001b[0m \u001b[39mif\u001b[39;00m \u001b[39mgetattr\u001b[39m(indexer, \u001b[39m\"\u001b[39m\u001b[39mdtype\u001b[39m\u001b[39m\"\u001b[39m, \u001b[39mNone\u001b[39;00m) \u001b[39m==\u001b[39m \u001b[39mbool\u001b[39m:\n",
      "File \u001b[0;32m/Applications/anaconda3/lib/python3.9/site-packages/pandas/core/indexes/base.py:5782\u001b[0m, in \u001b[0;36mIndex._get_indexer_strict\u001b[0;34m(self, key, axis_name)\u001b[0m\n\u001b[1;32m   5779\u001b[0m \u001b[39melse\u001b[39;00m:\n\u001b[1;32m   5780\u001b[0m     keyarr, indexer, new_indexer \u001b[39m=\u001b[39m \u001b[39mself\u001b[39m\u001b[39m.\u001b[39m_reindex_non_unique(keyarr)\n\u001b[0;32m-> 5782\u001b[0m \u001b[39mself\u001b[39;49m\u001b[39m.\u001b[39;49m_raise_if_missing(keyarr, indexer, axis_name)\n\u001b[1;32m   5784\u001b[0m keyarr \u001b[39m=\u001b[39m \u001b[39mself\u001b[39m\u001b[39m.\u001b[39mtake(indexer)\n\u001b[1;32m   5785\u001b[0m \u001b[39mif\u001b[39;00m \u001b[39misinstance\u001b[39m(key, Index):\n\u001b[1;32m   5786\u001b[0m     \u001b[39m# GH 42790 - Preserve name from an Index\u001b[39;00m\n",
      "File \u001b[0;32m/Applications/anaconda3/lib/python3.9/site-packages/pandas/core/indexes/base.py:5842\u001b[0m, in \u001b[0;36mIndex._raise_if_missing\u001b[0;34m(self, key, indexer, axis_name)\u001b[0m\n\u001b[1;32m   5840\u001b[0m     \u001b[39mif\u001b[39;00m use_interval_msg:\n\u001b[1;32m   5841\u001b[0m         key \u001b[39m=\u001b[39m \u001b[39mlist\u001b[39m(key)\n\u001b[0;32m-> 5842\u001b[0m     \u001b[39mraise\u001b[39;00m \u001b[39mKeyError\u001b[39;00m(\u001b[39mf\u001b[39m\u001b[39m\"\u001b[39m\u001b[39mNone of [\u001b[39m\u001b[39m{\u001b[39;00mkey\u001b[39m}\u001b[39;00m\u001b[39m] are in the [\u001b[39m\u001b[39m{\u001b[39;00maxis_name\u001b[39m}\u001b[39;00m\u001b[39m]\u001b[39m\u001b[39m\"\u001b[39m)\n\u001b[1;32m   5844\u001b[0m not_found \u001b[39m=\u001b[39m \u001b[39mlist\u001b[39m(ensure_index(key)[missing_mask\u001b[39m.\u001b[39mnonzero()[\u001b[39m0\u001b[39m]]\u001b[39m.\u001b[39munique())\n\u001b[1;32m   5845\u001b[0m \u001b[39mraise\u001b[39;00m \u001b[39mKeyError\u001b[39;00m(\u001b[39mf\u001b[39m\u001b[39m\"\u001b[39m\u001b[39m{\u001b[39;00mnot_found\u001b[39m}\u001b[39;00m\u001b[39m not in index\u001b[39m\u001b[39m\"\u001b[39m)\n",
      "\u001b[0;31mKeyError\u001b[0m: \"None of [Index(['200', 'foo', '200', 'nan', '200', '', 'bar', 'None', '200', '200',\\n       ...\\n       '502', 'nan', '200', '200', '200', 'None', '200', 'nan', '200', 'None'],\\n      dtype='object', length=195)] are in the [columns]\""
     ]
    }
   ],
   "source": [
    "df[df['status'] "
   ]
  },
  {
   "cell_type": "code",
   "execution_count": 54,
   "id": "d2bc2469",
   "metadata": {},
   "outputs": [
    {
     "data": {
      "text/html": [
       "<div>\n",
       "<style scoped>\n",
       "    .dataframe tbody tr th:only-of-type {\n",
       "        vertical-align: middle;\n",
       "    }\n",
       "\n",
       "    .dataframe tbody tr th {\n",
       "        vertical-align: top;\n",
       "    }\n",
       "\n",
       "    .dataframe thead th {\n",
       "        text-align: right;\n",
       "    }\n",
       "</style>\n",
       "<table border=\"1\" class=\"dataframe\">\n",
       "  <thead>\n",
       "    <tr style=\"text-align: right;\">\n",
       "      <th></th>\n",
       "      <th>message</th>\n",
       "      <th>status</th>\n",
       "    </tr>\n",
       "  </thead>\n",
       "  <tbody>\n",
       "    <tr>\n",
       "      <th>0</th>\n",
       "      <td>m</td>\n",
       "      <td>200</td>\n",
       "    </tr>\n",
       "    <tr>\n",
       "      <th>2</th>\n",
       "      <td>h#3c-.n</td>\n",
       "      <td>200</td>\n",
       "    </tr>\n",
       "    <tr>\n",
       "      <th>4</th>\n",
       "      <td>i&amp;#</td>\n",
       "      <td>200</td>\n",
       "    </tr>\n",
       "    <tr>\n",
       "      <th>8</th>\n",
       "      <td>xb o4&amp;6j</td>\n",
       "      <td>200</td>\n",
       "    </tr>\n",
       "    <tr>\n",
       "      <th>9</th>\n",
       "      <td>7ztz</td>\n",
       "      <td>200</td>\n",
       "    </tr>\n",
       "    <tr>\n",
       "      <th>...</th>\n",
       "      <td>...</td>\n",
       "      <td>...</td>\n",
       "    </tr>\n",
       "    <tr>\n",
       "      <th>187</th>\n",
       "      <td></td>\n",
       "      <td>200</td>\n",
       "    </tr>\n",
       "    <tr>\n",
       "      <th>188</th>\n",
       "      <td></td>\n",
       "      <td>200</td>\n",
       "    </tr>\n",
       "    <tr>\n",
       "      <th>189</th>\n",
       "      <td>h</td>\n",
       "      <td>200</td>\n",
       "    </tr>\n",
       "    <tr>\n",
       "      <th>191</th>\n",
       "      <td>848m@j</td>\n",
       "      <td>200</td>\n",
       "    </tr>\n",
       "    <tr>\n",
       "      <th>193</th>\n",
       "      <td>r=</td>\n",
       "      <td>200</td>\n",
       "    </tr>\n",
       "  </tbody>\n",
       "</table>\n",
       "<p>82 rows × 2 columns</p>\n",
       "</div>"
      ],
      "text/plain": [
       "      message status\n",
       "0           m    200\n",
       "2     h#3c-.n    200\n",
       "4         i&#    200\n",
       "8    xb o4&6j    200\n",
       "9        7ztz    200\n",
       "..        ...    ...\n",
       "187              200\n",
       "188              200\n",
       "189        h     200\n",
       "191    848m@j    200\n",
       "193        r=    200\n",
       "\n",
       "[82 rows x 2 columns]"
      ]
     },
     "execution_count": 54,
     "metadata": {},
     "output_type": "execute_result"
    }
   ],
   "source": [
    "df[df['status'] == '200']"
   ]
  },
  {
   "cell_type": "code",
   "execution_count": 49,
   "id": "78bb2d10",
   "metadata": {},
   "outputs": [
    {
     "data": {
      "text/plain": [
       "82"
      ]
     },
     "execution_count": 49,
     "metadata": {},
     "output_type": "execute_result"
    }
   ],
   "source": [
    "import pandas as pd\n",
    "\n",
    "df = pd.DataFrame(clean_logs)\n",
    "\n",
    "\n",
    "df['status'] = df['status'].astype(str)\n",
    "\n",
    "df[df['status'] == '200'].shape[0]"
   ]
  },
  {
   "cell_type": "code",
   "execution_count": 42,
   "id": "bfaae2cc",
   "metadata": {},
   "outputs": [
    {
     "data": {
      "text/plain": [
       "231"
      ]
     },
     "execution_count": 42,
     "metadata": {},
     "output_type": "execute_result"
    }
   ],
   "source": [
    "len(log_data_test_1)"
   ]
  },
  {
   "cell_type": "code",
   "execution_count": 35,
   "id": "dietary-today",
   "metadata": {},
   "outputs": [],
   "source": [
    "log_data_test_1 = '{\"message\": \"m\", \"status\": 200}\\n{\"message\": \"\"\\n, \"status\": \"\"}\\n{\"message\": \"zq&\", \"status\": \"foo\"}\\n{\"message\": \"h#3c-.n\", \"status\": 200}\\n{\"message\": \",\"}\\n{\"message\": \"i&#\", \"status\": \"200\"}\\n{\"message\": \"t^&=\", \"status\": \"\"}\\n{\"message\": \"@n7!cgd\", \"status\": \"bar\"}\\n{\"message\": \"lex wxyt\", \"status\": null}\\n{\"message\": \"xb o4&6j\", \"status\": 200}\\n{\"message\": \"7ztz\", \"status\": \"200\"}\\n{\"message\": \"rvn5\", \"status\": \"2o0\"}\\n{\"message\": \"-ji& ,$v\", \"status\": 200}\\n{\"message\": \"r j\\ny\", \"status\": \"\"}\\n{\"message\": \"p606v\", \"status\": \"200\"}\\n{\"message\": \"ay\", \"status\": \"2o0\"}\\n{\"message\": \"-8d#sw5d\", \"status\": \"2o0\"}\\n{\"message\": \"7a,90zrh\", \"status\": \"200\"}\\n{\"message\": \"zs$ ne3f\", \"status\": \"2o0\"}\\n{\"message\": \"\", \"status\": \"418\"}\\n{\"message\": \"&\", \"status\": \"200\"}\\n{\"message\": \"7+mfdf&!\", \"status\": \"200\"}\\n{\"message\": \"\", \"status\": \"200\"}\\n{\"message\": \".#\"}\\n{\"message\": \"o\", \"status\": \"200\"}\\n{\"message\": \" \", \"status\": \"305\"}\\n{\"message\": \"jf6li^\", \"status\": \"\"}\\n{\"message\": \"x+q\"}\\n{\"message\": \"lu+s\", \"status\": \"200\"}\\n{\"message\": \"sb,q%zjz\", \"status\": null}\\n{\"message\": \"\", \"status\": \"2o0\"}\\n{\"message\": \" \", \"status\": \"\"}\\n{\"message\": \"sos\", \"status\": \"\"}\\n{\"message\": \"8yr \", \"status\": 200}\\n{\"message\": \"4&\", \"status\": \"200\"}\\n{\"message\": \"w t\"}\\n{\"message\": \"lqr#\", \"status\": null}\\n{\"message\": \"o@m\", \"status\": 200}\\n{\"message\": \"\", \"status\": \"2o0\"}\\n{\"message\": \"he\", \"status\": 200}\\n{\"message\": \"z\", \"status\": \"200\"}\\n{\"message\": \"@!\", \"status\": null}\\n{\"message\": \"v954lsg\", \"status\": \"200\"}\\n{\"message\": \"0%^#h\", \"status\": \"\"}\\n{\"message\": \"\", \"status\": \"418\"}\\n{\"message\": \"tpa\", \"status\": \"foo\"}\\n{\"message\": \"n8o,+%v \", \"status\": null}\\n{\"message\": \"env%w \\n\", \"status\": \"200\"}\\n{\"message\": \"0\", \"status\": \"200\"}\\n{\"message\": \"@d\"}\\n{\"message\"\\n: \"3m3 .x\"}\\n{\"message\": \"\", \"status\": \"404\"}\\n{\"message\": \"=\", \"status\": null}\\n{\"message\": \"8\", \"status\": \"200\"}\\n{\"message\": \"\", \"status\": 200}\\n{\"message\": \", j#\\n\", \"status\": null}\\n{\"message\": \"n4 bz\", \"status\": 200}\\n{\"message\": \"aeg=pg\"}\\n{\"message\": \"wval\", \"status\": 200}\\n{\"message\": \"x=uv6j3\", \"status\": 200}\\n{\"message\": \"6,\", \"status\": \"200\"}\\n{\"message\": \"\", \"status\": 200}\\n{\"message\": \"9ih\", \"status\": \"200\"}\\n{\"message\": \" d% -fiy\", \"status\": \"200\"}\\n{\"message\": \"%6br\"}\\n{\"message\": \"\", \"status\": 404}\\n{\"message\": \"c+z\", \"status\": \"foo\"}\\n{\"message\": \"j\", \"status\": 305}\\n{\"message\": \"\", \"status\": \"404\"}\\n{\"message\": \"y\", \"status\": \"2o0\"}\\n{\"message\": \"\", \"status\": 200}\\n{\"message\": \"5hf\", \"status\": \"204\"}\\n{\"message\": \"#@=&4\", \"status\": 404}\\n{\"message\": \"oxhaw\"}\\n{\"message\": \"u rcd\\ny\", \"status\": 305}\\n{\"message\": \"mq.7w6u\\n.\", \"status\": \"200\"}\\n{\"message\": \"$p6\", \"status\": \"foo\"}\\n{\"message\": \"^uuh!l.\", \"status\": \"204\"}\\n{\"message\": \"g-#j9n\\nys\", \"status\": null}\\n{\"message\": \" i6\", \"status\": 305}\\n{\"message\": \"% pp!4b \", \"status\": 200}\\n{\"message\": \"p,9%\", \"status\": \"\"}\\n{\"message\": \"mo= d6\", \"status\": 200}\\n{\"message\": \" 6klp+a\", \"status\": 204}\\n{\"message\": \"f!8tx\", \"status\": 200}\\n{\"message\": \"tbe+xbq\", \"status\": 200}\\n{\"message\": \"p\", \"status\": \"2o0\"}\\n{\"message\": \"s#vkch\", \"status\": \"\"}\\n{\"message\": \"c6a e\", \"status\": null}\\n{\"message\": \"&se-y9t\", \"status\": \"200\"}\\n{\"message\": \"qjd6--\"}\\n{\"message\": \"-5a.\", \"status\": 200}\\n{\"message\": \",57h% +p\"}\\n{\"message\": \"\", \"status\": \"305\"}\\n{\"message\": \"v\", \"status\": \"200\"}\\n{\"message\": \"s%g9a \", \"status\": 200}\\n{\"message\": \"&j-  h\", \"status\": null}\\n{\"message\": \"j.-p\", \"status\": \"bar\"}\\n{\"message\": \"7i9 , &\", \"status\": \"\"}\\n{\"message\": \"#0 wzjo\", \"status\": \"200\"}\\n{\"message\": \"\"}\\n{\"message\": \"-rr\", \"status\": \"200\"}\\n{\"message\": \"jx pibdc\", \"status\": \"200\"}\\n{\"message\": \"7e y&aku\", \"status\": \"200\"}\\n{\"message\": \"4sury-\", \"status\": \"200\"}\\n{\"message\": \"097\", \"status\": \"502\"}\\n{\"message\": \"3xde\"}\\n{\"message\": \"\", \"status\": null}\\n{\"message\": \"\", \"status\": \"2o0\"}\\n{\"message\": \"i+ &^0\", \"status\": 200}\\n{\"message\": \"0ns7#5\", \"status\": \"\"}\\n{\"message\": \"c&vr@.\", \"status\": \"2o0\"}\\n{\"message\": \"tnm\", \"status\": 200}\\n{\"message\": \"-j#hd\", \"status\": 200}\\n{\"message\": \"dln9lo6\", \"status\": 200}\\n{\"message\": \".%i\", \"status\": null}\\n{\"message\": \"zmm63\", \"status\": \"418\"}\\n{\"message\": \"\", \"status\": \"200\"}\\n{\"message\": \"9#\",\\n \"status\": \"2o0\"}\\n{\"message\": \"ha7\", \"status\": 200}\\n{\"message\": \"x4z\", \"status\": 200}\\n{\"message\": \"77^,08\", \"status\": \"200\"}\\n{\"message\": \"3 &\", \"status\": null}\\n{\"message\": \"wq\", \"status\": \"\"}\\n{\"message\": \"llb=\", \"status\": \"200\"}\\n{\"message\": \"k\", \"status\": 200}\\n{\"message\": \"lq,brx+\", \"status\": 305}\\n{\"message\": \"\", \"status\": \"200\"}\\n{\"message\": \"n5+s7\", \"status\": \"404\"}\\n{\"message\": \" c\", \"status\": 200}\\n{\"message\": \" q,% 5\", \"status\": \"200\"}\\n{\"message\": \"mu5%kfo\", \"status\": 200}\\n{\"message\": \" t\", \"status\": null}\\n{\"message\": \"n\", \"status\": \"200\"}\\n{\"message\": \"\", \"status\": \"200\"}\\n{\"message\": \"y&mpx\\nrw\", \"status\": 200}\\n{\"message\": \"a\"}\\n{\"message\": \"eyo!h88\", \"status\": 200}\\n{\"message\": \"8kkr0 m\", \"status\": \"\"}\\n{\"message\": \"7,q\\n \", \"status\": \"\"}\\n{\"message\": \"c\", \"status\": null}\\n{\"message\": \"\", \"status\": \"200\"}\\n{\"message\": \"\", \"status\": 200}\\n{\"message\": \"vj\", \"status\": \"200\"}\\n{\"message\": \"i\", \"status\": 418}\\n{\"message\": \"j%\", \"status\": null}\\n{\"message\": \"8koqzz\\ne\", \"status\": \"200\"}\\n{\"message\": \"loqz^h.q\"}\\n{\"message\": \"##t677\", \"status\": 200}\\n{\"message\": \"rr8=\"}\\n{\"message\": \"75\", \"status\": null}\\n{\"message\": \"y-c!@u58\", \"status\": null}\\n{\"message\": \" w-\", \"status\": 200}\\n{\"message\": \"n!0 f67k\", \"status\": \"204\"}\\n{\"message\": \"4  \", \"status\": \"2o0\"}\\n{\"message\": \"z%nu3gkg\", \"status\": null}\\n{\"message\": \"sxbz\", \"status\": \"\"}\\n{\"message\": \"c6g\"}\\n{\"message\": \"m669\", \"status\": \"200\"}\\n{\"message\": \"0d\", \"status\": \"foo\"}\\n{\"message\": \"^xmg5 o\\np\", \"status\": \"bar\"}\\n{\"message\": \"l\", \"status\": 200}\\n{\"message\": \"e5\", \"status\": \"bar\"}\\n{\"message\": \"v0bnch8\", \"status\": 404}\\n{\"message\": \".m\", \"status\": 200}\\n{\"message\": \".e-\"}\\n{\"message\": \"c6\", \"status\": \"200\"}\\n{\"message\": \"b 3ms\\n\", \"status\": null}\\n{\"message\": \",\", \"status\": 200}\\n{\"message\": \"z!n\", \"status\": null}\\n{\"message\": \"\", \"status\": 200}\\n{\"message\": \"q cedp\", \"status\": \"418\"}\\n{\"message\": \"4@ u d+\", \"status\": \"foo\"}\\n{\"message\": \"\", \"status\": \"200\"}\\n{\"message\": \"i8\", \"status\": null}\\n{\"message\": \"ng&g\", \"status\": 404}\\n{\"message\": \"#\",\\n \"status\": \"200\"}\\n{\"message\": \"%^a&fa# \", \"status\": \"\"}\\n{\"message\": \"\", \"status\": \"2o0\"}\\n{\"message\": \" n .j9s\"}\\n{\"message\": \"qy@yr6@\"}\\n{\"message\": \"\", \"status\": \"305\"}\\n{\"message\": \"j3%\", \"status\": \"200\"}\\n{\"message\": \"\"}\\n{\"message\": \"&@\", \"status\": \"200\"}\\n{\"message\": \"\", \"status\": \"foo\"}\\n{\"message\": \"\", \"status\": null}\\n{\"message\": \"-w4!n\"}\\n{\"messag\\ne\": \"8\"}\\n{\"message\": \"=ss\"}\\n{\"message\": \"d. \"}\\n{\"message\": \",h\"}\\n{\"message\": \"uzu^q\", \"status\": 200}\\n{\"message\": \"vf9j&a\", \"status\": \"200\"}\\n{\"message\": \"j\", \"status\": 200}\\n{\"message\": \"pn9,\"}\\n{\"message\": \"0g08cn\", \"status\": \"\"}\\n{\"message\": \"kr\", \"status\": 502}\\n{\"message\": \"mg5foy.\", \"status\": null}\\n{\"message\": \"4\", \"status\": 305}\\n{\"message\": \"j9x7tndg\", \"status\": null}\\n{\"message\": \"-x%\", \"status\": 502}\\n{\"message\": \"@jx^&k\"}\\n{\"message\": \"\", \"status\": \"200\"}\\n{\"message\": \"\", \"status\": \"200\"}\\n{\"message\": \"h \", \"status\": 200}\\n{\"message\": \"8cudb\\n\", \"status\": \"2o0\"}\\n{\"message\": \"ikul&k\", \"status\": null}\\n{\"message\": \"848m@j\", \"status\": 200}\\n{\"message\": \"\",\\n \"status\": null}\\n{\"message\": \"34^,\"}\\n{\"message\": \"r=\", \"status\": 200}\\n{\"message\": \" a-m%b#%\", \"status\": null}'.strip().split('\\n')\n",
    "result_test_1 = (82, 26, 22, 65, 36)"
   ]
  },
  {
   "cell_type": "code",
   "execution_count": 3,
   "id": "continent-funds",
   "metadata": {},
   "outputs": [],
   "source": [
    "log_data_test_2 = '{\"message\": \"c\", \"status\": 200}\\n{\"message\": \"w&pj \", \"status\": \"bar\"}\\n{\"message\": \"gdw \", \"status\": null}\\n{\"message\": \"^\", \"status\": \"bar\"}\\n{\"message\": \"c+g8m+\", \"status\": \"502\"}\\n{\"message\": \"o\", \"status\": \"200\"}\\n{\"message\": \"9b\", \"status\": 200}\\n{\"message\": \"d!w@^nd4\", \"status\": \"foo\"}\\n{\"message\": \"c@ $9#mw\", \"status\": 200}\\n{\"message\": \" &tr\"}\\n{\"message\": \"9t3&\", \"status\": \"2o0\"}\\n{\"message\": \"5mo\", \"status\": null}\\n{\"message\": \"ju8\", \"status\": 200}\\n{\"message\": \".aky@f \\n-\", \"status\": \"200\"}\\n{\"message\": \"mf\", \"status\": 200}\\n{\"message\": \"d36\", \"status\": \"200\"}\\n{\"message\": \"\", \"status\": \"\"}\\n{\"message\": \"\", \"status\": 305}\\n{\"message\": \"8\", \"status\": \"200\"}\\n{\"message\": \"fivca9&r\", \"status\": \"200\"}\\n{\"message\": \"hs@uvyk \", \"status\": \"\"}\\n{\"message\": \"#\", \"status\": null}\\n{\"message\": \"u\", \"status\": 200}\\n{\"message\": \"au0@!tv\"}\\n{\"message\": \"\", \"status\": 418}\\n{\"message\": \"f\", \"status\": 200}\\n{\"message\": \"jb\", \"status\": \"\"}\\n{\"message\": \"\", \"status\": \"\"}\\n{\"message\": \"c fw$o,!\"}\\n{\"message\": \"\", \"status\": \"200\"}\\n{\"message\": \" ,u9  n@\"}\\n{\"message\": \"a \", \"status\": \"\"}\\n{\"message\": \"7m-l@\", \"status\": \"2o0\"}\\n{\"message\": \"68v4+\", \"status\": \"200\"}\\n{\"message\": \"\", \"status\": null}\\n{\"message\": \"\", \"status\": 200}\\n{\"message\": \"xgdcv!c\", \"status\": null}\\n{\"message\": \"=\", \"status\": 200}\\n{\"message\": \"wajpm\", \"status\": \"200\"}\\n{\"message\": \"m!w w\"}\\n{\"message\": \"r^& \", \"status\": \"305\"}\\n{\"message\": \"kmm5-io\", \"status\": 200}\\n{\"message\": \"# k=0\"}\\n{\"message\": \"j-@,0^\", \"status\": \"200\"}\\n{\"message\": \"z-wl=\", \"status\": \"200\"}\\n{\"message\": \"y\"}\\n{\"message\": \"f8@8@\", \"status\": \"200\"}\\n{\"message\": \"%o$\", \"status\": \"\"}\\n{\"message\": \" 5!j\\n\", \"status\": null}\\n{\"message\": \"q6h$0$5i\", \"status\": \"200\"}\\n{\"message\": \"k\", \"status\": \"200\"}\\n{\"message\": \"\", \"status\": 204}\\n{\"message\": \"rl3sx \", \"status\": 200}\\n{\"message\": \" o\", \"status\": \"200\"}\\n{\"message\": \" cvlim \", \"status\": 404}\\n{\"message\": \"t\"\\n, \"status\": \"\"}\\n{\"message\": \"\", \"status\": \"200\"}\\n{\"message\": \"w ! t\", \"status\": \"2o0\"}\\n{\"message\": \"z\", \"status\": \"200\"}\\n{\"message\": \",-\"}\\n{\"message\": \"0lnyh\", \"status\": \"200\"}\\n{\"message\": \"roq 4#^\"}\\n{\"message\": \"-\", \"status\": 200}\\n{\"message\": \"3gx95\", \"status\": \"bar\"}\\n{\"message\": \"7+.i\", \"status\": \"\"}\\n{\"message\": \"rh\", \"status\": null}\\n{\"message\": \"\"}\\n{\"message\": \"0- 3ekf\", \"status\": 200}\\n{\"message\": \"\", \"status\": 200}\\n{\"message\": \"k b8\\n\", \"status\": null}\\n{\"message\": \"qm7v\\n\", \"status\": null}\\n{\"message\": \"3rz.jke\", \"status\": \"200\"}\\n{\"message\": \"r$m\", \"status\": null}\\n{\"message\": \"@v\"}\\n{\"message\": \"e \", \"status\": \"200\"}\\n{\"message\": \"\", \\n\"status\": \"200\"}\\n{\"message\": \" ygdxo&s\", \"status\": \"200\"}\\n{\"message\": \"z8os%-9e\", \"status\": null}\\n{\"message\": \"4vm\", \"status\": \"200\"}\\n{\"message\": \"0yjyl\", \"status\": \"2o0\"}\\n{\"message\": \"im =grs#\"}\\n{\"message\": \" p9wi3r\"}\\n{\"message\": \"!\", \"status\": \"200\"}\\n{\"message\": \"kmw8g\", \"status\": \"200\"}\\n{\"message\": \"l\", \"status\": 305}\\n{\"message\": \"  98c\", \"status\": 502}\\n{\"message\": \"r\",\\n \"status\": \"200\"}\\n{\"message\": \"as q5ao8\", \"status\": 200}\\n{\"message\": \"gq9fk\", \"status\": 418}\\n{\"message\": \"o^l\", \"status\": \"204\"}\\n{\"message\": \"\", \"status\": \"2o0\"}\\n{\"message\": \"\", \"status\": 418}\\n{\"message\": \"c\", \"status\": \"200\"}\\n{\"message\": \"0754^, g\", \"status\": 418}\\n{\"message\": \"z&k,qe 7\", \"status\": \"2o0\"}\\n{\"message\": \". \", \"status\": 200}\\n{\"message\": \"w0!pzpye\", \"status\": \"418\"}\\n{\"message\": \"t\", \"status\": 204}\\n{\"message\": \"@\", \"status\": \"200\"}\\n{\"message\": \"0 f\", \"status\": 200}\\n{\"message\": \"\", \"status\": 200}\\n{\"message\": \" 7\", \"status\": null}\\n{\"message\": \"!,-mtr\\nn\", \"status\": \"2o0\"}\\n{\"message\": \"4n=e\", \"status\": null}\\n{\"message\": \"0po\", \"status\": \"200\"}\\n{\"message\": \" nubdq\", \"status\": \"200\"}\\n{\"message\": \".0i!u\", \"status\": 200}\\n{\"message\": \"jn+\", \"status\": 200}\\n{\"message\": \"6#5r\"\\n, \"status\": \"418\"}\\n{\"message\": \"!!!h,p=o\", \"status\": \"502\"}\\n{\"message\": \"g\",\\n \"status\": \"418\"}\\n{\"message\": \"3s@\", \"status\": 200}\\n{\"message\": \"0s9,\", \"status\": \"\"}\\n{\"message\": \"54#uxme\", \"status\": null}'.strip().split('\\n')\n",
    "result_test_2 = (47, 15, 10, 32, 20)"
   ]
  },
  {
   "cell_type": "code",
   "execution_count": 4,
   "id": "female-gravity",
   "metadata": {},
   "outputs": [],
   "source": [
    "log_data_test_3 = '{\"message\": \"#vcick\", \"status\": \"200\"}\\n{\"message\": \"r,#7a4mc\", \"status\": 200}\\n{\"message\": \"@cn9rt\", \"status\": null}\\n{\"message\": \"ib5q  $\", \"status\": 200}\\n{\"message\": \"mi ^mbk\", \"status\": \"200\"}\\n{\"message\": \"-7+v\"\\n, \"status\": \"200\"}\\n{\"message\": \"z\"}\\n{\"message\": \"x,b^$pz\", \"status\": \"204\"}\\n{\"message\": \"sw zi  \", \"status\": 200}\\n{\"message\": \"i=n\"}\\n{\"message\": \"rw\", \"status\": 502}\\n{\"message\": \"yr  f\", \"status\": \"\"}\\n{\"message\": \"\", \\n\"status\": \"200\"}\\n{\"message\": \"\", \"status\": \"200\"}\\n{\"message\": \"z,!q\", \"status\": \"200\"}\\n{\"message\": \".r0% t\", \"status\": \"200\"}\\n{\"message\": \"e$l\", \"status\": 305}\\n{\"message\": \"de #0\", \"status\": \"502\"}\\n{\"message\": \"0a\", \"status\": 200}\\n{\"message\": \"pv9\", \"status\": 204}\\n{\"message\": \"b%$d9+y\", \"status\": 200}\\n{\"message\": \"mc\"}\\n{\"message\": \"%gsi\", \"status\": 200}\\n{\"message\": \"6r^h\", \"status\": 502}\\n{\"message\": \"7\", \"status\": 200}\\n{\"message\": \"p\", \"status\": 502}\\n{\"message\": \"\", \"status\": \"200\"}\\n{\"message\": \"7ffitf6\"}\\n{\"message\": \"i\", \"status\": 200}\\n{\"message\": \"p3venf!m\", \"status\": \"200\"}\\n{\"message\": \"fc9\", \"status\": 200}\\n{\"message\": \"w\", \"status\": null}\\n{\"message\": \"9.y6\", \"status\": 200}\\n{\"message\": \"=\", \"status\": null}\\n{\"message\": \". 3i\", \"status\": \"200\"}\\n{\"message\": \"  \", \"status\": \"200\"}\\n{\"message\": \"3v@a@e\", \"status\": null}\\n{\"message\": \"!g+r\", \"status\": \"200\"}\\n{\"message\": \"   3nc^\", \"status\": \"200\"}\\n{\"message\": \"rxat&g\", \"status\": \"2o0\"}\\n{\"message\": \"%\", \"status\": \"200\"}\\n{\"message\": \"zx=s\", \"status\": \"\"}\\n{\"message\": \"\",\\n \"status\": null}\\n{\"message\": \" +\"}\\n{\"message\": \"\", \"status\": \"200\"}\\n{\"message\": \"mz^\"}\\n{\"message\": \"p^9ush@m\"}\\n{\"message\": \" cqr\", \"status\": 305}\\n{\"message\": \"wavm9p\", \"status\": \"200\"}\\n{\"message\": \"atu\"}'.strip().split('\\n')\n",
    "result_test_3 = (24, 8, 1, 14, 6)"
   ]
  },
  {
   "cell_type": "code",
   "execution_count": 5,
   "id": "described-tsunami",
   "metadata": {},
   "outputs": [],
   "source": [
    "log_data_test_4 = '{\"message\": \"09\", \"status\": 502}\\n{\"message\": \"\", \"status\": \"2o0\"}\\n{\"message\": \"i99\", \"status\": 204}\\n{\"message\": \"\", \"status\": null}\\n{\"message\": \"\", \"status\": 200}\\n{\"message\": \"=qonk\", \"status\": \"2o0\"}\\n{\"message\": \"!ady-$\", \"status\": \"404\"}\\n{\"message\": \",m.k\", \"status\": \"bar\"}\\n{\"message\": \" g \", \"status\": null}\\n{\"message\": \"5h=t @\", \"status\": null}\\n{\"message\": \"w\", \"status\": null}\\n{\"message\": \"z\", \"status\": \"200\"}\\n{\"message\": \"\", \"status\": 305}\\n{\"message\": \"lzy0\"\\n, \"status\": \"200\"}\\n{\"message\": \"w+jnjh0\"}\\n{\"message\": \"o88j$y\", \"status\": \"200\"}\\n{\"message\": \"0^g,\", \"status\": \"200\"}\\n{\"message\": \"s6!0^gb\", \"status\": null}\\n{\"message\": \"&y3\", \"status\": \"200\"}\\n{\"message\": \"$c&\\n\", \"status\": 200}\\n{\"message\": \"g57 \", \"status\": \"418\"}\\n{\"message\": \"f \", \"status\": 200}\\n{\"message\": \"y#hlp&\", \"status\": \"2o0\"}\\n{\"message\": \"+\", \"status\": \"418\"}\\n{\"message\": \"3^e\", \"status\": \"404\"}\\n{\"message\": \"\"}\\n{\"message\": \"zm^c#!\\np=\", \"status\": 502}\\n{\"message\": \"zp-r\", \"status\": 204}\\n{\"message\": \"\", \"status\": 200}\\n{\"message\": \"gf0fg\\neu\", \"status\": 200}\\n{\"message\": \"3j\", \"status\": null}'.strip().split('\\n')\n",
    "result_test_4 = (7, 8, 4, 8, 8)"
   ]
  },
  {
   "cell_type": "code",
   "execution_count": 6,
   "id": "dominican-expansion",
   "metadata": {},
   "outputs": [],
   "source": [
    "log_data_test_5 = '{\"message\": \"m\", \"status\": \"200\"}\\n{\"message\": \"f+%0xp 0\", \"status\": 200}\\n{\"message\": \"% kl\", \"status\": \"418\"}\\n{\"message\": \"oq\", \"status\": null}\\n{\"message\": \"k\", \"status\": \"200\"}\\n{\"message\": \"knxrk\", \"status\": 404}\\n{\"message\": \"bc8^\", \"status\": \"200\"}\\n{\"message\": \"8\", \"status\": \"200\"}\\n{\"message\": \" 9+n#\", \"status\": \"200\"}\\n{\"message\": \"78b&\", \"status\": \"2o0\"}\\n{\"message\": \"awyf8.#\", \"status\": \"\"}\\n{\"message\": \"lq7hsi\", \"status\": \"200\"}\\n{\"message\": \"6ki\", \"status\": 502}\\n{\"message\": \"m 8\", \"status\": 305}\\n{\"message\": \"!wd%p\\nb\", \"status\": null}\\n{\"message\": \",e0tz\", \"status\": null}\\n{\"message\": \"997k@u\", \"status\": \"200\"}\\n{\"message\": \"6 \"\\n, \"status\": 204}\\n{\"message\": \"wplxu\", \"status\": \"200\"}\\n{\"message\": \"i\", \"status\": \"\"}\\n{\"message\": \"pcv5. t@\", \"status\": \"200\"}\\n{\"message\": \"u,grq\", \"status\": null}\\n{\"message\": \"=se\", \"status\": \"200\"}\\n{\"message\": \"m6jls!\", \"status\": \"404\"}\\n{\"message\": \"&a%wnu-\", \"status\": \"foo\"}\\n{\"message\": \"%\", \"status\": \"\"}\\n{\"message\": \".\", \"status\": \"2o0\"}\\n{\"message\": \"rv\", \"status\": \"200\"}\\n{\"message\": \".@-o\", \"status\": 204}\\n{\"message\": \"$wc=-3\", \"status\": 200}\\n{\"message\": \"h\", \"status\": \"502\"}\\n{\"message\": \"au9qo40\", \"status\": \"2o0\"}\\n{\"message\": \"!,zq\", \"status\": 200}\\n{\"message\": \"c^p!\\n\", \"status\": 200}\\n{\"message\": \"4#-l8\", \"status\": \"200\"}\\n{\"message\": \"@47 +\", \"status\": 404}\\n{\"message\": \" \", \"status\": \"\"}\\n{\"message\": \"\", \"status\": null}\\n{\"message\": \"4\", \"status\": \"\"}\\n{\"message\": \"=o\", \"status\": null}\\n{\"message\": \"dm \"\\n, \"status\": \"305\"}\\n{\"message\": \"!6z\"\\n, \"status\": \"200\"}\\n{\"message\": \"j0 $ i\", \"status\": \"\"}\\n{\"message\": \"n7zt0\", \"status\": \"200\"}\\n{\"message\": \"\",\\n \"status\": 200}\\n{\"message\": \"u\", \"status\": \"200\"}\\n{\"message\": \"h=\", \"status\": \"2o0\"}\\n{\"message\": \"a$j\\n\", \"status\": 418}\\n{\"message\": \"ixv@ \", \"status\": \"2o0\"}\\n{\"message\": \"\", \"status\": \"404\"}\\n{\"message\": \"hq,s0\", \"status\": 404}\\n{\"message\": \"0b+nr#l\", \"status\": 200}\\n{\"message\": \"kw z\", \"status\": 502}\\n{\"message\": \"mul+\", \"status\": \"\"}\\n{\"message\": \" \", \"status\": \"\"}\\n{\"message\": \"5r vu\", \"status\": null}\\n{\"message\": \"a\", \"status\": \"2o0\"}\\n{\"message\": \"gzs4\"}\\n{\"message\": \"c\", \"status\": 200}\\n{\"message\": \"8zkk\", \"status\": \"200\"}\\n{\"message\": \"um\", \"status\": 200}\\n{\"message\": \"g\",\\n \"status\": \"305\"}\\n{\"message\": \"g0&nb\"}\\n{\"message\": \"n\", \"status\": null}\\n{\"message\": \"0.g\", \"status\": 200}\\n{\"message\": \"xv\", \"status\": 200}\\n{\"message\": \"cme&ez\"}\\n{\"message\": \"07ti\", \"status\": \"\"}\\n{\"message\": \"-3$e@yh\", \"status\": \"200\"}\\n{\"message\": \".w%l\"}\\n{\"message\": \"09$hs,+\", \"status\": 200}\\n{\"message\": \"v$h3fe\", \"status\": \"200\"}\\n{\"message\": \"jjn\", \"status\": \"200\"}\\n{\"message\": \" .gh7\", \"status\": null}\\n{\"message\": \"j% \", \"status\": null}\\n{\"message\": \"d@mcd=\", \"status\": null}\\n{\"message\": \"af3,k7\", \"status\": \"200\"}\\n{\"message\": \"09czbpli\", \"status\": \"foo\"}\\n{\"message\": \"7#\", \"status\": 200}\\n{\"message\": \".bne\", \"status\": 200}\\n{\"message\": \",tl6\", \"status\": \"200\"}\\n{\"message\": \" 8\", \"status\": \"\"}\\n{\"message\": \"yod8@\\n\", \"status\": null}\\n{\"message\": \",z&&s9\", \"status\": \"\"}\\n{\"message\": \"i\", \"status\": \"404\"}\\n{\"message\": \"\", \"status\": 200}\\n{\"message\": \"\", \"status\": \"502\"}\\n{\"message\": \"f,5\", \"status\": 200}\\n{\"message\": \"t#gso7s\", \"status\": \"2o0\"}\\n{\"message\": \"\",\\n \"status\": 200}\\n{\"message\": \" 3\", \"status\": 200}\\n{\"message\\n\": \"ms,\"}\\n{\"message\": \"\", \"status\": \"foo\"}\\n{\"message\": \"\"}\\n{\"message\": \"\", \"status\": \"\"}\\n{\"message\": \"#8c\"\\n, \"status\": \"2o0\"}\\n{\"message\": \"iy\", \"status\": null}\\n{\"message\": \"!l!om3wl\", \"status\": \"200\"}\\n{\"message\": \"h\", \"status\": \"200\"}\\n{\"message\": \"\",\\n \"status\": null}\\n{\"message\": \"l\", \"status\": 200}\\n{\"message\": \"445 @bk\", \"status\": \"\"}\\n{\"message\": \"87dt -\", \"status\": \"404\"}\\n{\"message\": \"s5 e=p\", \"status\": \"502\"}\\n{\"message\": \"e4\", \"status\": 200}\\n{\"message\": \"tjg#g#\", \"status\": \"2o0\"}\\n{\"message\": \"%ir-#o\"}\\n{\"message\": \" %d=5wc\", \"status\": null}\\n{\"message\": \"sl96$r3\", \"status\": 200}\\n{\"message\": \"\", \"status\": 404}\\n{\"message\": \"\", \"status\": 200}\\n{\"message\": \"x robe,\", \"status\": 200}\\n{\"message\": \"l j$\", \"status\": 200}\\n{\"message\": \"\", \"status\": 200}\\n{\"message\": \"c9i\"}\\n{\"message\": \"c!^9 46 \", \"status\": 200}\\n{\"message\": \"v0@& \\n\", \"status\": \"200\"}\\n{\"message\": \"#$zn7z\", \"status\": \"418\"}\\n{\"message\": \"% p@!5.d\", \"status\": \"foo\"}\\n{\"message\": \"axbw7   \", \"status\": \"2o0\"}\\n{\"message\": \"d95noh\", \"status\": \"foo\"}\\n{\"message\": \"tgv\", \"status\": \"bar\"}\\n{\"message\": \"8wfak@\", \"status\": \"\"}\\n{\"message\": \"3^gpklm&\", \"status\": \"200\"}\\n{\"message\": \"mljp.\", \"status\": null}\\n{\"message\": \"xj\", \"status\": \"200\"}\\n{\"message\": \"&+ufo.\", \"status\": null}\\n{\"message\": \" @o\", \"status\": \"\"}\\n{\"message\": \"u\", \"status\": \"\"}\\n{\"message\": \"^\", \"status\": \"200\"}\\n{\"message\": \"!.!j&p,r\", \"status\": 200}\\n{\"message\": \"r.8,\\n\", \"status\": null}\\n{\"message\": \"oq\", \"status\": \"2o0\"}\\n{\"message\": \"b\"}\\n{\"message\": \"k p m0\", \"status\": 418}\\n{\"message\": \"h=$ex n\", \"status\": 200}\\n{\"message\": \"@a$9j\", \"status\": null}\\n{\"message\": \"bv ^=ez \", \"status\": \"200\"}\\n{\"message\": \"\", \"status\": null}\\n{\"message\": \"0 m\", \"status\": \"305\"}\\n{\"message\": \"\", \\n\"status\": \"305\"}\\n{\"message\": \"dbjt \", \"status\": 502}\\n{\"message\": \"tqr\", \"status\": 200}\\n{\"message\": \"f j f50u\", \"status\": \"\"}\\n{\"message\": \"y@0v\", \"status\": 200}\\n{\"message\": \"\", \"status\": \"2o0\"}\\n{\"message\": \"\", \"status\": 200}\\n{\"message\": \"\", \"status\": 200}\\n{\"message\": \"vdig^c\", \"status\": \"\"}\\n{\"message\": \"+l!ce\", \"status\": \"\"}\\n{\"message\": \"!bnr=v0k\", \"status\": \"\"}\\n{\"message\": \"x&n\", \"status\": \"200\"}\\n{\"message\": \"^59 vcz\"}\\n{\"message\": \"^hzcm d\", \"status\": null}\\n{\"message\": \"\"}\\n{\"message\": \"y!\", \"status\": 305}\\n{\"message\": \"7w@3 \", \"status\": null}\\n{\"message\": \"7mozw&\", \"status\": \"200\"}\\n{\"message\": \"gsu^0\\n\", \"status\": null}\\n{\"message\": \"h\"\\n, \"status\": 200}\\n{\"message\": \"i$#ha w\", \"status\": \"200\"}\\n{\"message\": \"du m+cn\", \"status\": 200}\\n{\"message\": \"^4&&f\", \"status\": \"\"}\\n{\"message\": \"zm\", \"status\": \"200\"}\\n{\"message\": \"\", \"status\": null}\\n{\"message\": \"c\"}\\n{\"message\": \"m\", \"status\": null}\\n{\"message\": \"0 %p\", \"status\": 200}\\n{\"message\": \"@+7\", \"status\": \"200\"}\\n{\"message\": \"\", \"status\": \"200\"}\\n{\"message\": \"58%$05\\nh\", \"status\": null}\\n{\"message\": \"=\",\\n \"status\": \"404\"}\\n{\"message\": \"4@\"}\\n{\"message\": \"y^7\", \"status\": 200}\\n{\"message\": \". a\"}\\n{\"message\": \"dn=,n\\n\", \"status\": \"200\"}\\n{\"message\": \"g^cb^=u\", \"status\": 502}\\n{\"message\": \"^\", \"status\": \"foo\"}\\n{\"message\": \"6mf\"}\\n{\"message\": \"s=zwyfk\", \"status\": null}\\n{\"message\": \"ps\", \"status\": \"204\"}\\n{\"message\": \"\", \"status\": \"200\"}\\n{\"message\": \"\"}\\n{\"message\": \",w46^\\n.%\", \"status\": \"\"}\\n{\"message\": \"ogzh&\", \"status\": \"404\"}\\n{\"message\": \"yane7&\"}\\n{\"message\": \"#q.s!\"}\\n{\"message\": \"cb\"}\\n{\"message\": \"%\"}\\n{\"message\": \"=i\", \"status\": \"200\"}\\n{\"message\": \"x5te\", \"status\": \"foo\"}\\n{\"message\": \"ii0d$ \", \"status\": \"200\"}\\n{\"message\": \"snhs\", \"status\": \"\"}\\n{\"message\": \"@67m4 %\\na\", \"status\": \"2o0\"}\\n{\"message\": \"@^ +d.5w\", \"status\": \"200\"}\\n{\"message\": \"4&4gfd \\n7\", \"status\": \"2o0\"}\\n{\"message\": \" ql\", \"status\": null}\\n{\"message\": \"jh!waw\", \"status\": null}\\n{\"message\": \"c! \", \"status\": 200}\\n{\"message\": \"l48 5\", \"status\": \"2o0\"}\\n{\"message\": \"\", \"status\": \"2o0\"}\\n{\"message\": \"ra= \", \"status\": null}\\n{\"message\": \"tt#\", \"status\": \"\"}\\n{\"message\": \"$,o+i40\", \"status\": 404}\\n{\"message\": \"$oqk\\nz\", \"status\": 200}\\n{\"message\": \"9\", \"status\": 200}\\n{\"message\": \"ep p8 rl\"}\\n{\"message\": \"\", \"status\": \"\"}\\n{\"message\": \"ls+\", \"status\": \"200\"}\\n{\"message\": \"#=p9 \", \"status\": 200}\\n{\"message\": \"\", \"status\": \"200\"}\\n{\"message\": \"sn 6ks@\", \"status\": \"418\"}\\n{\"message\": \".p$cc!\", \"status\": \"200\"}\\n{\"message\": \"%jlr4f8\", \"status\": \"404\"}'.strip().split('\\n')\n",
    "result_test_5 = (73, 27, 21, 68, 50)"
   ]
  },
  {
   "cell_type": "code",
   "execution_count": 7,
   "id": "outstanding-value",
   "metadata": {},
   "outputs": [],
   "source": [
    "log_data_test_6 = '{\"message\": \"nmq^\", \"status\": \"200\"}\\n{\"message\": \"fo\", \"status\": \"200\"}\\n{\"message\": \"3d9-!\", \"status\": null}\\n{\"message\": \"asb6bw9%\"}\\n{\"message\": \"\", \"status\": null}\\n{\"message\": \"^6=swg4\", \"status\": 200}\\n{\"message\": \"d^4m-5\\n\", \"status\": \"bar\"}\\n{\"message\": \"$o6eg.\", \"status\": null}\\n{\"message\": \"\", \\n\"status\": \"200\"}\\n{\"message\": \" \", \"status\": null}\\n{\"message\": \"=\", \"status\": 200}\\n{\"message\": \"=xxtmq\", \"status\": 204}\\n{\"message\": \"5!w$ \", \"status\": \"2o0\"}\\n{\"message\": \"m =3ya\", \"status\": null}\\n{\"message\": \" 7 \"\\n, \"status\": \"2o0\"}\\n{\"message\": \"^fhd so6\", \"status\": \"200\"}\\n{\"message\": \"ax=+3x5\", \"status\": \"200\"}\\n{\"message\": \"d vf^u\\n-\", \"status\": \"305\"}\\n{\"message\": \"ua3j^&f\", \"status\": 200}\\n{\"message\": \"=nt \", \"status\": \"404\"}\\n{\"message\": \"y\"}\\n{\"message\": \"5i,if\", \"status\": \"\"}\\n{\"message\": \"e7o\"}\\n{\"message\": \"\"}\\n{\"message\": \" ya-# q\", \"status\": 200}\\n{\"message\": \"m!6p9h\", \"status\": \"bar\"}\\n{\"message\": \"go-\", \"status\": \"\"}\\n{\"message\": \". \"}\\n{\"message\": \"#\", \"status\": \"200\"}\\n{\"message\": \"aupza\", \"status\": \"200\"}\\n{\"message\": \"bgrp^\", \"status\": 305}\\n{\"message\": \". rz.\", \"status\": \"foo\"}\\n{\"message\": \"$ey\", \"status\": \"502\"}\\n{\"message\": \"x$s\", \"status\": \"2o0\"}\\n{\"message\": \"#c\"}\\n{\"message\": \"@dn%u!\", \"status\": \"204\"}\\n{\"message\": \"xl\", \"status\": 200}\\n{\"message\": \"5&\", \"status\": \"\"}\\n{\"message\": \"4kr5\"\\n, \"status\": \"200\"}\\n{\"message\": \"a\", \"status\": null}\\n{\"message\": \"#laj\"}\\n{\"message\": \"m.@60p0\", \"status\": 200}\\n{\"message\": \"j\", \"status\": \"\"}\\n{\"message\": \"a dmdtw\", \"status\": 200}\\n{\"message\": \"=r$9p\", \"status\": \"404\"}\\n{\"message\": \"0m5\", \"status\": \"200\"}\\n{\"message\": \"#r\", \"status\": \"2o0\"}\\n{\"message\": \"hl\", \"status\": \"200\"}\\n{\"message\": \"+k8q8y &\"}\\n{\"message\": \"  fka\", \"status\": \"305\"}\\n{\"message\": \" a638,bv\"}\\n{\"message\": \"c\"}\\n{\"message\": \"b\",\\n \"status\": \"200\"}\\n{\"message\": \"@-ghuq6\"}\\n{\"message\": \"y\", \"status\": \"\"}\\n{\"message\": \"=\", \"status\": 502}\\n{\"message\": \"^0j \\n\", \"status\": 502}\\n{\"message\": \"hj!-\", \"status\": \"\"}\\n{\"message\": \"mg.k,6\"}\\n{\"message\\n\": \"^=nk\"}\\n{\"message\": \"\", \"status\": \"\"}\\n{\"message\": \"k\", \"status\": 200}\\n{\"message\": \"gpk3pml\", \"status\": 200}\\n{\"message\": \"c\", \"status\": \"200\"}\\n{\"message\": \"# 49ku\", \"status\": 200}\\n{\"message\": \"b\"}\\n{\"message\": \"hs3xzxk\", \"status\": \"bar\"}\\n{\"message\": \"e4 w-s\", \"status\": null}\\n{\"message\": \"\"\\n, \"status\": \"\"}\\n{\"message\": \"mp6j&#kp\", \"status\": 200}\\n{\"message\": \"hvh+s\", \"status\": \"502\"}\\n{\"message\": \",=o \"}\\n{\"message\": \"^85m\"}\\n{\"message\": \"!x,h9$zi\", \"status\": \"2o0\"}\\n{\"message\": \"sq%zw\", \"status\": 200}\\n{\"message\": \"xz=br\", \"status\": \"200\"}\\n{\"message\": \"ti+\", \"status\": 200}\\n{\"message\": \"opags8\", \"status\": \"200\"}\\n{\"message\": \"nz,i\", \"status\": \"2o0\"}\\n{\"message\": \"a 98,\", \"status\": 200}\\n{\"message\": \"t3hn!^hi\", \"status\": \"200\"}\\n{\"message\": \"\", \"status\": \"418\"}\\n{\"message\": \"\", \"status\": \"2o0\"}\\n{\"message\": \"$7j#o0@\", \"status\": null}\\n{\"message\": \"3x\", \"status\": \"200\"}\\n{\"message\": \"+w+qk5\", \"status\": \"200\"}\\n{\"message\": \"#6i\", \"status\": 200}\\n{\"message\": \",,j\", \"status\": 200}\\n{\"message\\n\": \"xy-6\"}\\n{\"message\": \"lci!\", \"status\": \"200\"}\\n{\"message\": \" ^\", \"status\": null}\\n{\"message\": \"o.o, s \", \"status\": 200}\\n{\"message\": \"^5\", \"status\": 502}\\n{\"message\": \" 4qnrm\", \"status\": \"\"}\\n{\"message\": \"4uob8ex\", \"status\": \"200\"}\\n{\"message\": \"zypi4x\", \"status\": \"\"}\\n{\"message\": \"7#n^ 4\", \"status\": 200}\\n{\"message\": \"lrdyk\"}\\n{\"message\": \"%o6\"}\\n{\"message\": \"zv\", \"status\": \"200\"}\\n{\"message\": \"\", \"status\": \"200\"}\\n{\"message\":\\n \"g%8-b=bg\"}\\n{\"message\": \" 6bky\", \"status\": \"2o0\"}\\n{\"messag\\ne\": \"xi\"}\\n{\"message\": \"ppb-,i=\", \"status\": 200}\\n{\"message\": \"&g$k39\", \"status\": \"200\"}\\n{\"message\": \"&rwp\", \"status\": \"200\"}\\n{\"message\": \"x9^t\", \"status\": null}\\n{\"message\": \"m %l\", \"status\": null}\\n{\"message\": \"v#\", \"status\": \"305\"}\\n{\"message\": \"\", \"status\": \"200\"}\\n{\"message\": \"\", \"status\": 200}\\n{\"message\": \"\", \"status\": \"\"}\\n{\"message\": \"%\", \"status\": 502}\\n{\"message\": \"dcm\", \"status\": 200}\\n{\"message\": \"%vy$ p\", \"status\": 200}\\n{\"message\": \"7l!5bl4=\", \"status\": 404}\\n{\"message\": \"ubgc^xr\", \"status\": \"204\"}\\n{\"message\": \"\"}\\n{\"message\": \"r+6fl\", \"status\": \"foo\"}\\n{\"message\": \"gscn#f\\nu\", \"status\": \"404\"}\\n{\"message\": \"zhk&n\", \"status\": null}\\n{\"message\": \",f4t,a7&\", \"status\": null}\\n{\"message\": \"duo\", \"status\": \"404\"}\\n{\"message\": \" p,\", \"status\": 200}\\n{\"message\": \"h9b46\", \"status\": 418}\\n{\"message\": \"4a r3\", \"status\": \"\"}\\n{\"message\": \"r. b$nk\", \"status\": 200}\\n{\"message\": \"km-x-\", \"status\": \"200\"}\\n{\"message\": \"= k^9&o\\n \", \"status\": \"200\"}\\n{\"message\": \"\", \"status\": \"\"}\\n{\"message\": \"y@ 5wgm\", \"status\": 305}\\n{\"message\": \"o@4&\"\\n, \"status\": \"200\"}\\n{\"message\": \"##3\", \"status\": 200}\\n{\"message\": \"5\", \"status\": \"200\"}\\n{\"message\": \"hv\\n\", \"status\": \"\"}\\n{\"message\": \"8\", \"status\": \"2o0\"}\\n{\"message\": \"jdjiugb\", \"status\": \"foo\"}\\n{\"message\": \" rv\", \"status\": \"foo\"}\\n{\"message\": \"sn$ \", \"status\": \"200\"}\\n{\"message\": \"6^k v\", \"status\": \"2o0\"}\\n{\"message\": \"\", \"status\": \"2o0\"}\\n{\"message\": \"as!,dk\", \"status\": 200}\\n{\"message\": \"+8\", \"status\": 305}\\n{\"message\": \"c\", \"status\": \"200\"}\\n{\"message\": \"dke!%\", \"status\": null}\\n{\"message\": \"$tcv=\", \"status\": 200}\\n{\"message\": \" umlq k^\", \"status\": \"200\"}\\n{\"message\": \"+bd\", \"status\": \"200\"}\\n{\"message\": \"^d\", \"status\": null}\\n{\"message\": \"ym#\", \"status\": \"502\"}\\n{\"message\": \"4-0xuteq\", \"status\": \"200\"}\\n{\"message\": \"x  r#n4$\", \"status\": null}\\n{\"message\": \"88^i\", \"status\": 200}\\n{\"message\": \"rb \", \"status\": \"502\"}\\n{\"message\": \"0a^&#\\n\", \"status\": null}\\n{\"message\": \"a#p,  %@\"}\\n{\"message\": \" lb\", \"status\": 200}\\n{\"message\": \"dg$\", \"status\": \"200\"}\\n{\"message\": \"i 05\", \"status\": \"2o0\"}\\n{\"message\": \"xqnc0j\\n\", \"status\": \"418\"}\\n{\"message\": \"r3m.iy\", \"status\": \"\"}\\n{\"message\": \"z8yu0ky\", \"status\": \"\"}\\n{\"message\": \"3vqb\", \"status\": \"200\"}\\n{\"message\": \"q,qi$p@e\", \"status\": \"200\"}\\n{\"message\": \"76=&u u\", \"status\": 200}\\n{\"message\": \"8tn\", \"status\": 200}\\n{\"message\": \"8oc\", \"status\": \"418\"}\\n{\"message\": \"rvy\", \"status\": \"200\"}\\n{\"message\": \"3y\", \"status\": \"200\"}\\n{\"message\": \"pc\", \"status\": \"200\"}\\n{\"message\": \"b  fz.e\", \"status\": \"\"}\\n{\"message\": \"3tc-&t.\", \"status\": \"200\"}\\n{\"message\": \".qv=ul \"}\\n{\"message\": \"giu.r.lx\", \"status\": \"\"}\\n{\"message\": \"z\"\\n, \"status\": 200}\\n{\"message\": \"$%#80l9f\", \"status\": 404}\\n{\"message\": \"l4di q\", \"status\": \"200\"}\\n{\"message\": \"z5lzb.v.\"}\\n{\"message\": \"jk=  \"}\\n{\"message\": \"4&\"\\n, \"status\": 204}\\n{\"message\": \"-f8 &\", \"status\": \"200\"}\\n{\"message\": \"ip=0\\n\", \"status\": 502}\\n{\"message\": \"3$%$!\", \"status\": \"bar\"}\\n{\"message\": \"\"}\\n{\"message\": \"d4&o4&\", \"status\": \"200\"}\\n{\"message\": \"rp9\", \"status\": \"\"}\\n{\"message\": \"&3 \", \"status\": \"200\"}\\n{\"message\": \"@3!\", \"status\": 200}\\n{\"message\": \"$chh\", \"status\": \"418\"}\\n{\"messag\\ne\": \"l\"}\\n{\"message\": \"-,^njs57\", \"status\": \"418\"}\\n{\"message\": \"$63\", \"status\": \"404\"}\\n{\"message\": \"7myt33\", \"status\": null}\\n{\"message\": \"gt3 ea\", \"status\": \"2o0\"}\\n{\"message\": \"%46zv=y\", \"status\": \"\"}\\n{\"message\": \"namv\", \"status\": null}\\n{\"message\": \"yrv^dl\", \"status\": 200}\\n{\"message\": \"ix&\", \"status\": \"200\"}\\n{\"message\": \"3jucq\\nz\", \"status\": 200}\\n{\"message\": \"t,%, \", \"status\": \"200\"}\\n{\"message\": \"=f7dj!v8\", \"status\": \"305\"}\\n{\"message\": \" nc@6fq8\", \"status\": 200}\\n{\"message\": \"f 7x!3 -\", \"status\": \"200\"}\\n{\"message\": \"u9j.n+\", \"status\": \"\"}\\n{\"message\": \" .o3nd\", \"status\": 418}\\n{\"message\": \"cxjzzo=f\", \"status\": 200}\\n{\"message\": \" 3k$\\n\", \"status\": 200}\\n{\"message\": \"5n%!ldaj\", \"status\": \"200\"}\\n{\"message\": \"\", \"status\": null}\\n{\"message\": \"+w^5n\"}\\n{\"message\": \"6pb\"}\\n{\"message\": \" \"}\\n{\"message\": \" -7e%#\", \"status\": \"200\"}\\n{\"message\": \"pail#j9s\", \"status\": 200}\\n{\"message\": \"tfs0u\", \"status\": \"bar\"}\\n{\"message\": \"m +@v\", \"status\": 200}\\n{\"message\": \"npa\", \"status\": \"\"}\\n{\"message\": \"yyt%^\", \"status\": \"bar\"}\\n{\"message\": \"tt3\", \"status\": \"\"}\\n{\"message\": \"erixrf=\", \"status\": \"200\"}\\n{\"message\": \"\", \"status\": \"\"}\\n{\"message\": \"wc^w!\", \"status\": null}\\n{\"message\": \"n9w^9!^\", \"status\": \"418\"}\\n{\"message\": \"bu$\", \"status\": 200}\\n{\"message\": \" rp \"}\\n{\"message\": \"n3\", \"status\": \"\"}\\n{\"message\": \" \", \"status\": \"200\"}\\n{\"message\": \"x6#@pk l\", \"status\": \"\"}\\n{\"message\": \"rgi\", \"status\": 200}\\n{\"message\": \"38o\", \"status\": null}\\n{\"message\": \"^0\", \"status\": 204}\\n{\"message\": \"yl57rm\", \"status\": \"305\"}\\n{\"message\": \"4eck#$nd\", \"status\": null}\\n{\"message\": \"\", \\n\"status\": \"2o0\"}\\n{\"message\": \"\", \"status\": null}\\n{\"message\": \"6fl pp%&\", \"status\": \"\"}\\n{\"message\": \"as\", \"status\": null}\\n{\"message\": \"-q7 k8\\nd \", \"status\": 200}\\n{\"message\": \"^5.xa9@\", \"status\": null}\\n{\"message\": \"a07\", \"status\": \"\"}\\n{\"message\": \"\", \"status\": 200}\\n{\"message\": \"\", \"status\": 200}\\n{\"message\": \"\", \"status\": 200}\\n{\"message\": \"35uy0#5\", \"status\": null}\\n{\"message\": \"9+\", \"status\": \"200\"}\\n{\"message\": \" !iqg\"}\\n{\"message\": \"g\", \"status\": null}\\n{\"message\": \"j u%\", \"status\": \"\"}\\n{\"message\": \"\", \\n\"status\": \"404\"}\\n{\"message\": \"!6\", \"status\": \"418\"}\\n{\"message\": \"u6\", \"status\": 200}\\n{\"message\": \"\", \"status\": 404}\\n{\"message\": \"\", \"status\": \"502\"}\\n{\"message\": \"u0-5\\n3\", \"status\": 204}\\n{\"message\": \"thz,+\\nz\", \"status\": null}\\n{\"message\": \"aoy=467\", \"status\": 305}\\n{\"message\": \"\", \"status\": null}\\n{\"message\": \"cw8 b&m^\", \"status\": 204}\\n{\"message\": \" $onzd\", \"status\": \"404\"}\\n{\"message\": \"%l\", \"status\": 502}\\n{\"message\": \"8! $#\", \"status\": \"305\"}\\n{\"message\": \"jg\", \"status\": 502}\\n{\"message\": \"s65jg-\\nxv\", \"status\": 200}\\n{\"message\": \"^tk3hu\", \"status\": \"200\"}\\n{\"message\": \" q\", \"status\": \"200\"}\\n{\"message\": \"v%@t^h 7\", \"status\": 502}\\n{\"message\": \" x88c\", \"status\": 204}\\n{\"message\": \"&^x6\", \"status\": \"200\"}\\n{\"message\": \"\", \"status\": \"200\"}\\n{\"message\": \"n^ &\", \"status\": 200}\\n{\"message\": \"ia=h&\", \"status\": \"200\"}\\n{\"message\": \"%s6\", \"status\": 200}\\n{\"message\": \"wgq\", \"status\": \"305\"}\\n{\"message\": \"@b\"}\\n{\"message\": \"6c,s\", \"status\": \"\"}\\n{\"message\": \"&! \", \"status\": \"2o0\"}\\n{\"message\": \"soc\", \"status\": null}\\n{\"message\": \"!!j58=\", \"status\": null}\\n{\"message\": \" k%8-e\", \"status\": 200}\\n{\"message\"\\n: \"9q+n3 \"}\\n{\"message\": \"#a$\"}\\n{\"message\": \"034$wwhq\", \"status\": \"200\"}\\n{\"message\": \"\", \"status\": \"\"}\\n{\"message\": \"3&q \", \"status\": null}\\n{\"message\": \" =.5\", \"status\": \"200\"}\\n{\"message\": \"d%h+\", \"status\": 200}\\n{\"message\": \"-\", \"status\": \"200\"}\\n{\"message\": \"%hg$ j\\ni\", \"status\": \"200\"}\\n{\"message\": \" b 8\", \"status\": null}\\n{\"message\": \"\", \"status\": 200}\\n{\"message\": \"7d#3#k\", \"status\": null}\\n{\"message\": \"!8xx txd\", \"status\": 200}\\n{\"message\": \"ln\", \"status\": \"\"}\\n{\"message\": \" y3^bac\", \"status\": 200}\\n{\"message\": \"n^$\", \"status\": \"200\"}\\n{\"message\": \"$s aws7\", \"status\": \"2o0\"}\\n{\"message\": \"\", \"status\": \"\"}\\n{\"message\": \"8dmc-4-$\", \"status\": \"2o0\"}\\n{\"message\": \"p5 6h\", \"status\": \"200\"}\\n{\"message\": \"\", \"status\": \"502\"}\\n{\"message\": \"pu@o& d\", \"status\": \"204\"}\\n{\"message\": \"\", \"status\": 200}\\n{\"message\": \"g,\", \"status\": 200}\\n{\"message\": \"\", \"status\": 204}\\n{\"message\": \"xd\", \"status\": 200}\\n{\"message\": \"+ an\", \"status\": \"200\"}\\n{\"message\": \"xo3mwq\", \"status\": \"200\"}\\n{\"message\": \"#-\", \"status\": \"200\"}\\n{\"message\": \"\", \"status\": \"foo\"}\\n{\"message\": \"h\", \"status\": null}\\n{\"message\": \"g\", \"status\": \"\"}\\n{\"message\": \",qw,i\", \"status\": 204}\\n{\"message\": \"k4sd9\", \"status\": \"200\"}\\n{\"message\": \"hf0q&\\nai\", \"status\": \"\"}\\n{\"message\": \"p\", \"status\": \"404\"}\\n{\"message\": \"q4=^3@+p\", \"status\": null}\\n{\"message\": \" \"\\n, \"status\": 502}\\n{\"message\": \"u.!beptk\", \"status\": \"502\"}\\n{\"message\": \"3-epwd-\", \"status\": null}\\n{\"message\": \"bw^ev&\", \"status\": 200}\\n{\"message\": \" 6g&m=\\n\", \"status\": \"418\"}\\n{\"message\": \"-b&mqph\", \"status\": 200}\\n{\"message\": \"w\"\\n, \"status\": 200}\\n{\"message\": \"rpsi\"\\n, \"status\": \"200\"}\\n{\"message\": \"n0 binl\", \"status\": \"200\"}\\n{\"message\": \" .@^j!\", \"status\": \"502\"}\\n{\"message\": \"\", \"status\": \"\"}\\n{\"message\": \"\", \"status\": 502}\\n{\"message\": \"@x\", \"status\": \"404\"}\\n{\"message\": \"d\", \"status\": 200}\\n{\"message\": \"3ec988 \", \"status\": \"204\"}\\n{\"message\": \"na4h=\", \"status\": null}\\n{\"message\": \"+g@8pt0\", \"status\": \"\"}\\n{\"message\": \"^y +\", \"status\": \"200\"}\\n{\"message\": \"ec7i7rr \", \"status\": \"418\"}\\n{\"message\": \" hz p-\", \"status\": \"2o0\"}\\n{\"message\": \"#rm\", \"status\": \"200\"}\\n{\"message\": \"s\", \"status\": \"2o0\"}\\n{\"message\": \"ulfn  r\", \"status\": \"200\"}\\n{\"message\": \"io@mcr+9\", \"status\": \"305\"}\\n{\"message\": \"-n\",\\n \"status\": \"200\"}\\n{\"message\": \"z6lk9k\", \"status\": \"200\"}\\n{\"message\": \"x\", \"status\": 200}\\n{\"message\": \".h k4ag\", \"status\": 204}\\n{\"message\": \"\", \"status\": 200}\\n{\"message\": \"t49\", \"status\": \"2o0\"}\\n{\"message\": \"\", \"status\": null}\\n{\"message\": \"\", \"status\": 404}\\n{\"message\": \"=jj=4\", \"status\": \"200\"}\\n{\"message\": \"\", \"status\": null}\\n{\"message\": \"w9!\", \"status\": 200}\\n{\"message\": \"4j5b\", \"status\": \"2o0\"}\\n{\"message\": \"gc\", \"status\": 200}\\n{\"message\": \"79\", \"status\": null}\\n{\"message\": \"jep=w\", \"status\": null}\\n{\"message\": \"w\", \"status\": \"\"}\\n{\"message\": \" \", \"status\": \"200\"}\\n{\"message\": \"s8g \"}\\n{\"message\": \"u ^e$\", \"status\": \"200\"}\\n{\"message\": \"kq\", \"status\": \"305\"}\\n{\"message\": \"\",\\n \"status\": 502}\\n{\"message\": \"k zownm\", \"status\": \"200\"}\\n{\"message\": \"c4u&\", \"status\": \"200\"}\\n{\"message\": \"34+@$c6\", \"status\": \"200\"}\\n{\"message\": \"%3vspq\", \"status\": \"305\"}\\n{\"message\": \"a\", \"status\": 404}\\n{\"message\": \"xgf  \", \"status\": \"200\"}\\n{\"message\": \"a&eqt#\", \"status\": \"\"}\\n{\"message\": \"- #o6p\\n@\", \"status\": \"200\"}\\n{\"message\": \"r\", \"status\": 305}\\n{\"message\": \"pki\", \"status\": 404}\\n{\"message\": \"\", \"status\": 200}\\n{\"message\": \"qlwfrb8i\", \"status\": \"2o0\"}\\n{\"message\": \"-u8+6o\", \"status\": \"2o0\"}\\n{\"message\": \"g\", \"status\": \"200\"}\\n{\"message\": \"sfx8-l\", \"status\": \"200\"}\\n{\"message\": \"$ &,!%5\", \"status\": 305}\\n{\"message\": \"y0\", \"status\": 200}\\n{\"message\": \"\"}\\n{\"message\": \"3k@9io\", \"status\": 305}\\n{\"message\": \"ztge.vx7\"}\\n{\"message\": \" g@s\", \"status\": \"200\"}\\n{\"message\": \"\", \"status\": \"502\"}\\n{\"message\": \" rf^^i0\", \"status\": null}\\n{\"message\": \"b\", \"status\": null}\\n{\"message\": \"^x37g,..\", \"status\": \"2o0\"}\\n{\"message\": \"vt\", \"status\": 200}\\n{\"message\": \"n\", \"status\": \"204\"}\\n{\"message\": \"\", \"status\": \"\"}\\n{\"message\": \"lk\"\\n, \"status\": 502}\\n{\"message\": \",p.gsuj\", \"status\": \"200\"}\\n{\"message\": \"#lm3wi#^\", \"status\": 502}\\n{\"message\": \"\", \"status\": null}\\n{\"message\": \"u&uuelx=\", \"status\": \"2o0\"}\\n{\"message\": \"f++dhtw\", \"status\": \"\"}\\n{\"message\": \"p na 8@\", \"status\": \"200\"}\\n{\"message\": \"k-d%ss\", \"status\": \"404\"}\\n{\"message\": \"\", \"status\": \"\"}\\n{\"message\": \"g8@k7\", \"status\": null}\\n{\"message\": \"hqom8^ \", \"status\": 305}\\n{\"message\": \"cv6\", \"status\": null}\\n{\"message\": \"mqhs3\", \"status\": 200}\\n{\"message\": \"i\", \"status\": 200}\\n{\"message\": \"94&xex\", \"status\": 200}\\n{\"message\": \"=^f7q\", \"status\": \"200\"}\\n{\"message\": \"#qp\", \"status\": \"2o0\"}\\n{\"message\": \"%3o9\", \"status\": null}\\n{\"message\": \"=!b 9\", \"status\": 404}\\n{\"message\": \"3= t\"}\\n{\"message\": \"84\", \"status\": \"200\"}\\n{\"message\": \"sbuf\", \"status\": 418}\\n{\"message\": \"w3r\", \"status\": 200}\\n{\"message\": \"%# .7\", \"status\": \"foo\"}\\n{\"message\": \"+  \", \"status\": \"200\"}\\n{\"message\": \"ws0pwq\", \"status\": 200}\\n{\"message\": \"t0m\", \"status\": \"2o0\"}\\n{\"message\": \"ampl\", \"status\": \"\"}\\n{\"message\": \"$v8$8nj\", \"status\": 200}\\n{\"message\": \"m4=v\", \"status\": \"200\"}\\n{\"message\": \"\", \"status\": 200}\\n{\"message\": \"fz6l\", \"status\": 200}\\n{\"message\": \"\", \"status\": \"2o0\"}\\n{\"message\": \"=\", \"status\": 200}\\n{\"message\": \"@%fa+&\", \"status\": 200}\\n{\"message\": \"-n-\", \"status\": \"2o0\"}\\n{\"message\": \" wr8yo4\", \"status\": null}\\n{\"message\": \"p@7y+\", \"status\": \"2o0\"}\\n{\"message\": \"h9r$\", \"status\": 200}\\n{\"message\": \"k0g8!$=8\", \"status\": null}\\n{\"message\": \"gan-h px\"}\\n{\"message\": \"  =0@\", \"status\": \"2o0\"}\\n{\"message\": \"k5!d&o\", \"status\": 200}\\n{\"message\": \"\", \\n\"status\": \"200\"}\\n{\"message\": \"30+\", \"status\": 200}\\n{\"message\": \"wh9qwl+\", \"status\": \"200\"}\\n{\"message\": \" dia\"\\n, \"status\": \"2o0\"}\\n{\"message\": \"4+h%\\n\", \"status\": 200}\\n{\"message\": \"\", \"status\": \"200\"}\\n{\"message\": \" =7\", \"status\": \"2o0\"}\\n{\"message\": \"^#\", \"status\": \"\"}\\n{\"message\": \"0-ujl3\", \"status\": 200}\\n{\"message\": \"\", \"status\": 200}\\n{\"message\": \"u\", \"status\": \"200\"}\\n{\"message\": \"0 \"}\\n{\"message\": \"+\", \"status\": \"2o0\"}\\n{\"message\": \"hjsn\", \"status\": \"200\"}\\n{\"message\": \"\", \"status\": \"200\"}\\n{\"message\": \"9=\", \"status\": \"200\"}\\n{\"message\": \"6-t m\", \"status\": \"2o0\"}\\n{\"message\": \"f is8y8!\", \"status\": \"200\"}\\n{\"message\": \"b7\", \"status\": \"\"}\\n{\"message\": \"hg% zt.f\", \"status\": \"305\"}\\n{\"message\": \"ip\", \"status\": 200}\\n{\"message\": \"f,#4 vk\", \"status\": \"bar\"}\\n{\"message\": \" e uxjfc\", \"status\": 200}\\n{\"message\": \"\", \"status\": 200}\\n{\"message\": \"&-6\", \"status\": \"200\"}'.strip().split('\\n')\n",
    "result_test_6 = (171, 72, 44, 127, 88)"
   ]
  },
  {
   "cell_type": "code",
   "execution_count": 8,
   "id": "vietnamese-freeware",
   "metadata": {},
   "outputs": [],
   "source": [
    "log_data_test_7 = '{\"message\": \"44\", \"status\": \"200\"}\\n{\"message\": \"!bf\", \"status\": \"200\"}\\n{\"message\": \"j fmexi\", \"status\": 200}\\n{\"message\": \",804\", \"status\": \"305\"}\\n{\"message\": \"3\", \"status\": \"404\"}\\n{\"message\": \"c\", \"status\": 200}\\n{\"message\": \"l#,#$vo\"}\\n{\"message\": \"g44l66\"}\\n{\"message\": \"\", \"status\": \"200\"}\\n{\"message\": \"yx$,\"\\n, \"status\": \"2o0\"}\\n{\"message\": \"5$kod\", \"status\": 200}\\n{\"message\": \"zz4\", \"status\": \"\"}\\n{\"message\": \"z5$\", \"status\": \"200\"}\\n{\"message\": \"d-^y$\", \"status\": \"200\"}\\n{\"message\": \"dg $+\"}\\n{\"message\": \"o9\", \"status\": \"200\"}\\n{\"message\": \"mykflm0b\", \"status\": \"2o0\"}\\n{\"message\": \" j9qr\", \"status\": 418}\\n{\"message\": \"zc s+x5$\", \"status\": 204}\\n{\"message\": \"$hnp \", \"status\": 200}\\n{\"message\": \"+\", \"status\": null}\\n{\"message\": \" \", \"status\": \"200\"}\\n{\"message\": \"g@\", \"status\": 200}\\n{\"message\": \"s.^\", \"status\": 502}\\n{\"message\": \"b \", \"status\": \"204\"}\\n{\"message\": \"4+sc% 7s\", \"status\": 200}\\n{\"message\": \"66f v=p\", \"status\": \"\"}\\n{\"message\": \"hsnd\", \"status\": \"2o0\"}\\n{\"message\": \"\", \"status\": \"2o0\"}\\n{\"message\": \"e\", \"status\": 305}\\n{\"message\": \"x5\"}\\n{\"message\": \"\", \"status\": null}\\n{\"message\": \"-=3pj,f\"}\\n{\"message\": \".6\"\\n, \"status\": null}\\n{\"message\": \"=jkl\", \"status\": 200}\\n{\"message\": \" \", \"status\": \"200\"}\\n{\"message\": \"3spg k0\", \"status\": \"200\"}\\n{\"message\": \"w u\", \"status\": null}\\n{\"message\": \"-5.7gyt\", \"status\": \"200\"}\\n{\"message\": \"d9!\", \"status\": \"200\"}\\n{\"message\": \" #r\"}\\n{\"message\": \"hx=-\", \"status\": \"\"}\\n{\"message\": \"&&m\", \"status\": \"2o0\"}\\n{\"message\": \"6scv5\", \"status\": \"foo\"}\\n{\"message\": \" f6y9g6\", \"status\": 404}\\n{\"message\": \" 9f\", \"status\": \"foo\"}\\n{\"message\": \"xc\", \"status\": \"200\"}\\n{\"message\": \"!d\", \"status\": null}\\n{\"message\": \"vhe$\"}\\n{\"message\": \" tyd\", \"status\": 418}\\n{\"message\": \"!vg643!5\", \"status\": \"200\"}\\n{\"message\": \"-cqi5z4$\"}\\n{\"message\": \"5k7f\", \"status\": \"200\"}\\n{\"message\": \"%mczfqh5\"}\\n{\"message\": \"vqjl795\", \"status\": \"2o0\"}\\n{\"message\": \"+43v \", \"status\": 200}\\n{\"message\": \"47-j88\", \"status\": 200}\\n{\"message\": \"$ci\", \"status\": null}\\n{\"message\": \" 0a!\", \"status\": \"\"}\\n{\"message\": \"iptm\"\\n, \"status\": \"2o0\"}\\n{\"message\": \"e\", \"status\": 418}\\n{\"message\": \"w^k\", \"status\": null}\\n{\"message\": \"oz9+,0+\", \"status\": null}\\n{\"message\": \"y8bc=\", \"status\": \"\"}\\n{\"message\": \" wu%\", \"status\": \"bar\"}\\n{\"message\": \"e 3 x4y\\n6\", \"status\": \"200\"}\\n{\"message\": \"\", \"status\": \"2o0\"}\\n{\"message\": \"79f 0rw \"}\\n{\"message\": \"kg\", \"status\": \"\"}\\n{\"message\": \"\"}\\n{\"message\": \"b tpoi\", \"status\": 200}\\n{\"message\": \"@yo \", \"status\": null}\\n{\"message\": \"d l\", \"status\": 200}\\n{\"message\": \"\", \"status\": \"200\"}\\n{\"message\": \"j,\", \"status\": 200}\\n{\"message\": \"bhgy!-&v\", \"status\": \"200\"}\\n{\"message\": \"b$zv r^\", \"status\": 200}\\n{\"message\": \"-4te\", \"status\": \"200\"}\\n{\"message\": \"%z\", \"status\": \"bar\"}\\n{\"message\": \"\", \"status\": \"2o0\"}\\n{\"message\": \"%yevv@\", \"status\": 200}\\n{\"message\": \"+\", \"status\": 200}\\n{\"message\": \"y $\", \"status\": 204}\\n{\"message\": \" \", \"status\": \"200\"}\\n{\"message\": \"yfkypn$7\", \"status\": 200}\\n{\"message\": \"u$5\", \"status\": 200}\\n{\"message\": \"mz6dawh.\", \"status\": 200}\\n{\"message\": \"v%nc\", \"status\": \"200\"}\\n{\"message\": \"f\", \"status\": null}\\n{\"message\": \"0a@5iq\", \"status\": 200}\\n{\"message\": \"e\", \"status\": \"502\"}\\n{\"message\": \"! 9rv\"}\\n{\"message\": \"&\",\\n \"status\": \"200\"}\\n{\"message\": \"\", \"status\": \"\"}\\n{\"message\": \"h \", \"status\": 200}\\n{\"message\": \"q-+w\", \"status\": \"200\"}\\n{\"message\": \"q%hq -\", \"status\": 200}\\n{\"message\": \",v\",\\n \"status\": \"200\"}\\n{\"message\": \"#hw3- ae\", \"status\": 502}\\n{\"message\": \" ,4!\", \"status\": \"\"}\\n{\"message\": \"+\", \"status\": 200}\\n{\"message\": \"c@-l9,7\", \"status\": 200}\\n{\"message\": \"63r v@pk\", \"status\": 418}\\n{\"message\": \" +bm\", \"status\": 200}\\n{\"message\": \"ul \", \"status\": \"200\"}\\n{\"message\": \"xe  \", \"status\": 200}\\n{\"message\": \"lucp\", \"status\": \"200\"}\\n{\"message\": \"0xe3d9\", \"status\": null}\\n{\"message\": \"0\", \"status\": 200}\\n{\"message\": \"dfd9y%+&\", \"status\": 200}\\n{\"message\": \"+ 7mu=\"}\\n{\"message\": \"mrtzz\", \"status\": \"200\"}\\n{\"message\": \"k8l \", \"status\": 200}\\n{\"message\": \"eg+7xu@o\", \"status\": null}\\n{\"message\": \" c\", \"status\": null}\\n{\"message\": \"\", \"status\": null}\\n{\"message\": \"ne.b$\", \"status\": \"200\"}\\n{\"message\": \"$n%k6.g\\nq\", \"status\": \"204\"}\\n{\"message\": \"  4g-qt\", \"status\": \"200\"}\\n{\"message\": \"v0f6.v#\", \"status\": \"200\"}\\n{\"message\": \"5x ncvn\", \"status\": \"200\"}\\n{\"message\": \"3.5z\", \"status\": 200}\\n{\"messa\\nge\": \"\"}\\n{\"message\": \",d-9n7\", \"status\": 200}\\n{\"message\": \"w= \", \"status\": 200}\\n{\"message\": \"4\", \"status\": \"200\"}\\n{\"message\": \"\", \"status\": null}\\n{\"message\": \" agk0\", \"status\": 200}\\n{\"message\": \"8da\", \"status\": 204}\\n{\"message\": \"xq^,a4\", \"status\": 200}\\n{\"message\": \"ie,8!6\\n\", \"status\": \"200\"}\\n{\"message\": \"\", \"status\": \"200\"}\\n{\"message\": \"ecp\", \"status\": \"2o0\"}\\n{\"message\": \"7v\", \"status\": 200}\\n{\"message\": \"htvt\", \"status\": 200}\\n{\"message\": \"4q8\", \"status\": \"200\"}\\n{\"message\": \"3n,v5\", \"status\": 200}\\n{\"message\": \"ajr5!v \"}\\n{\"message\": \"\", \"status\": \"200\"}\\n{\"message\": \"jf  is=@\", \"status\": \"200\"}\\n{\"message\": \"^e!\", \"status\": \"2o0\"}\\n{\"message\": \"yr#$!@0,\", \"status\": 204}\\n{\"message\": \"^tn\", \"status\": \"404\"}\\n{\"message\": \" s, y\", \"status\": \"200\"}\\n{\"message\": \"ry\"}\\n{\"message\": \"\", \"status\": \"200\"}\\n{\"message\": \"b+b 3v=8\", \"status\": \"200\"}\\n{\"message\": \",r3\", \"status\": 200}\\n{\"message\": \"d0%$ 5\", \"status\": \"404\"}\\n{\"message\": \"eq\"\\n, \"status\": 200}\\n{\"message\": \"46rq7.7\", \"status\": null}\\n{\"message\": \"e\", \"status\": \"\"}\\n{\"message\": \"-ak8u0\", \"status\": \"\"}\\n{\"message\": \"g\",\\n \"status\": null}\\n{\"message\": \"&l!k #sz\", \"status\": \"418\"}\\n{\"message\": \"i#zu\"\\n, \"status\": \"2o0\"}\\n{\"message\": \"#viv03\"}\\n{\"message\": \"%p ,\", \"status\": 418}\\n{\"message\": \"0#oa\", \"status\": 200}\\n{\"message\": \"s.3+ \", \"status\": null}\\n{\"message\": \"k6ic\", \"status\": \"\"}\\n{\"message\": \"8w$,n\", \"status\": \"200\"}\\n{\"message\": \"\", \"status\": null}\\n{\"message\": \"s 9q\", \"status\": \"2o0\"}\\n{\"message\": \"\", \"status\": \"2o0\"}\\n{\"message\": \"e!\", \"status\": 200}\\n{\"message\": \"#tm80rn\", \"status\": \"200\"}\\n{\"message\": \".tb@=%l\", \"status\": \"200\"}\\n{\"message\": \"8\"}\\n{\"message\": \"clsnj^#g\", \"status\": 200}\\n{\"message\": \"9@4e@\", \"status\": \"2o0\"}\\n{\"message\": \"&e v,\\nm9\", \"status\": 305}\\n{\"message\": \"x.a3-+&7\", \"status\": \"404\"}\\n{\"message\": \"$dy \", \"status\": 200}\\n{\"message\": \"%34o\", \"status\": \"\"}\\n{\"message\": \" k=yod\", \"status\": 200}\\n{\"message\": \"8!$  !\\ns\", \"status\": null}\\n{\"message\": \"#bo\", \"status\": \"418\"}\\n{\"message\": \"i@!\", \"status\": \"\"}\\n{\"message\": \"3dk\", \"status\": null}\\n{\"message\": \"sr dt\", \"status\": \"418\"}\\n{\"message\": \"h5!5sfgl\", \"status\": \"\"}\\n{\"message\": \"\", \\n\"status\": \"200\"}\\n{\"message\": \"6qsqv@\", \"status\": \"200\"}\\n{\"message\": \"y .\", \"status\": 204}\\n{\"message\": \"8ly8 \", \"status\": 200}\\n{\"message\": \" \", \"status\": 502}\\n{\"message\": \"3&y\", \"status\": \"200\"}\\n{\"message\": \"n=h\", \"status\": 200}\\n{\"message\": \"&k8lhc\\n\", \"status\": \"2o0\"}\\n{\"message\": \"j\", \"status\": \"200\"}\\n{\"message\": \"@=r\", \"status\": \"200\"}\\n{\"message\": \"6%xvs\\n\", \"status\": \"200\"}\\n{\"message\": \"o@jm68,\", \"status\": \"\"}\\n{\"message\": \",&@j4s.\"}\\n{\"message\": \"\", \"status\": 200}\\n{\"message\": \"h\", \"status\": 200}\\n{\"message\": \"@\"\\n, \"status\": 204}\\n{\"message\": \" u$=l^.\", \"status\": 200}\\n{\"message\": \"vc\", \"status\": 305}\\n{\"message\": \"dl\", \"status\": 200}\\n{\"message\": \"\", \"status\": 200}\\n{\"message\": \"-.ry5-\", \"status\": 502}\\n{\"message\": \"6-l0x\", \"status\": \"\"}\\n{\"message\": \"696^ mk\", \"status\": \"502\"}\\n{\"message\": \"t \",\\n \"status\": \"200\"}\\n{\"message\": \"ll-i\", \"status\": null}\\n{\"message\": \"6ne\", \"status\": \"2o0\"}\\n{\"message\": \"nb#vuh3\", \"status\": \"200\"}\\n{\"message\": \"- .+ 30g\", \"status\": 204}\\n{\"message\": \"eoudcmj%\"}\\n{\"message\": \"@^\", \"status\": \"200\"}\\n{\"message\": \"\"}\\n{\"message\": \"n\", \"status\": 418}\\n{\"message\": \"+y\", \"status\": \"200\"}\\n{\"message\": \"^5qbge\", \"status\": \"\"}\\n{\"message\": \"=&@q!j7\", \"status\": \"200\"}\\n{\"message\": \"\"}\\n{\"message\": \"^m@g3wj\", \"status\": \"200\"}\\n{\"message\": \"\", \"status\": \"200\"}\\n{\"message\": \"s8\",\\n \"status\": \"404\"}\\n{\"message\": \"+-5\", \"status\": \"305\"}\\n{\"message\": \"u@4y,9\", \"status\": 200}\\n{\"message\": \",3\", \"status\": \"200\"}\\n{\"message\": \"z$r=jbuh\", \"status\": \"200\"}\\n{\"message\": \"!c\",\\n \"status\": \"200\"}\\n{\"message\": \" \", \"status\": \"2o0\"}\\n{\"message\": \"g y\", \"status\": \"\"}\\n{\"message\": \"z^he\", \"status\": 200}\\n{\"message\": \"\", \"status\": \"200\"}\\n{\"message\": \"\"}\\n{\"message\": \"es\", \"status\": 200}\\n{\"message\": \"0 u-5\", \"status\": 200}\\n{\"message\": \"$=wq  a#\", \"status\": \"200\"}\\n{\"message\": \"cq7 \", \"status\": \"2o0\"}\\n{\"message\": \"r\", \"status\": \"404\"}\\n{\"message\": \"+ =s  \", \"status\": \"bar\"}\\n{\"message\": \"v#n\"\\n, \"status\": \"2o0\"}\\n{\"message\": \" xy\", \"status\": 200}\\n{\"message\": \" 93\\n\", \"status\": 200}\\n{\"message\": \"zk\", \"status\": \"200\"}\\n{\"message\": \"j38kzl\"}\\n{\"message\": \"@g3c6ag\", \"status\": \"204\"}\\n{\"message\": \",wzka0-\", \"status\": \"\"}\\n{\"message\": \"7\", \"status\": 200}\\n{\"message\": \"6\", \"status\": \"200\"}\\n{\"message\": \"6$b\", \"status\": \"305\"}\\n{\"message\": \"!u-b d\", \"status\": 502}\\n{\"message\": \",s80$xu\", \"status\": \"200\"}\\n{\"message\": \"pw.w\", \"status\": \"404\"}\\n{\"message\": \"ko7\", \"status\": 200}\\n{\"message\": \"0og\", \"status\": \"200\"}\\n{\"message\": \"gy$we\", \"status\": 305}\\n{\"message\": \"ou.y4\", \"status\": 305}\\n{\"message\": \"n&cg7yt\", \"status\": \"200\"}\\n{\"message\": \"4bva3%g+\", \"status\": 200}\\n{\"message\": \"dp\", \"status\": 200}\\n{\"message\": \".+s\\n,\", \"status\": \"\"}\\n{\"message\": \"$dx\\n\", \"status\": 200}\\n{\"message\": \".ofm&rid\", \"status\": 502}\\n{\"message\": \"49,m6xx-\", \"status\": null}\\n{\"message\": \"x^@=a\", \"status\": \"200\"}\\n{\"message\": \" = -o f\\nh\", \"status\": \"200\"}\\n{\"message\": \"$x9#nb\", \"status\": 418}\\n{\"message\": \"05x=6c6\", \"status\": 200}\\n{\"message\": \"pqj0%!\", \"status\": \"200\"}\\n{\"message\": \"=h&x.\", \"status\": 418}\\n{\"message\": \"%0 \", \"status\": \"200\"}\\n{\"message\": \"b .%0\", \"status\": \"502\"}\\n{\"message\": \"ev \", \"status\": null}'.strip().split('\\n')\n",
    "result_test_7 = (119, 42, 20, 63, 52)"
   ]
  },
  {
   "cell_type": "code",
   "execution_count": 9,
   "id": "maritime-brunei",
   "metadata": {},
   "outputs": [],
   "source": [
    "log_data_test_8 = '{\"message\": \"  5\"}\\n{\"message\": \"ec,f^^\", \"status\": 200}\\n{\"message\": \"d&jla% \\nj\", \"status\": \"2o0\"}\\n{\"message\": \"\"}\\n{\"message\": \"sb.z\", \"status\": \"\"}\\n{\"message\": \"sbo+m\", \"status\": \"\"}\\n{\"message\": \"\", \"status\": \"404\"}\\n{\"message\": \"d8&cl\", \"status\": \"305\"}\\n{\"message\": \"\",\\n \"status\": 200}\\n{\"message\": \"^q 8p\", \"status\": \"bar\"}\\n{\"message\": \"zawa@%\", \"status\": 200}\\n{\"message\": \"$\", \"status\": \"bar\"}\\n{\"message\": \"\", \"status\": 200}\\n{\"message\": \"50,!q%m\", \"status\": \"418\"}\\n{\"message\": \"\", \"status\": \"200\"}\\n{\"message\": \" \", \"status\": \"200\"}\\n{\"message\": \"u!l\", \"status\": \"\"}\\n{\"message\": \"j=\", \"status\": \"2o0\"}\\n{\"message\": \"\"}\\n{\"message\": \"87tl,z\", \"status\": 200}\\n{\"message\": \"uo39a0\"}\\n{\"message\": \"-\", \"status\": \"200\"}\\n{\"message\": \"\", \"status\": \"bar\"}\\n{\"message\": \"qt-7rp8\", \"status\": \"200\"}\\n{\"message\": \"l,&c9hnr\", \"status\": 200}\\n{\"message\": \"\", \"status\": \"2o0\"}\\n{\"message\": \"!\", \"status\": null}\\n{\"message\": \"u\", \"status\": \"2o0\"}\\n{\"message\": \".z#hx\", \"status\": 200}\\n{\"message\": \"5aw\", \"status\": \"502\"}\\n{\"message\": \"!^4egldy\", \"status\": \"200\"}\\n{\"message\": \"9jbuy -\", \"status\": \"200\"}\\n{\"message\": \"e\", \"status\": 200}\\n{\"message\": \"ft$5ll\", \"status\": \"502\"}\\n{\"message\": \"^z\", \"status\": 418}\\n{\"message\": \"j+ zrq\\n64\", \"status\": 200}\\n{\"message\": \"&4kv$5^\", \"status\": null}\\n{\"message\": \"0vi.r\", \"status\": \"200\"}\\n{\"message\": \" \", \"status\": null}\\n{\"message\": \"448mnjz6\"}\\n{\"message\": \"!3\", \"status\": 418}\\n{\"message\": \" zgnp@\", \"status\": 200}\\n{\"message\": \"4\", \"status\": 200}\\n{\"message\": \"ei\"}\\n{\"message\": \"gyq\", \"status\": \"200\"}\\n{\"message\": \"^k! im.\", \"status\": \"2o0\"}\\n{\"message\": \"4a!\", \"status\": \"bar\"}\\n{\"message\": \"#65\", \"status\": \"200\"}\\n{\"message\": \"pc fbs4=\", \"status\": null}\\n{\"message\": \"#bau99!\", \"status\": \"200\"}\\n{\"message\": \"d\", \"status\": \"200\"}\\n{\"message\": \"+m\", \"status\": null}\\n{\"message\": \" \", \"status\": \"200\"}\\n{\"message\": \"7y= #4#\", \"status\": 200}\\n{\"message\": \"qj.!!\", \"status\": \"2o0\"}\\n{\"message\": \"\", \"status\": 200}\\n{\"message\": \"g xm%$r \", \"status\": \"\"}\\n{\"message\"\\n: \"z= mx8\"}\\n{\"message\": \"gxw$$9w\", \"status\": \"\"}\\n{\"message\": \",xec cs\\n7\", \"status\": \"2o0\"}\\n{\"message\": \"a\", \"status\": 200}\\n{\"message\": \"o99hnv\", \"status\": \"\"}\\n{\"message\": \"o0l@9#\", \"status\": 200}\\n{\"message\": \"!aw by=\"}\\n{\"message\": \"l@-\", \"status\": \"2o0\"}\\n{\"message\": \" s v\", \"status\": \"200\"}\\n{\"message\": \"\", \"status\": \"200\"}\\n{\"message\": \"=\", \"status\": 200}\\n{\"message\": \"j9 3p@dx\", \"status\": null}\\n{\"message\": \"#z9 b-@\", \"status\": \"200\"}\\n{\"message\": \"^7hm\", \"status\": 200}\\n{\"message\": \"\", \"status\": 502}\\n{\"message\": \".c44\", \"status\": \"2o0\"}\\n{\"message\": \".=dl$i \"}\\n{\"message\": \"sn9d\", \"status\": \"200\"}\\n{\"message\": \"qdz5w+5y\", \"status\": \"2o0\"}\\n{\"messag\\ne\": \"b\"}\\n{\"message\": \"^jm\", \"status\": null}\\n{\"message\": \"%-#\", \"status\": \"200\"}\\n{\"message\": \"zm.9p\", \"status\": \"2o0\"}\\n{\"message\": \"@ q\\n\", \"status\": 200}\\n{\"message\": \"\", \"status\": \"305\"}\\n{\"message\": \"\"}\\n{\"message\": \"%v,m\"}\\n{\"message\": \"%3czj7\", \"status\": null}\\n{\"message\\n\": \" !i\"}\\n{\"message\": \"\"}\\n{\"message\": \"&9cw\", \"status\": 200}\\n{\"message\"\\n: \"zbo3^\"}\\n{\"message\": \"l6z@#y\"}\\n{\"message\": \"@3h,,\", \"status\": null}\\n{\"message\": \"%a$@v4@&\", \"status\": \"2o0\"}\\n{\"message\": \"=!a x$e\", \"status\": \"2o0\"}\\n{\"message\": \" 3zgp\"}\\n{\"message\": \"gax%+nn\", \"status\": 200}\\n{\"message\": \"\", \"status\": \"305\"}\\n{\"message\": \"v4ia\", \"status\": null}\\n{\"message\": \"a.kwbs \", \"status\": 418}\\n{\"message\": \",@t0sad7\", \"status\": 200}\\n{\"message\": \"as\", \"status\": null}\\n{\"message\": \"^bs-y5\\n\", \"status\": \"200\"}\\n{\"message\": \"o44\", \"status\": \"200\"}\\n{\"message\": \"lk-7h\", \"status\": 200}\\n{\"message\": \"\", \"status\": \"\"}\\n{\"message\": \"qvp%\", \"status\": 200}\\n{\"message\": \"9l@\", \"status\": \"\"}\\n{\"message\": \"34hr&,k\", \"status\": \"200\"}\\n{\"message\": \" \", \"status\": 204}\\n{\"message\": \"@-7t5h\", \"status\": \"2o0\"}\\n{\"message\": \"hce=!j\\n\", \"status\": \"200\"}\\n{\"message\": \"\"}\\n{\"message\": \"@\", \"status\": 200}\\n{\"message\": \"g+.\", \"status\": \"200\"}\\n{\"message\": \"na wl\\ncl\", \"status\": \"\"}\\n{\"message\": \"dwqu \", \"status\": \"\"}\\n{\"message\": \"!.sh&\", \"status\": null}\\n{\"message\": \"h^acp\", \"status\": null}\\n{\"message\": \"@y,ygr7\", \"status\": null}\\n{\"message\": \"oa4yyg\", \"status\": \"2o0\"}\\n{\"message\": \"uw\", \"status\": \"\"}\\n{\"message\": \"8v \", \"status\": 200}\\n{\"message\": \"@+wql\", \"status\": \"2o0\"}\\n{\"message\": \"xbks9 wi\", \"status\": \"foo\"}\\n{\"message\": \"\", \"status\": \"200\"}\\n{\"message\": \"z%5w\", \"status\": \"200\"}\\n{\"message\": \"i9y^=4\", \"status\": \"200\"}\\n{\"message\": \"db\", \"status\": 200}\\n{\"message\": \" 4^#\"\\n, \"status\": \"2o0\"}\\n{\"message\": \"%y8\"}\\n{\"message\": \"alby =\"}\\n{\"message\": \" #\", \"status\": \"502\"}\\n{\"message\": \"\", \"status\": null}\\n{\"message\": \"\", \"status\": \"2o0\"}\\n{\"message\": \"f%a\", \"status\": \"200\"}\\n{\"message\": \"kapcmo\", \"status\": \"2o0\"}\\n{\"message\": \"%w$\", \"status\": 200}\\n{\"message\": \"683n\\n\", \"status\": 200}'.strip().split('\\n')\n",
    "result_test_8 = (48, 13, 21, 41, 28)"
   ]
  },
  {
   "cell_type": "code",
   "execution_count": 10,
   "id": "beginning-brook",
   "metadata": {},
   "outputs": [],
   "source": [
    "log_data_test_9 = '{\"message\": \"7e3   0l\", \"status\": 200}\\n{\"message\": \"%-\", \"status\": \"2o0\"}\\n{\"message\": \"rdj6\", \"status\": \"\"}\\n{\"message\": \" gr^dva\"}\\n{\"message\": \"\", \"status\": \"404\"}\\n{\"message\": \"vm,&x^w\\n \", \"status\": \"2o0\"}\\n{\"message\": \"9j70\", \"status\": \"2o0\"}\\n{\"message\": \"\", \"status\": \"200\"}\\n{\"message\": \"\", \"status\": \"2o0\"}\\n{\"message\": \"\", \"status\": \"200\"}\\n{\"message\": \"f-w.7\\n,a\", \"status\": 305}\\n{\"message\": \"\", \"status\": \"404\"}\\n{\"message\": \"j4 os\", \"status\": \"200\"}\\n{\"message\": \"58\", \"status\": \"\"}\\n{\"message\": \"\", \"status\": 305}\\n{\"message\": \"%\", \"status\": \"200\"}\\n{\"message\": \"rc6i yb\", \"status\": \"\"}\\n{\"message\": \"se7=x0qm\", \"status\": 200}\\n{\"message\": \"\", \"status\": 200}\\n{\"message\": \"c7t\", \"status\": \"\"}\\n{\"message\": \",,mew,\\n$\", \"status\": \"404\"}\\n{\"message\": \"m-d\", \"status\": \"200\"}\\n{\"message\": \"\", \"status\": \"2o0\"}\\n{\"message\": \".6ei\"}\\n{\"message\": \"\", \"status\": \"bar\"}\\n{\"message\": \" % a#4=\", \"status\": 200}\\n{\"message\": \"d@\", \"status\": 200}\\n{\"message\": \"\", \"status\": \"\"}\\n{\"message\": \" 5^84\", \"status\": \"200\"}\\n{\"message\": \"vpps  nm\", \"status\": 200}\\n{\"message\": \" ,y7xhg\", \"status\": null}\\n{\"message\": \"j7 3\"}\\n{\"message\": \"ogl\", \"status\": null}\\n{\"message\": \" g\", \"status\": \"200\"}\\n{\"message\": \"gumjs\", \"status\": 200}\\n{\"message\": \"i@wq3h\", \"status\": 200}\\n{\"message\": \"0\", \"status\": 200}\\n{\"message\": \"tn0zm\\nr\", \"status\": 200}\\n{\"message\": \"c5\", \"status\": 404}\\n{\"message\": \"nk0&\", \"status\": \"\"}\\n{\"message\": \"t9,j+g\", \"status\": \"200\"}\\n{\"message\": \"^c4#dv\", \"status\": 200}\\n{\"message\": \"-lo@&\", \"status\": \"200\"}\\n{\"message\": \"yx@qo\", \"status\": 200}\\n{\"message\": \"n9+\", \"status\": \"200\"}\\n{\"message\"\\n: \"mlg6&t\"}\\n{\"message\": \"ma6\", \"status\": null}\\n{\"message\": \"8f\", \"status\": \"200\"}\\n{\"message\": \"hc\", \"status\": \"200\"}\\n{\"message\": \"^a$^sl\", \"status\": 200}\\n{\"message\": \"#e\", \"status\": 200}\\n{\"message\": \" @n\", \"status\": \"200\"}\\n{\"message\": \"w\"}\\n{\"message\": \"-\", \"status\": 204}\\n{\"message\": \"ct&5c\", \"status\": 200}\\n{\"message\": \"y3l4q\", \"status\": 200}\\n{\"message\": \"jk=o +v\\nh\", \"status\": \"2o0\"}\\n{\"message\": \"=7pw\", \"status\": \"305\"}\\n{\"message\": \"=\", \"status\": \"404\"}\\n{\"message\": \".el5k\", \"status\": 200}\\n{\"message\": \"aopg\\n\", \"status\": 404}\\n{\"message\": \"@c9j\", \"status\": null}\\n{\"message\": \"m y\", \"status\": \"2o0\"}\\n{\"message\": \"0p if%o\"}\\n{\"message\": \"#w3s\", \"status\": \"200\"}\\n{\"message\": \"n#lt^ckz\"}\\n{\"message\": \"l$s8d0\", \"status\": \"418\"}\\n{\"message\": \"!@j5@@\", \"status\": 200}\\n{\"message\": \"0%e$37u\", \"status\": \"\"}\\n{\"message\": \"$\", \"status\": 200}\\n{\"message\": \"6!\", \"status\": \"200\"}\\n{\"message\": \"0r\",\\n \"status\": \"200\"}\\n{\"message\": \"0^8!$\", \"status\": 200}\\n{\"message\": \"-9qi\"}\\n{\"message\": \"xht6w\"}\\n{\"message\": \"gdfw&#a\", \"status\": 200}\\n{\"message\": \"k ! v0\\na\", \"status\": null}\\n{\"message\": \"!=cju\", \"status\": null}\\n{\"message\": \"\",\\n \"status\": null}\\n{\"message\": \"v94\", \"status\": \"\"}\\n{\"message\": \"r\", \"status\": \"200\"}\\n{\"message\": \"ow  y54\", \"status\": \"200\"}\\n{\"message\": \"l\", \"status\": null}\\n{\"message\": \"\", \"status\": \"2o0\"}\\n{\"message\": \" =tt\", \"status\": 200}\\n{\"message\": \"l&u=ev\", \"status\": \"200\"}\\n{\"message\": \"l0&u$0\", \"status\": 200}\\n{\"message\": \"of n!a\", \"status\": \"\"}\\n{\"message\": \"7\", \"status\": \"2o0\"}\\n{\"message\": \"\", \"status\": null}\\n{\"message\": \"@6\", \"status\": \"418\"}\\n{\"message\": \"o=\", \"status\": \"\"}\\n{\"message\": \"7\", \"status\": \"200\"}\\n{\"message\": \"ou-njv+e\"}\\n{\"message\": \"n se\", \"status\": 200}\\n{\"message\": \"v#i0$%\", \"status\": \"2o0\"}\\n{\"message\": \"n\", \"status\": 200}\\n{\"message\": \"jl\", \"status\": 200}\\n{\"message\": \"9\", \"status\": null}\\n{\"message\": \"%!7\\nc\", \"status\": \"\"}\\n{\"message\": \"@wz.\", \"status\": 418}\\n{\"message\": \"ol$u\"}\\n{\"message\": \"jyt\\n\", \"status\": 200}\\n{\"message\": \" f6qg# \", \"status\": \"404\"}\\n{\"message\": \"8\", \"status\": \"200\"}\\n{\"message\": \"=0+\", \"status\": \"418\"}\\n{\"message\": \"w#0  u\", \"status\": \"\"}\\n{\"message\": \"v#94\", \"status\": 502}\\n{\"message\": \"-5%hxi@ \", \"status\": \"\"}\\n{\"message\": \"ye87=co\", \"status\": 200}\\n{\"message\": \"n q6za9\", \"status\": \"200\"}\\n{\"message\": \"\", \"status\": \"\"}\\n{\"message\": \"9v\", \"status\": \"2o0\"}\\n{\"message\": \" u\", \"status\": \"foo\"}\\n{\"message\": \"\"}\\n{\"message\": \"3mjy\", \"status\": \"204\"}\\n{\"message\": \"\",\\n \"status\": null}\\n{\"message\": \"3s.\", \"status\": null}\\n{\"message\": \"=l-q\", \"status\": \"200\"}\\n{\"message\": \"ue03\", \"status\": \"2o0\"}\\n{\"message\": \"zvuu\", \"status\": \"2o0\"}\\n{\"message\": \".cpy,pa\", \"status\": 418}\\n{\"message\": \"-fa  ^\", \"status\": 404}\\n{\"message\": \"i\", \"status\": 305}\\n{\"message\": \"bd6\", \"status\": \"200\"}\\n{\"message\": \"kgpm.\", \"status\": null}\\n{\"message\": \"lq@ b@^\", \"status\": \"200\"}\\n{\"message\": \"7$\"}\\n{\"message\": \",t\", \"status\": \"200\"}\\n{\"message\": \"hp@+n\", \"status\": 200}\\n{\"message\": \"\", \"status\": 200}\\n{\"message\": \"\", \"status\": \"200\"}\\n{\"message\": \"\", \"status\": 200}\\n{\"message\": \"zb3=$ew\"}\\n{\"message\": \"0mzvi.0\", \"status\": 418}\\n{\"message\": \"\"}\\n{\"message\": \"q@at& \", \"status\": \"200\"}\\n{\"message\": \"j7r\", \"status\": \"200\"}\\n{\"message\": \"\", \"status\": \"2o0\"}\\n{\"message\": \"o9rp -\", \"status\": null}\\n{\"message\": \"i n&jqz3\", \"status\": \"2o0\"}\\n{\"message\": \"#xkp=\", \"status\": 200}\\n{\"message\": \"k^ -\", \"status\": null}\\n{\"message\": \"r$#t74bh\", \"status\": \"204\"}\\n{\"message\": \".i  ^z\", \"status\": null}\\n{\"message\\n\": \"7.7 \"}\\n{\"message\": \" 7@w4z0\", \"status\": 200}\\n{\"message\": \"04&\", \"status\": 404}\\n{\"message\": \"4onm\", \"status\": \"\"}\\n{\"message\": \" qk\"}\\n{\"message\": \"@e.6k\", \"status\": 200}\\n{\"message\": \"\", \"status\": \"bar\"}\\n{\"message\": \"\",\\n \"status\": 200}\\n{\"message\": \"+=jf&9\", \"status\": 200}\\n{\"message\": \"5 0fo\", \"status\": 200}\\n{\"message\": \"tun5u.\", \"status\": 418}\\n{\"message\": \"h$yp9\", \"status\": null}\\n{\"message\": \"xw\"}\\n{\"message\": \"!-96-9z \", \"status\": \"200\"}\\n{\"message\": \"tabt0q!\", \"status\": 200}\\n{\"message\": \" tz ci7v\", \"status\": \"2o0\"}\\n{\"message\": \"8jw\", \"status\": \"200\"}\\n{\"message\": \"xr-=tl\", \"status\": 200}\\n{\"message\": \"a,37@\", \"status\": 200}\\n{\"message\": \"p rkouo7\", \"status\": \"200\"}\\n{\"message\": \"0 90$ y\", \"status\": 404}\\n{\"message\": \"4e$04\", \"status\": \"2o0\"}\\n{\"message\": \"p=g\", \"status\": null}\\n{\"message\": \"s+0 !\", \"status\": 200}\\n{\"message\": \"tk t4+ r\", \"status\": null}\\n{\"message\": \"\", \"status\": \"2o0\"}\\n{\"message\": \"\", \"status\": \"2o0\"}\\n{\"message\": \"b.%3a%\", \"status\": \"\"}\\n{\"message\": \"\", \"status\": \"418\"}\\n{\"message\": \".\"\\n, \"status\": 200}\\n{\"message\": \"dw8r$b\", \"status\": \"200\"}\\n{\"message\": \"7sbt\", \"status\": 404}\\n{\"message\": \"^r$, \\n@n\", \"status\": \"\"}\\n{\"message\": \"m \", \"status\": 502}\\n{\"message\": \"5h7&=,j\"}\\n{\"message\": \"9w \"\\n, \"status\": null}\\n{\"message\": \" \", \"status\": null}\\n{\"message\": \"@s xcq-.\", \"status\": 418}\\n{\"message\": \"qic^oc43\", \"status\": \"200\"}\\n{\"message\": \"sd \", \"status\": \"200\"}\\n{\"message\": \"&-jvw\", \"status\": \"200\"}\\n{\"message\": \"ye+  \\n\", \"status\": \"200\"}\\n{\"message\": \"7 qd-\\n \", \"status\": 200}\\n{\"message\": \"fbwj+a\", \"status\": null}\\n{\"message\": \"p\", \"status\": \"305\"}\\n{\"message\": \"-vya\"}\\n{\"message\": \"=^mo&b\", \"status\": \"200\"}\\n{\"message\": \"#uqn&^\", \"status\": 200}\\n{\"message\": \"l+tej\\n\", \"status\": \"bar\"}\\n{\"message\": \"v\", \"status\": \"204\"}\\n{\"message\": \"\",\\n \"status\": 404}\\n{\"message\": \"y\"}\\n{\"message\": \"=ao\\n\", \"status\": 200}\\n{\"message\": \"+ ewm \", \"status\": \"2o0\"}\\n{\"message\": \",\", \"status\": 200}\\n{\"message\": \"$tq\", \"status\": \"200\"}\\n{\"message\": \"#g\", \"status\": \"200\"}\\n{\"message\": \" f ira\", \"status\": \"200\"}\\n{\"message\": \"ucawf\", \"status\": \"200\"}\\n{\"message\": \"oplz4o9$\", \"status\": \"200\"}\\n{\"message\": \"7e&z \", \"status\": \"200\"}\\n{\"message\": \"hjh\", \"status\": null}\\n{\"message\": \"\", \"status\": \"200\"}\\n{\"message\": \"i4p\"}\\n{\"message\": \"mfnygr0\", \"status\": null}\\n{\"message\": \"5e&@\", \"status\": 200}\\n{\"message\": \"n!k aml6\"}\\n{\"message\": \"\", \"status\": 200}\\n{\"message\": \",d8\", \"status\": 200}\\n{\"message\": \"=oq\", \"status\": 200}\\n{\"message\": \"\", \"status\": \"200\"}\\n{\"message\": \".m- 98\", \"status\": \"200\"}\\n{\"message\": \"0\", \"status\": 200}\\n{\"message\": \"-- t,c0\", \"status\": 200}\\n{\"message\\n\": \" 5.\"}\\n{\"message\": \" xs!po0\", \"status\": \"404\"}\\n{\"message\": \"v%0v\", \"status\": 200}\\n{\"message\": \"s7p f8m\", \"status\": 200}\\n{\"message\": \"%=%8rokm\", \"status\": null}\\n{\"message\": \"ldrn8 \", \"status\": null}\\n{\"message\": \"\"}\\n{\"message\": \"  %,to\", \"status\": 200}\\n{\"message\": \"w%-3.\\nr8\", \"status\": \"\"}\\n{\"message\": \"d 69v$z-\", \"status\": 200}\\n{\"message\": \"fzrh\", \"status\": 204}\\n{\"message\": \"=#t4$i\", \"status\": \"200\"}\\n{\"message\": \"ndnc\", \"status\": 200}\\n{\"message\": \"0\", \"status\": 200}\\n{\"message\": \"g04l3@ll\", \"status\": \"\"}\\n{\"message\": \". ^+y \", \"status\": 305}\\n{\"message\": \"\", \"status\": \"200\"}\\n{\"message\": \"7 tt#\", \"status\": \"200\"}\\n{\"message\": \"$=u j\", \"status\": 200}\\n{\"message\": \"o3yd\", \"status\": \"foo\"}\\n{\"message\": \"ld\", \"status\": \"200\"}\\n{\"message\": \"t4aw#34,\", \"status\": null}\\n{\"message\": \"n9uekfh \", \"status\": 404}\\n{\"message\": \"\", \\n\"status\": \"404\"}\\n{\"message\": \"6.sd\", \"status\": \"200\"}\\n{\"message\": \"^# v#v7\", \"status\": \"bar\"}\\n{\"message\": \"x%5+c\", \"status\": null}\\n{\"message\": \"v+\", \"status\": \"\"}\\n{\"message\": \"qq6d6\\n=f\", \"status\": \"\"}\\n{\"message\": \"q.\", \"status\": 200}\\n{\"message\": \"7dhbmh\", \"status\": null}\\n{\"message\": \"b pe!8\", \"status\": \"200\"}\\n{\"message\": \"+f \", \"status\": 200}\\n{\"message\": \"5ds 0xkj\"}\\n{\"message\": \"00r,\"}\\n{\"message\": \"o@8p%c!=\", \"status\": 200}\\n{\"message\": \" eg,of\", \"status\": 200}\\n{\"message\": \"n5eya\", \"status\": 200}\\n{\"message\": \"=+g\", \"status\": \"305\"}\\n{\"message\": \"b \", \"status\": \"\"}\\n{\"message\": \"\", \\n\"status\": \"200\"}\\n{\"message\": \"d #&\", \"status\": 404}\\n{\"message\": \"4n-\", \"status\": \"\"}\\n{\"message\": \"s\",\\n \"status\": null}\\n{\"message\": \"!ox#+#\", \"status\": 200}\\n{\"message\": \"@0hn&g=\", \"status\": \"502\"}\\n{\"message\": \"\", \"status\": null}\\n{\"message\": \",0xn8m\\n\", \"status\": \"404\"}\\n{\"message\": \"a. @\", \"status\": 204}\\n{\"message\": \"!\", \"status\": 200}\\n{\"message\": \"kau&\"\\n, \"status\": \"200\"}\\n{\"message\": \"%v0r%f\", \"status\": null}\\n{\"message\": \"g3m oa^d\", \"status\": \"200\"}\\n{\"message\": \"\", \"status\": \"502\"}\\n{\"message\": \"w&\", \"status\": \"200\"}\\n{\"message\": \"k %=3 v\", \"status\": \"204\"}\\n{\"message\": \"p#i zte\", \"status\": null}\\n{\"message\": \"#59i+9\", \"status\": null}\\n{\"message\": \"\"}\\n{\"message\": \"a,\", \"status\": \"200\"}\\n{\"message\": \"^7x6\", \"status\": \"502\"}\\n{\"message\": \" sm \\nl\", \"status\": \"\"}\\n{\"message\": \"wm4,uc4b\", \"status\": \"200\"}\\n{\"message\": \"e%,gwk\", \"status\": \"200\"}\\n{\"message\": \"6j55\\n \", \"status\": 200}\\n{\"message\": \"x,q4$\\ns#\", \"status\": 418}\\n{\"message\": \"uo8l8\", \"status\": \"200\"}\\n{\"message\": \"ud7mx=g\", \"status\": 200}\\n{\"message\": \"0$.  v%\", \"status\": \"2o0\"}\\n{\"message\": \"f m,  \", \"status\": 200}\\n{\"message\": \"+ 4.\", \"status\": \"200\"}\\n{\"message\": \"^v$ @\", \"status\": 200}\\n{\"message\": \"4&r7,-\", \"status\": \"2o0\"}\\n{\"message\": \"-\", \"status\": 200}\\n{\"message\": \"-srgr\\n6\", \"status\": 200}\\n{\"message\": \"\", \"status\": 200}\\n{\"message\": \"g!c,\", \"status\": 200}\\n{\"message\": \"%8& \", \"status\": 502}\\n{\"message\": \"&%qx7m\", \"status\": 200}\\n{\"message\": \"ov- x\", \"status\": 305}\\n{\"message\": \"\", \"status\": \"bar\"}\\n{\"message\": \"5\", \"status\": null}\\n{\"message\": \"tpida\", \"status\": \"200\"}\\n{\"message\": \"c pup9\", \"status\": null}\\n{\"message\": \"\", \"status\": \"200\"}\\n{\"message\": \"\", \"status\": 200}\\n{\"message\": \"8rqj0=kb\", \"status\": \"200\"}\\n{\"message\": \"!@-c^t,@\", \"status\": 305}\\n{\"message\": \"\", \"status\": \"\"}\\n{\"message\": \"w\", \"status\": \"2o0\"}\\n{\"message\": \"choic#^#\", \"status\": \"200\"}\\n{\"message\": \"% e \", \"status\": 200}\\n{\"message\": \"\", \"status\": null}\\n{\"message\": \"\", \"status\": \"200\"}'.strip().split('\\n')\n",
    "result_test_9 = (132, 42, 27, 77, 70)"
   ]
  },
  {
   "cell_type": "markdown",
   "id": "lasting-junior",
   "metadata": {},
   "source": [
    "### Run tests"
   ]
  },
  {
   "cell_type": "code",
   "execution_count": 71,
   "id": "julian-optimum",
   "metadata": {},
   "outputs": [
    {
     "name": "stdout",
     "output_type": "stream",
     "text": [
      "Correct!\n"
     ]
    }
   ],
   "source": [
    "assert solve(log_data_test_1) == result_test_1, 'test 1'\n",
    "assert solve(log_data_test_2) == result_test_2, 'test 2'\n",
    "assert solve(log_data_test_3) == result_test_3, 'test 3'\n",
    "assert solve(log_data_test_4) == result_test_4, 'test 4'\n",
    "assert solve(log_data_test_5) == result_test_5, 'test 5'\n",
    "assert solve(log_data_test_6) == result_test_6, 'test 6'\n",
    "assert solve(log_data_test_7) == result_test_7, 'test 7'\n",
    "assert solve(log_data_test_8) == result_test_8, 'test 8'\n",
    "assert solve(log_data_test_9) == result_test_9, 'test 9'\n",
    "print('Correct!')"
   ]
  },
  {
   "cell_type": "code",
   "execution_count": null,
   "id": "be680cfa",
   "metadata": {},
   "outputs": [],
   "source": []
  }
 ],
 "metadata": {
  "kernelspec": {
   "display_name": "Python 3.9.12 ('base')",
   "language": "python",
   "name": "python3"
  },
  "language_info": {
   "codemirror_mode": {
    "name": "ipython",
    "version": 3
   },
   "file_extension": ".py",
   "mimetype": "text/x-python",
   "name": "python",
   "nbconvert_exporter": "python",
   "pygments_lexer": "ipython3",
   "version": "3.9.12"
  },
  "vscode": {
   "interpreter": {
    "hash": "cd78fef2128015050713e82ca51c6520b11aee7c9ee8df750520bbbc7384cbaa"
   }
  }
 },
 "nbformat": 4,
 "nbformat_minor": 5
}
