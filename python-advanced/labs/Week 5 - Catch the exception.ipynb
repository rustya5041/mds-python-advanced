{
 "cells": [
  {
   "cell_type": "markdown",
   "id": "retained-retrieval",
   "metadata": {
    "deletable": false,
    "editable": false,
    "nbgrader": {
     "cell_type": "markdown",
     "checksum": "35feb646f9243886277aff97209404fc",
     "grade": false,
     "grade_id": "cell-6293dfd4abbf2189",
     "locked": true,
     "schema_version": 3,
     "solution": false,
     "task": false
    }
   },
   "source": [
    "# Python Advanced\n",
    "\n",
    "This is autograded assignment. After each problem there is a test cell (with `assert`'s). If it runs correctly, test is passed, if it gives error, something should be fixed. Implement the functions, click \"Validate\" button, then submit for grading. All problems weight 1 point except where stated otherwise."
   ]
  },
  {
   "cell_type": "markdown",
   "id": "descending-butterfly",
   "metadata": {
    "deletable": false,
    "editable": false,
    "nbgrader": {
     "cell_type": "markdown",
     "checksum": "a20eaffd3cada5b08ad68f73ec678146",
     "grade": false,
     "grade_id": "cell-d618a3ef542d82bc",
     "locked": true,
     "schema_version": 3,
     "solution": false,
     "task": false
    }
   },
   "source": [
    "## Catch the exception\n",
    "\n",
    "Write the decorator <b>exception_logger</b> which for the wrapped function catche exceptions <b>ArithmeticError</b>, <b>AssertionError</b>, <b>ZeroDivisionError</b> and return these exceptions. The `inner` function have to return 2 values: `func` result and exception.\n",
    "\n",
    "If `func` was calculated without exceptions return the tuple (func result, `None`). If `func` raised <b>ArithmeticError</b>, <b>AssertionError</b> or <b>ZeroDivisionError</b> return the tuple (None, ArithmeticError) or (None, AssertionError) or (None, ZeroDivisionError). In other case don't catch the func exception.\n",
    "\n",
    "\n",
    "\n",
    "\n",
    "Use this template:\n",
    "\n",
    "```python\n",
    "def exception_logger(func):\n",
    "    def inner(---TODO---):\n",
    "        pass\n",
    "\n",
    "    return inner\n",
    "\n",
    "```\n",
    "\n",
    "**Hint**: <a href=\"https://docs.python.org/3/library/exceptions.html#exception-hierarchy\">Exception hierarchy</a>"
   ]
  },
  {
   "cell_type": "code",
   "execution_count": 8,
   "id": "faced-engineering",
   "metadata": {
    "deletable": false,
    "nbgrader": {
     "cell_type": "code",
     "checksum": "17b3328b854a6076f3d1f7160ee6859f",
     "grade": false,
     "grade_id": "cell-6e69472c700846e7",
     "locked": false,
     "schema_version": 3,
     "solution": true,
     "task": false
    }
   },
   "outputs": [],
   "source": [
    "def exception_logger(func) -> tuple:\n",
    "    \"\"\"\n",
    "    Decorator which catch exceptions ArithmeticError, AssertionError, ZeroDivisionError and return these exceptions.\n",
    "\n",
    "    :param func: function\n",
    "\n",
    "    :return: tuple (func result, exception)\n",
    "    \"\"\"\n",
    "    def inner(*args, **kwargs) -> tuple:\n",
    "        \"\"\"\n",
    "        Inner function which return 2 values: func result and exception.\n",
    "\n",
    "        :param args: function arguments\n",
    "        :param kwargs: function keyword arguments\n",
    "\n",
    "        :return: tuple (func result, exception)\"\"\"\n",
    "        try:\n",
    "            return func(*args, **kwargs), None\n",
    "        except ZeroDivisionError:\n",
    "            return None, ZeroDivisionError\n",
    "        except ArithmeticError:\n",
    "            return None, ArithmeticError\n",
    "        except AssertionError:\n",
    "            return None, AssertionError\n",
    "    return inner"
   ]
  },
  {
   "cell_type": "markdown",
   "id": "lasting-junior",
   "metadata": {
    "deletable": false,
    "editable": false,
    "nbgrader": {
     "cell_type": "markdown",
     "checksum": "681c9c31b765bc7f861ce33ca5b3840c",
     "grade": false,
     "grade_id": "cell-30a084d9a4473ce5",
     "locked": true,
     "schema_version": 3,
     "solution": false,
     "task": false
    }
   },
   "source": [
    "### Run tests"
   ]
  },
  {
   "cell_type": "code",
   "execution_count": 9,
   "id": "julian-optimum",
   "metadata": {
    "deletable": false,
    "editable": false,
    "nbgrader": {
     "cell_type": "code",
     "checksum": "348d44d4bd8e29de8a8e4b27d5431e39",
     "grade": true,
     "grade_id": "cell-4a1304f23a1b7132",
     "locked": true,
     "points": 1,
     "schema_version": 3,
     "solution": false,
     "task": false
    }
   },
   "outputs": [
    {
     "name": "stdout",
     "output_type": "stream",
     "text": [
      "Great job! You passed all test cases.\n"
     ]
    }
   ],
   "source": [
    "def check():\n",
    "    @exception_logger\n",
    "    def div(x, y):\n",
    "        return x / y\n",
    "\n",
    "    try:\n",
    "        result, err = div(1, 0)  # return ZeroDivisionError\n",
    "        if result is None and err is ZeroDivisionError:\n",
    "            pass\n",
    "        else:\n",
    "            return '0\\tFailed test #1.1. Please try again!'\n",
    "    except Exception:\n",
    "        return '0\\tFailed test #1.2. Please try again!'\n",
    "\n",
    "    try:\n",
    "        div(1, 0, 6)  # should fail\n",
    "        return '0\\tFailed test #2. Please try again!'\n",
    "    except TypeError:\n",
    "        pass\n",
    "    except Exception:\n",
    "        return '0\\tFailed test #3. Please try again!'\n",
    "\n",
    "    try:\n",
    "        div(1, 0, j=6)  # should fail\n",
    "        return '0\\tFailed test #4. Please try again!'\n",
    "    except TypeError:\n",
    "        pass\n",
    "    except Exception:\n",
    "        return '0\\tFailed test #5. Please try again!'\n",
    "\n",
    "    @exception_logger\n",
    "    def check_assert(*args, **kwargs):\n",
    "        assert args[0] == 0\n",
    "        return '_'.join(map(str, args))\n",
    "\n",
    "    try:\n",
    "        if check_assert(0, 3, 5) != ('0_3_5', None):\n",
    "            return '0\\tFailed test #6. Please try again!'\n",
    "    except Exception:\n",
    "        return '0\\tFailed test #7. Please try again!'\n",
    "\n",
    "    try:\n",
    "        if check_assert(*[0, 3, 5]) != ('0_3_5', None):\n",
    "            return '0\\tFailed test #8. Please try again!'\n",
    "    except Exception:\n",
    "        return '0\\tFailed test #9. Please try again!'\n",
    "\n",
    "    try:\n",
    "        result, err = check_assert(1, 3, 5)  # return AssertionError\n",
    "        if result is None and err is AssertionError:\n",
    "            pass\n",
    "        else:\n",
    "            return '0\\tFailed test #10.1. Please try again!'\n",
    "    except Exception:\n",
    "        return '0\\tFailed test #10.2. Please try again!'\n",
    "\n",
    "    try:\n",
    "        result, err = check_assert(*[1, 3, 5])  # return AssertionError\n",
    "        if result is None and err is AssertionError:\n",
    "            pass\n",
    "        else:\n",
    "            return '0\\tFailed test #11.1. Please try again!'\n",
    "    except Exception:\n",
    "        return '0\\tFailed test #11.2. Please try again!'\n",
    "\n",
    "    @exception_logger\n",
    "    def check_arithmetic_error(**kwargs):\n",
    "        if 'k' in kwargs:\n",
    "            raise ArithmeticError\n",
    "\n",
    "        return ','.join(map(lambda x: f'{x[0]}={x[1]}', sorted(kwargs.items())))\n",
    "\n",
    "    try:\n",
    "        check_arithmetic_error(5)  # should fail\n",
    "        return '0\\tFailed test #12. Please try again!'\n",
    "    except TypeError:\n",
    "        pass\n",
    "    except Exception:\n",
    "        return '0\\tFailed test #13. Please try again!'\n",
    "\n",
    "    try:\n",
    "        result, err = check_arithmetic_error(k=10)  # return ArithmeticError\n",
    "        if result is None and err is ArithmeticError:\n",
    "            pass\n",
    "        else:\n",
    "            return '0\\tFailed test #14.1. Please try again!'\n",
    "    except Exception:\n",
    "        return '0\\tFailed test #14.2. Please try again!'\n",
    "\n",
    "    try:\n",
    "        check_arithmetic_error(1, k=9)  # should fail\n",
    "        return '0\\tFailed test #15. Please try again!'\n",
    "    except TypeError:\n",
    "        pass\n",
    "    except Exception:\n",
    "        return '0\\tFailed test #16. Please try again!'\n",
    "\n",
    "    try:\n",
    "        if check_arithmetic_error(fgh=9) != ('fgh=9', None):\n",
    "            return '0\\tFailed test #17. Please try again!'\n",
    "    except Exception:\n",
    "        return '0\\tFailed test #18. Please try again!'\n",
    "\n",
    "    try:\n",
    "        if check_arithmetic_error(fgh=9, eru='3456') != ('eru=3456,fgh=9', None):\n",
    "            return '0\\tFailed test #19. Please try again!'\n",
    "    except Exception:\n",
    "        return '0\\tFailed test #20. Please try again!'\n",
    "\n",
    "    return '1\\tGreat job! You passed all test cases.'\n",
    "\n",
    "\n",
    "result, message = check().split('\\t')\n",
    "assert result == '1', message\n",
    "print(message)"
   ]
  },
  {
   "cell_type": "code",
   "execution_count": null,
   "id": "3918f9ec",
   "metadata": {},
   "outputs": [],
   "source": []
  }
 ],
 "metadata": {
  "kernelspec": {
   "display_name": "Python 3.9.12 ('base')",
   "language": "python",
   "name": "python3"
  },
  "language_info": {
   "codemirror_mode": {
    "name": "ipython",
    "version": 3
   },
   "file_extension": ".py",
   "mimetype": "text/x-python",
   "name": "python",
   "nbconvert_exporter": "python",
   "pygments_lexer": "ipython3",
   "version": "3.9.12"
  },
  "vscode": {
   "interpreter": {
    "hash": "cd78fef2128015050713e82ca51c6520b11aee7c9ee8df750520bbbc7384cbaa"
   }
  }
 },
 "nbformat": 4,
 "nbformat_minor": 5
}
