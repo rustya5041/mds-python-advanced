{
 "cells": [
  {
   "cell_type": "code",
   "execution_count": 4,
   "metadata": {},
   "outputs": [],
   "source": [
    "class Queue:\n",
    "    def __init__(self):\n",
    "        self.instack = []\n",
    "        self.outstack = []\n",
    "\n",
    "    def push(self, x):\n",
    "        \"\"\"\n",
    "        Push element x to the back of queue.\n",
    "        :param x: int\n",
    "        :returns: None\n",
    "        \"\"\"\n",
    "        self.instack.append(x)\n",
    "\n",
    "    def pop(self):\n",
    "        \"\"\"\n",
    "        Removes the element from in front of queue and returns that element.\n",
    "        :raises: IndexError \n",
    "        :returns: int\n",
    "        \"\"\"\n",
    "        try:\n",
    "            while self.instack:\n",
    "                self.outstack.append(self.instack.pop())\n",
    "            return self.outstack.pop()\n",
    "        except IndexError:\n",
    "            raise IndexError(\"pop from an empty queue\")"
   ]
  },
  {
   "cell_type": "code",
   "execution_count": 5,
   "metadata": {},
   "outputs": [
    {
     "name": "stdout",
     "output_type": "stream",
     "text": [
      "Great job! You passed all test cases.\n"
     ]
    }
   ],
   "source": [
    "def check():\n",
    "    queue = Queue()\n",
    "\n",
    "    # pop from the empty queue\n",
    "    try:\n",
    "        queue.pop()\n",
    "    except IndexError as e:\n",
    "        if str(e) != 'pop from an empty queue':\n",
    "            return '0\\tIncorrect exception message.'\n",
    "    except Exception:\n",
    "        return '0\\tUse IndexError for method pop for the empty queue.'\n",
    "\n",
    "    # test case #1\n",
    "    try:\n",
    "        n_experiments = 100\n",
    "        for elem in range(n_experiments):\n",
    "            queue.push(elem)\n",
    "\n",
    "        for elem in range(n_experiments):\n",
    "            if elem != queue.pop():\n",
    "                return f'0\\tFailed test #1.{elem}. Please try again!'\n",
    "    except Exception:\n",
    "        return '0\\tFailed test #2. Please try again!'\n",
    "\n",
    "    # pop from the empty queue\n",
    "    try:\n",
    "        queue.pop()\n",
    "    except IndexError as e:\n",
    "        if str(e) != 'pop from an empty queue':\n",
    "            return '0\\tIncorrect exception message.'\n",
    "    except Exception:\n",
    "        return '0\\tUse IndexError for method pop for the empty queue.'\n",
    "\n",
    "    # test case #2\n",
    "    try:\n",
    "        n_experiments = 100\n",
    "        for elem in range(n_experiments):\n",
    "            queue.push(elem)\n",
    "            if elem != queue.pop():\n",
    "                return f'0\\tFailed test #3.{elem}. Please try again!'\n",
    "    except Exception:\n",
    "        return '0\\tFailed test #4. Please try again!'\n",
    "\n",
    "    # pop from the empty queue\n",
    "    try:\n",
    "        queue.pop()\n",
    "    except IndexError as e:\n",
    "        if str(e) != 'pop from an empty queue':\n",
    "            return '0\\tIncorrect exception message.'\n",
    "    except Exception:\n",
    "        return '0\\tUse IndexError for method pop for the empty queue.'\n",
    "\n",
    "    # test case #3\n",
    "    try:\n",
    "        import string\n",
    "\n",
    "        for elem in string.ascii_letters:\n",
    "            queue.push(elem)\n",
    "            if elem != queue.pop():\n",
    "                return f'0\\tFailed test #5.{elem}. Please try again!'\n",
    "    except Exception:\n",
    "        return '0\\tFailed test #6. Please try again!'\n",
    "\n",
    "    # pop from the empty queue\n",
    "    try:\n",
    "        queue.pop()\n",
    "    except IndexError as e:\n",
    "        if str(e) != 'pop from an empty queue':\n",
    "            return '0\\tIncorrect exception message.'\n",
    "    except Exception:\n",
    "        return '0\\tUse IndexError for method pop for the empty queue.'\n",
    "\n",
    "    return '1\\tGreat job! You passed all test cases.'\n",
    "\n",
    "\n",
    "result, message = check().split('\\t')\n",
    "assert result == '1', message\n",
    "print(message)"
   ]
  },
  {
   "cell_type": "code",
   "execution_count": null,
   "metadata": {},
   "outputs": [],
   "source": []
  }
 ],
 "metadata": {
  "kernelspec": {
   "display_name": "Python 3.9.12 ('base')",
   "language": "python",
   "name": "python3"
  },
  "language_info": {
   "codemirror_mode": {
    "name": "ipython",
    "version": 3
   },
   "file_extension": ".py",
   "mimetype": "text/x-python",
   "name": "python",
   "nbconvert_exporter": "python",
   "pygments_lexer": "ipython3",
   "version": "3.9.12"
  },
  "orig_nbformat": 4,
  "vscode": {
   "interpreter": {
    "hash": "cd78fef2128015050713e82ca51c6520b11aee7c9ee8df750520bbbc7384cbaa"
   }
  }
 },
 "nbformat": 4,
 "nbformat_minor": 2
}
