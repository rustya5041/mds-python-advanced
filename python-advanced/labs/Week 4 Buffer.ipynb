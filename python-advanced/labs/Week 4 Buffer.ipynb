{
 "cells": [
  {
   "cell_type": "code",
   "execution_count": 39,
   "metadata": {},
   "outputs": [],
   "source": [
    "class Buffer:\n",
    "    def __init__(self, maxsize):\n",
    "        \"\"\"\n",
    "        Constructor for buffer\n",
    "        :param: maxsize: maximum size of the buffer\n",
    "        :returns: None\n",
    "        \"\"\"\n",
    "        self.maxsize = maxsize\n",
    "        self.buffer = []\n",
    "        self.sum = 0\n",
    "\n",
    "    def add(self, *a):\n",
    "        \"\"\"\n",
    "        :param: a: sequence of elements\n",
    "        :returns: None\n",
    "        \"\"\"\n",
    "        for elem in a:\n",
    "            self.buffer.append(elem)\n",
    "            self.sum += elem\n",
    "            if len(self.buffer) == self.maxsize:\n",
    "                print(self.sum)\n",
    "                self.buffer.clear()\n",
    "\n",
    "    def get_current_part(self):\n",
    "        \"\"\"\n",
    "        :returns: current buffer state\n",
    "        \"\"\"\n",
    "        return self.buffer\n"
   ]
  },
  {
   "cell_type": "code",
   "execution_count": 40,
   "metadata": {},
   "outputs": [
    {
     "name": "stdout",
     "output_type": "stream",
     "text": [
      "10\n",
      "45\n",
      "79\n",
      "139\n",
      "197\n",
      "172\n",
      "97\n",
      "607\n",
      "172\n",
      "2397\n",
      "Great job! You passed all test cases.\n"
     ]
    }
   ],
   "source": [
    "def check():\n",
    "    # test case #1\n",
    "    try:\n",
    "        buffer = Buffer(5)\n",
    "        buffer.add(*list(range(13)))\n",
    "        buffer.add(*list(range(3)))\n",
    "\n",
    "        if buffer.get_current_part() != [2]:\n",
    "            return '0\\tFailed test #1. Please try again!'\n",
    "\n",
    "        buffer.add(*list(range(13, 20)))\n",
    "        if buffer.get_current_part() != [17, 18, 19]:\n",
    "            return '0\\tFailed test #2. Please try again!'\n",
    "\n",
    "        buffer.add(*list(range(3, -20, -2)))\n",
    "        if buffer.get_current_part() != []:\n",
    "            return '0\\tFailed test #3. Please try again!'\n",
    "\n",
    "        buffer.add(*list(range(100, 105)))\n",
    "        if buffer.get_current_part() != []:\n",
    "            return '0\\tFailed test #4. Please try again!'\n",
    "\n",
    "    except Exception as e:\n",
    "        return '0\\tFailed test #5. Please try again!'\n",
    "\n",
    "    # test case #2\n",
    "    try:\n",
    "        buffer = Buffer(30)\n",
    "        buffer.add(*list(range(13)))\n",
    "        buffer.add(*list(range(3)))\n",
    "\n",
    "        if buffer.get_current_part() != [0, 1, 2, 3, 4, 5, 6, 7, 8, 9, 10, 11, 12, 0, 1, 2]:\n",
    "            return '0\\tFailed test #6. Please try again!'\n",
    "\n",
    "        buffer.add(*list(range(13, 20)))\n",
    "        if buffer.get_current_part() != [0, 1, 2, 3, 4, 5, 6, 7, 8, 9, 10, 11, 12, 0, 1, 2, 13, 14, 15, 16, 17, 18, 19]:\n",
    "            return '0\\tFailed test #7. Please try again!'\n",
    "\n",
    "        buffer.add(*list(range(3, -20, -2)))\n",
    "        if buffer.get_current_part() != [-11, -13, -15, -17, -19]:\n",
    "            return '0\\tFailed test #8. Please try again!'\n",
    "\n",
    "        buffer.add(*list(range(80, 105)))\n",
    "        if buffer.get_current_part() != []:\n",
    "            return '0\\tFailed test #9. Please try again!'\n",
    "\n",
    "    except Exception as e:\n",
    "        return '0\\tFailed test #10. Please try again!'\n",
    "\n",
    "    return '1\\tGreat job! You passed all test cases.'\n",
    "\n",
    "\n",
    "result, message = check().split('\\t')\n",
    "assert result == '1', message\n",
    "print(message)"
   ]
  },
  {
   "cell_type": "code",
   "execution_count": null,
   "metadata": {},
   "outputs": [],
   "source": []
  }
 ],
 "metadata": {
  "kernelspec": {
   "display_name": "Python 3.9.12 ('base')",
   "language": "python",
   "name": "python3"
  },
  "language_info": {
   "codemirror_mode": {
    "name": "ipython",
    "version": 3
   },
   "file_extension": ".py",
   "mimetype": "text/x-python",
   "name": "python",
   "nbconvert_exporter": "python",
   "pygments_lexer": "ipython3",
   "version": "3.9.12"
  },
  "orig_nbformat": 4,
  "vscode": {
   "interpreter": {
    "hash": "cd78fef2128015050713e82ca51c6520b11aee7c9ee8df750520bbbc7384cbaa"
   }
  }
 },
 "nbformat": 4,
 "nbformat_minor": 2
}
