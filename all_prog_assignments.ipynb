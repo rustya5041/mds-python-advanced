{
 "cells": [
  {
   "cell_type": "code",
   "execution_count": null,
   "metadata": {},
   "outputs": [],
   "source": [
    "import sys"
   ]
  },
  {
   "cell_type": "markdown",
   "metadata": {},
   "source": [
    "# Python Advanced"
   ]
  },
  {
   "cell_type": "markdown",
   "metadata": {},
   "source": [
    "`Formula`\n",
    "\n",
    "0.42 * Labs +  \n",
    "0.05 * SGA CountVectorizer +  \n",
    "0.10 * Quizzes +  \n",
    "0.31 * Programming Assignments +   \n",
    "0.12 * SGA Inverted Index  "
   ]
  },
  {
   "cell_type": "markdown",
   "metadata": {},
   "source": [
    "`Content`\n",
    "\n",
    "1. **Variables, references, mutability; Sets; Dictionaries**\n",
    "2. **Dictionaries - extra methods. Sorting**\n",
    "3. **Error handling. Advanced for-loop. Files**\n",
    "4. **Classes**\n",
    "5. **Advanced Python features**\n",
    "6. **Modules. Useful standard modules**\n",
    "7. **Course project**\n"
   ]
  },
  {
   "cell_type": "markdown",
   "metadata": {},
   "source": [
    "## `Week 1. Variables, refrences, mutability. Sets, dictionaries.`"
   ]
  },
  {
   "cell_type": "markdown",
   "metadata": {},
   "source": [
    "**_`Variables`_**\n",
    "\n",
    "\n",
    "- Variables (references) are stored as Python objects.\n",
    "\n",
    "- Assignment is a link."
   ]
  },
  {
   "cell_type": "code",
   "execution_count": null,
   "metadata": {},
   "outputs": [],
   "source": [
    "a = 5000  # object\n",
    "d = a  # link\n",
    "\n",
    "\n",
    "b = 6000\n",
    "c = 6000\n",
    "\n",
    "print(d is a, b is c) # one returns true, the other false\n"
   ]
  },
  {
   "cell_type": "markdown",
   "metadata": {},
   "source": [
    "**_`Lists use refrence`_**\n",
    "\n",
    "\n",
    "Lists do not store objects, but rather store references for the objects."
   ]
  },
  {
   "cell_type": "code",
   "execution_count": null,
   "metadata": {},
   "outputs": [],
   "source": [
    "a = [[0] * 5]\n",
    "\n",
    "a[0][0]\n"
   ]
  },
  {
   "cell_type": "code",
   "execution_count": null,
   "metadata": {},
   "outputs": [],
   "source": [
    "b = []  # list\n",
    "\n",
    "b.append(1)  # append\n",
    "\n",
    "b  # list object does not contain object '1', it simply refrences the object 1."
   ]
  },
  {
   "cell_type": "markdown",
   "metadata": {},
   "source": [
    "**_`Mutability`_**\n",
    "\n",
    "**Immutable objects:** int, bool, float, str, tuple\n",
    "\n",
    "**Mutable objects:** list, dict, set\n",
    "\n",
    "NB: deepcopy can be used to recreate a mutable object with a different id"
   ]
  },
  {
   "cell_type": "markdown",
   "metadata": {},
   "source": [
    "**_`Hash tables (sets)`_**\n",
    "\n",
    "_`Set` is an **unordered** container that stores **immutable** objects **without duplicates**_\n",
    "\n"
   ]
  },
  {
   "cell_type": "code",
   "execution_count": null,
   "metadata": {},
   "outputs": [],
   "source": [
    "s = set()\n",
    "\n",
    "x1 = 1234\n",
    "x2 = 'hello'\n",
    "x3 = ['IT', '451']\n",
    "x4 = ('Mickey', 'Mouse')\n",
    "x5 = {'Spain', 'Portugal', 'Sweden'}\n",
    "x6 = ('Python', 'Java', ['C', 'C++'])\n",
    "\n",
    "s.add(x1) # hashable\n",
    "s.add(x2) # hashable\n",
    "s.add(x3) # not hashable\n",
    "s.add(x4) # hashable\n",
    "s.add(x5) # not hashable\n",
    "s.add(x6) # not hashable"
   ]
  },
  {
   "cell_type": "code",
   "execution_count": null,
   "metadata": {},
   "outputs": [],
   "source": [
    "# The input line contains a sequence of numbers separated by a space. \n",
    "# For each number print the word YES (on a separate line) if this number was previously encountered in the sequence, or NO if it was not.\n",
    "\n",
    "n = [int(i) for i in input().split()]\n",
    "s = set()\n",
    "\n",
    "\n",
    "for i in n:\n",
    "    if i in s:\n",
    "        print('YES')\n",
    "    else:\n",
    "        print('NO')\n",
    "        s.add(i)\n"
   ]
  },
  {
   "cell_type": "code",
   "execution_count": null,
   "metadata": {},
   "outputs": [],
   "source": [
    "# Guess the number-1\n",
    "# August and Beatrice are playing a game. August thought a natural number from 1 to N. Beatrice tries to guess this number, for this she calls some sets of natural numbers.\n",
    "# August answers Beatrice YES if the conceived number is in her named set or NO otherwise.\n",
    "\n",
    "potential_numbers = {int(i) for i in range(1, int(input()) + 1)}\n",
    "phrase = ''\n",
    "\n",
    "\n",
    "while phrase != 'HELP':\n",
    "    try:\n",
    "         guessed_numbers = {int(i) for i in input().split()}\n",
    "    except ValueError:\n",
    "        break\n",
    "    phrase = input()\n",
    "    if phrase == 'YES':\n",
    "        potential_numbers &=  guessed_numbers\n",
    "    elif phrase == 'NO':\n",
    "        potential_numbers -= guessed_numbers\n",
    "\n",
    "print(*sorted(potential_numbers))"
   ]
  },
  {
   "cell_type": "code",
   "execution_count": null,
   "metadata": {},
   "outputs": [],
   "source": [
    "# August and Beatrice keep playing the game, but August started cheating. \n",
    "# For each Beatrice's question, he chooses the answer YES or NO, so that the set of possible conceived numbers remains as large as possible. \n",
    "# \n",
    "# For example, if August has a number between 1 and 5, and Beatrice asked about numbers 1 and 3, then August answers NO, and if Beatrice asked about 1, 3, 4, then August answers YES. \n",
    "# But if Beatrice mentions exactly half of the remaining numbers in her question, then August always answers NO.\n",
    "# August at the answer considers all previous questions of Beatrice and the answers to them, that is set of possible conceived numbers decreases.\n",
    "pot_nums = {int(i) for i in range(1, int(input()) + 1)}\n",
    "phrase = ''\n",
    "\n",
    "while phrase != 'HELP':\n",
    "    try:\n",
    "         guessed_numbers = {int(i) for i in input().split()}\n",
    "    except ValueError:\n",
    "        break\n",
    "    if len(pot_nums & guessed_numbers) > len(pot_nums - guessed_numbers):\n",
    "        phrase = 'YES'\n",
    "    else:\n",
    "        phrase = 'NO'\n",
    "    pot_nums = pot_nums & guessed_numbers if phrase == 'YES' else pot_nums - guessed_numbers\n",
    "    print(phrase)\n",
    "print(*sorted(pot_nums))\n",
    "    "
   ]
  },
  {
   "cell_type": "code",
   "execution_count": null,
   "metadata": {},
   "outputs": [],
   "source": [
    "# Polyglots-1\n",
    "\n",
    "for student in range(int(input())):\n",
    "    lang_known = int(input())\n",
    "    if student == 0:\n",
    "        student_knows = {input() for i in range(lang_known)}\n",
    "    else:\n",
    "        student_knows &= {input() for i in range(lang_known)}\n",
    "\n",
    "print(len(student_knows), *sorted(student_knows), sep='\\n')"
   ]
  },
  {
   "cell_type": "code",
   "execution_count": null,
   "metadata": {},
   "outputs": [],
   "source": [
    "# Poly-2\n",
    "students = int(input())\n",
    "all_know = set()\n",
    "\n",
    "for student in range(students):\n",
    "    lang_known = int(input())\n",
    "    for langs in range(lang_known):\n",
    "        all_know.add(input())\n",
    "\n",
    "print(len(all_know), *sorted(all_know), sep='\\n')"
   ]
  },
  {
   "cell_type": "code",
   "execution_count": null,
   "metadata": {},
   "outputs": [],
   "source": [
    "# Political life in one country is very lively. There are K political parties in the country. Each party regularly declares a national strike. The days when at least one party goes on strike, provided it is not Saturday or Sunday (when nobody is working anyway), are very damaging to the economy. The i-th party declares strikes strictly every bi days, starting with the day with the number ai. It means that the i-th party declares strikes on the days ai, ai+bi, ai+2bi , etc. If several parties go on strike on the same day, this is considered one national strike. In the calendar of the country there are N days numbered from 1 to N. The year starts on Monday. The week consists of seven days, the sixth and seventh days of the week are weekends.\n",
    "\n",
    "days, parties = [int(i) for i in input().split()]\n",
    "strikes = set()\n",
    "\n",
    "for party in range(parties):\n",
    "    start, interval = [int(i) for i in input().split()]\n",
    "    while start <= days:\n",
    "        if start % 7 != 0 and start % 7 != 6:\n",
    "            strikes.add(start)\n",
    "        start += interval\n",
    "\n",
    "print(len(strikes))"
   ]
  },
  {
   "cell_type": "markdown",
   "metadata": {},
   "source": [
    "`Dictionaries`"
   ]
  },
  {
   "cell_type": "code",
   "execution_count": 143,
   "metadata": {},
   "outputs": [
    {
     "name": "stdout",
     "output_type": "stream",
     "text": [
      "France\n",
      "Germany\n",
      "France\n"
     ]
    }
   ],
   "source": [
    "# Countries are listed with their cities. For each city, learn to answer what country it is located in.\n",
    "# Input format: The program gets the number of countries N. Next comes N lines, each line starts with the name of the country, followed by the names of cities in that country. \n",
    "# The name of each city consists of one word. The next line contains the number M, followed by M requests - the names of some M cities listed above.\n",
    "\n",
    "countries = {}\n",
    "\n",
    "for country in range(int(input())):\n",
    "   \n",
    "    list_of_inputs = input().split()\n",
    "   \n",
    "    country = list_of_inputs[0]\n",
    "    cities = list_of_inputs[1:]\n",
    "\n",
    "    countries[country] = cities\n",
    "\n",
    "for city in range(int(input())):\n",
    "    city = input()\n",
    "    for country, cities in countries.items():\n",
    "        if city in cities:\n",
    "            print(country)\n",
    "\n"
   ]
  },
  {
   "cell_type": "code",
   "execution_count": 142,
   "metadata": {},
   "outputs": [
    {
     "data": {
      "text/plain": [
       "{'France': ['Paris', 'Lyon', 'Strasbourg', 'Grenoble'],\n",
       " 'Germany': ['Berlin', 'Munich', 'Bremen']}"
      ]
     },
     "execution_count": 142,
     "metadata": {},
     "output_type": "execute_result"
    }
   ],
   "source": [
    "# The text is given. A word is considered a sequence of non-space characters. Words are separated by one or more spaces.\n",
    "# For each word from this text find how many times it has occurred in this text before.\n",
    "\n",
    "text = input().split()\n",
    "words = {}\n",
    "\n",
    "for word in text:\n",
    "    if word in words:\n",
    "        words[word] += 1\n",
    "        print(words[word], end=' ')\n",
    "    else:\n",
    "        words[word] = 0\n",
    "        print(words[word], end=' ')"
   ]
  },
  {
   "cell_type": "code",
   "execution_count": 150,
   "metadata": {},
   "outputs": [
    {
     "ename": "ValueError",
     "evalue": "not enough values to unpack (expected 2, got 0)",
     "output_type": "error",
     "traceback": [
      "\u001b[0;31m---------------------------------------------------------------------------\u001b[0m",
      "\u001b[0;31mValueError\u001b[0m                                Traceback (most recent call last)",
      "Cell \u001b[0;32mIn [150], line 7\u001b[0m\n\u001b[1;32m      4\u001b[0m pairs \u001b[39m=\u001b[39m {}\n\u001b[1;32m      6\u001b[0m \u001b[39mfor\u001b[39;00m i \u001b[39min\u001b[39;00m \u001b[39mrange\u001b[39m(\u001b[39mint\u001b[39m(\u001b[39minput\u001b[39m())):\n\u001b[0;32m----> 7\u001b[0m     key, value \u001b[39m=\u001b[39m \u001b[39minput\u001b[39m()\u001b[39m.\u001b[39msplit()\n\u001b[1;32m      8\u001b[0m     pairs[value] \u001b[39m=\u001b[39m key\n\u001b[1;32m     10\u001b[0m \u001b[39mprint\u001b[39m(pairs[\u001b[39minput\u001b[39m()])\n",
      "\u001b[0;31mValueError\u001b[0m: not enough values to unpack (expected 2, got 0)"
     ]
    }
   ],
   "source": [
    "# You are given a dictionary consisting of pairs of words. Each word in pairs is synonymous with another word in pairs. \n",
    "# All words in the dictionary are different. For one given word, define its synonym.\n",
    "\n",
    "pairs = {}\n",
    "\n",
    "for i in range(int(input())):\n",
    "    key, value = input().split()\n",
    "    pairs[value] = key\n",
    "\n",
    "print(pairs[input()])"
   ]
  },
  {
   "cell_type": "code",
   "execution_count": 159,
   "metadata": {},
   "outputs": [
    {
     "name": "stdout",
     "output_type": "stream",
     "text": [
      "0 0 0 0 0 0 1 0 1 0 0 1 0 2 2 0 0 0 1 2 3 3 1 1 4 0 0 1 2 4 1 5 0 0 "
     ]
    }
   ],
   "source": [
    "text = input().replace('\\n', '').split()\n",
    "\n",
    "words = {}\n",
    "\n",
    "for word in text:\n",
    "    if word in words:\n",
    "        words[word] += 1\n",
    "        print(words[word], end=' ')\n",
    "    else:\n",
    "        words[word] = 0\n",
    "        print(words[word], end=' ')"
   ]
  },
  {
   "cell_type": "code",
   "execution_count": 253,
   "metadata": {},
   "outputs": [
    {
     "name": "stdout",
     "output_type": "stream",
     "text": [
      "a\n"
     ]
    }
   ],
   "source": [
    "# The text is given. Print the word that appears most frequently in this text. If there are several such words, print the one that is less in the lexicographical order.\n",
    "\n",
    "text = '''q w e r t y u i o p\n",
    "a s d f g h j k l\n",
    "z x c v b n m'''\n",
    "\n",
    "words = {}\n",
    "for word in sorted(text.split()):\n",
    "    if word in words:\n",
    "        words[word] += 1\n",
    "    else:\n",
    "        words[word] = 1\n",
    "\n",
    "max_count = max(words.values())\n",
    "\n",
    "for word, count in words.items():\n",
    "    if count == max_count:\n",
    "        print(word)\n",
    "        break"
   ]
  },
  {
   "cell_type": "code",
   "execution_count": null,
   "metadata": {},
   "outputs": [],
   "source": [
    "# The teacher gave Peter a homework. In the given text Peter has to put stress on words. After that the teacher gave Sam the task to check Peter's homework. Sam is very unfamiliar with this topic, so he found a dictionary that shows how to put stress on words. Unfortunately, not all words in this dictionary are present. Sam decided that in words that are not in the dictionary, he will consider that Peter put stress correctly, if this word has exactly only one stress.\n",
    "# It turned out that in some words the stress can be put more than one way. Sam decided that if Peter's stress corresponds to one of the variants in the dictionary, he would count it as a correct stress arrangement, and if it doesn't, he would count it as a mistake. You are given the dictionary used by Sam and Peter's homework. Your task is to find the number of mistakes that Sam counts.\n",
    "\n",
    "\n",
    "n, dictionary, mistakes = int(input()), {}, 0\n",
    "\n",
    "for i in range(n):\n",
    "    word = input()\n",
    "    l_word = word.lower()\n",
    "\n",
    "    if l_word not in dictionary:\n",
    "        dictionary[l_word] = set()\n",
    "    dictionary[l_word].add(word)\n",
    "\n",
    "phrase = input().split()\n",
    "\n",
    "for word in phrase:\n",
    "    l_word = word.lower()\n",
    "    if l_word in dictionary:\n",
    "        mistakes += int(word not in dictionary[l_word])\n",
    "    else:\n",
    "        stress_n = 0\n",
    "        for letter in word:\n",
    "            stress_n += int(letter.isupper())\n",
    "        mistakes += int(stress_n != 1)\n",
    "\n",
    "print(mistakes)\n"
   ]
  },
  {
   "cell_type": "markdown",
   "metadata": {},
   "source": [
    "# Week 2. Dictionaries - extra methods"
   ]
  },
  {
   "cell_type": "code",
   "execution_count": 105,
   "metadata": {},
   "outputs": [],
   "source": [
    "# Previous word\n",
    "\n",
    "# The text is given. A word is considered a sequence of non-space characters. Words are separated by one or more spaces. \n",
    "# For each word from this text find the index of its previous appearance in the text. The index of the first word is 0. If a word occur the first time print -1.\n",
    "words, string = {}, []\n",
    "\n",
    "\n",
    "for input_line in sys.stdin:\n",
    "    string.extend(input_line.split())\n",
    "\n",
    "for word, index in enumerate(string):\n",
    "    print(words.get(word, -1), end=' ')\n",
    "    words[word] = index\n"
   ]
  },
  {
   "cell_type": "code",
   "execution_count": null,
   "metadata": {},
   "outputs": [],
   "source": [
    "# Some bank wants to implement a customer account management system that supports the following operations:\n",
    "# Deposit the client's account.\n",
    "# Withdraw money from the account.\n",
    "# Request account balance.\n",
    "# Make a money transfer between customer accounts.\n",
    "# To charge interest to all clients.\n",
    "\n",
    "# You need to implement such a system. Bank clients are identified by their names (unique string that does not contain spaces). \n",
    "# Initially, the bank does not have any clients. As soon as a client makes a deposit, withdrawal or transfer of money, he gets a zero balance account. \n",
    "# All further operations are carried out with this account only. The amount in the account can be either positive or negative, and is always an integer number.\n",
    "\n",
    "# Input format: The input contains a sequence of operations. The list of possible operations:\n",
    "# DEPOSIT name sum - deposit amount sum to name's account. If the client does not have an account, the account is created.\n",
    "# WITHDRAW name sum - withdraw amount sum from name's account. If the client does not have an account, the account is created.\n",
    "# BALANCE name - find out the balance of the client name.\n",
    "# TRANSFER name1 name2 sum - transfer amount sum from name1's account to name2's account. If any of the clients does not have an account, an account is created for them.\n",
    "# INCOME p - charge p% of the account's amount for all clients with open accounts. Interest is charged only to clients with a positive account balance, if the client has a negative balance, his balance does not change. After interest is accrued, the amount in the account remains integer, i.e. only an integer number of monetary units is accrued. The fractional part of the accrued interest is discarded.\n",
    "# Output format: For each BALANCE request, the program must print the account balance of that customer. If the client with the requested name does not have a bank account, print ERROR.\n",
    "import sys\n",
    "\n",
    "accounts = dict()\n",
    "\n",
    "for input_line in sys.stdin:\n",
    "    command, *args = input_line.split()\n",
    "\n",
    "    if command == 'DEPOSIT':\n",
    "        name, sum = args\n",
    "\n",
    "        if name not in accounts:\n",
    "            accounts[name] = 0\n",
    "        accounts[name] += int(sum)\n",
    "\n",
    "    elif command == 'WITHDRAW':\n",
    "        name, sum = args\n",
    "\n",
    "        if name not in accounts:\n",
    "            accounts[name] = 0\n",
    "        accounts[name] -= int(sum)\n",
    "        \n",
    "    elif command == 'BALANCE':\n",
    "        name = args[0]\n",
    "        if name in accounts:\n",
    "            print(accounts[name])\n",
    "        else:\n",
    "            print('ERROR')\n",
    "\n",
    "    elif command == 'TRANSFER':\n",
    "        name1, name2, sum = args\n",
    "\n",
    "        if name1 not in accounts:\n",
    "            accounts[name1] = 0\n",
    "\n",
    "        if name2 not in accounts:\n",
    "            accounts[name2] = 0\n",
    "        \n",
    "        accounts[name1] -= int(sum)\n",
    "        accounts[name2] += int(sum)\n",
    "\n",
    "    elif command == 'INCOME':\n",
    "        p = int(args[0])\n",
    "\n",
    "        for name in accounts:\n",
    "            if accounts[name] > 0:\n",
    "                accounts[name] += accounts[name] * p // 100"
   ]
  },
  {
   "cell_type": "code",
   "execution_count": null,
   "metadata": {},
   "outputs": [],
   "source": [
    "# Party elections are held in one country. To reach the next stage of the election, the party must overcome the seven percent barrier of all votes.\n",
    "# Input format: The first line of the input contains the word 'PARTIES:'. Then comes the list of parties participating in the elections. Then comes a line containing the word 'VOTES:'. It is followed by the names of the parties that voters voted for, one party per line. It is guaranteed that all vote lines are presented in the list of parties.\n",
    "# Output format: The program should print the names of the parties that received at least 7% of the votes in the order in which they follow in the first list.\n",
    "parties, votes = [], []\n",
    "\n",
    "for input_line in sys.stdin:\n",
    "    input_line = input_line.strip()\n",
    "    if input_line == 'VOTES:':\n",
    "        break\n",
    "    else:\n",
    "        parties.append(input_line)\n",
    "\n",
    "for input_line in sys.stdin:\n",
    "        votes.append(input_line.strip())\n",
    "\n",
    "votes_n = len(votes)\n",
    "votes = {party: votes.count(party) for party in parties}\n",
    "\n",
    "for party, vote in votes.items():\n",
    "    if vote / votes_n >= 0.07:\n",
    "        print(party)\n",
    "    \n",
    "\n"
   ]
  },
  {
   "cell_type": "markdown",
   "metadata": {},
   "source": [
    "# Week 2. Sorting"
   ]
  },
  {
   "cell_type": "code",
   "execution_count": null,
   "metadata": {},
   "outputs": [],
   "source": [
    "# Shoe store\n",
    "\n",
    "# The shoe store sells shoes of different sizes. It is known that one pair of shoes can be put on another if it is at least three sizes larger. \n",
    "# A customer came to the store. Need to find how many pairs of shoes can offer him the seller so that customer can put them all on at the same time.\n",
    "# Input format: The first number is the size of the customer's foot (he will not be able to put on a smaller shoe), in the next line - the size of each pair of shoes in the store through a space.\n",
    "# Output format: Print one number - the maximum number of pairs of shoes that the customer can wear at the same time.\n",
    "\n",
    "customer_size, shoes_num = int(input()), 0\n",
    "shoes = sorted({int(i) for i in input().split()})\n",
    "\n",
    "for shoe in shoes:\n",
    "    if shoe == customer_size or shoe >= customer_size + 3:\n",
    "        shoes_num += 1\n",
    "        customer_size = shoe\n",
    "print(shoes_num)\n",
    "\n",
    "\n"
   ]
  },
  {
   "cell_type": "code",
   "execution_count": null,
   "metadata": {},
   "outputs": [],
   "source": [
    "# Data archive\n",
    "\n",
    "# The system administrator remembered that he had not archived user files for a long time and decided to do it right now. However, the size of the disk where he can place the archive, may be less than the total amount of archived files. Therefore, the system administrator wants to archive the data of as many users as possible.\n",
    "# It is known how much disk space each user's files occupy. Write a program that will find the maximum number of users whose data can be archived.\n",
    "# Input format: In the first line the program gets the size of free disk space S and the number of users N. After that in N separate lines there is a size of data of each user.\n",
    "# Output format: Print the largest number of users whose data can be archived.\n",
    "\n",
    "s, n = [int(i) for i in input().split()]\n",
    "users_data = sorted([int(input()) for i in range(n)])\n",
    "\n",
    "realistic_n = 0\n",
    "\n",
    "\n",
    "for user in users_data:\n",
    "    if s >= user:\n",
    "        s -= user\n",
    "        realistic_n += 1\n",
    "\n",
    "print(realistic_n)\n",
    "\n"
   ]
  },
  {
   "cell_type": "code",
   "execution_count": null,
   "metadata": {},
   "outputs": [],
   "source": [
    "# Taxi\n",
    "\n",
    "# After a lengthy meeting, the company's director decided to order a taxi to take the staff home. He ordered N cars - exactly as many employees as he had. However, when taxi drivers arrived, it turned out that each taxi driver has a different fare for 1 kilometer.\n",
    "# The director knows the distance from work to home for each employee (unfortunately, all employees live in different directions, so it is impossible to send two employees in one car). Now the director wants to find out how much to pay for a taxi for all employees. Obviously, the director wants to pay as little as possible.\n",
    "# Input format: The first line contains N numbers through a space specifying distances in kilometers from work to the homes of employees. The second line contains N numbers - rates for one kilometer in a taxi.\n",
    "# Output format: The smallest price for delivery of all employees.\n",
    "\n",
    "kms, rates = sorted([int(i) for i in input().split()], reverse = True), sorted([int(j) for j in input().split()]) \n",
    "n_emp = len(kms)\n",
    "\n",
    "print(sum([kms[i] * rates[i] for i in range(n_emp)]))\n",
    "\n"
   ]
  },
  {
   "cell_type": "code",
   "execution_count": null,
   "metadata": {},
   "outputs": [],
   "source": [
    "# Frequency analysis\n",
    "\n",
    "# The text is given. Print all unique words found in the text, one for each line. Words should be sorted by their frequency in the text, and in the lexicographical order, if they appear at the same frequency.\n",
    "# Input format: Text is supplied to the input.\n",
    "# Output format: Print the answer to the task.\n",
    "\n",
    "words = {}\n",
    "\n",
    "for input_line in sys.stdin:\n",
    "    text = input_line.split()\n",
    "\n",
    "    for word in text:\n",
    "        if word in words:\n",
    "            words[word] += 1\n",
    "        else:\n",
    "            words[word] = 1\n",
    "\n",
    "for word in sorted(words, key = lambda x: (-words[x], x)):\n",
    "    print(word)"
   ]
  },
  {
   "cell_type": "code",
   "execution_count": 75,
   "metadata": {},
   "outputs": [],
   "source": [
    "# Sales\n",
    "\n",
    "# Database of sales of some online shop is given. Each line of the input file is a record of the following view: (customer item quantity), customer and item are strings without spaces.\n",
    "# Create a list of all customers, and for each customer, calculate the number of units of each item type.\n",
    "# Input format: Shopping information is entered in the specified format.\n",
    "# Output format: Print the list of all customers in the lexicographical order, after the name of each customer, print a colon, then print the list of names of all products purchased by this customer in the lexicographical order, after the name of each product, print the number of units purchased by this customer. Information about each item is printed on a separate line\n",
    "\n",
    "customers = dict()\n",
    "\n",
    "for input_line in sys.stdin:\n",
    "    customer, item, quantity = input_line.split()\n",
    "    if customer not in customers:\n",
    "        customers[customer] = {}\n",
    "    if item not in customers[customer]:\n",
    "        customers[customer][item] = 0\n",
    "    customers[customer][item] += int(quantity)\n",
    "\n",
    "for customer in sorted(customers):\n",
    "    print(f'{customer}:')\n",
    "    for item in sorted(customers[customer]):\n",
    "        print(item, customers[customer][item])"
   ]
  },
  {
   "cell_type": "code",
   "execution_count": 74,
   "metadata": {},
   "outputs": [
    {
     "name": "stdout",
     "output_type": "stream",
     "text": [
      "are\n",
      "taxi\n",
      "news\n"
     ]
    }
   ],
   "source": [
    "# Learning the wrods\n",
    "\n",
    "# Peter wants to learn new English words, but wants to do it in a certain sequence. \n",
    "# First he chooses short words, and if the words are the same length he chooses in lexicographical order when reading from right to left. \n",
    "\n",
    "n_words = int(input())\n",
    "words = [input() for i in range(n_words)]\n",
    "\n",
    "words_dict = {word : len(word) for word in words}\n",
    "\n",
    "for word in sorted(words_dict, key = lambda x: (words_dict[x], x[::-1])):\n",
    "    print(word)"
   ]
  },
  {
   "cell_type": "code",
   "execution_count": 84,
   "metadata": {},
   "outputs": [
    {
     "name": "stdout",
     "output_type": "stream",
     "text": [
      "38\n",
      "48\n",
      "2\n",
      "75\n"
     ]
    }
   ],
   "source": [
    "# Numerical quiz\n",
    "\n",
    "# For one quiz, you need to sort the list of numbers in a tricky way. For the number (a1, a2, . . . , an) comparison value is (a1 - an)+(a2 - an-1) + . . . + (an/2 - an/2+1) . \n",
    "# If the number of digits in this number is odd, the middle digit does not participate in the calculation. Sort numbers according to comparison values in ascending order. \n",
    "# For numbers with the equal comparison value use they absolute values for additional sorting.\n",
    "\n",
    "n = int(input())\n",
    "numbers = [input() for _ in range(n)]\n",
    "\n",
    "num_dict = {}\n",
    "\n",
    "for number in numbers:\n",
    "    num_dict[number] = 0\n",
    "    for i in range(len(number) // 2):\n",
    "        num_dict[number] += int(number[i]) - int(number[-i - 1])\n",
    "    \n",
    "for number in sorted(num_dict, key = lambda x: (num_dict[x], abs(int(x)))):\n",
    "    print(number)\n",
    "\n",
    "\n"
   ]
  },
  {
   "cell_type": "markdown",
   "metadata": {},
   "source": [
    "# Week 3. Error handling"
   ]
  },
  {
   "cell_type": "code",
   "execution_count": 2,
   "metadata": {},
   "outputs": [
    {
     "data": {
      "text/plain": [
       "12.3"
      ]
     },
     "execution_count": 2,
     "metadata": {},
     "output_type": "execute_result"
    }
   ],
   "source": [
    "# we can use Exception to catch all errors\n",
    "# we can call the reason if we cache the expection and call it later\n",
    "# this construction restuls in 1 error message printed instead of 2.\n",
    "\n",
    "def convert_to_float(num):\n",
    "    try:\n",
    "        return float(num)\n",
    "    except Exception as err:\n",
    "        raise Exception(f'Could not convert to float. Reason: {err}') from None\n",
    "\n",
    "convert_to_float('12.3')\n"
   ]
  },
  {
   "cell_type": "markdown",
   "metadata": {},
   "source": [
    "# Week 3. Map, enumerate, zip"
   ]
  },
  {
   "cell_type": "code",
   "execution_count": 3,
   "metadata": {},
   "outputs": [
    {
     "name": "stdout",
     "output_type": "stream",
     "text": [
      "1 8 27 64\n"
     ]
    }
   ],
   "source": [
    "# Map\n",
    "\n",
    "# The map() function applies a function to all the items in an input.\n",
    "# The syntax is: map(function_to_apply, list_of_inputs). \n",
    "# Map uses lazy processing and returns the list only once (idk why yet)\n",
    "\n",
    "numbers = (1, 2, 3, 4)\n",
    "\n",
    "def cube(x):\n",
    "    return x ** 3\n",
    "\n",
    "result = map(cube, numbers)\n",
    "\n",
    "print(*(result), *(result)) # can unpack only once"
   ]
  },
  {
   "cell_type": "code",
   "execution_count": 4,
   "metadata": {},
   "outputs": [
    {
     "name": "stdout",
     "output_type": "stream",
     "text": [
      "1 Rustam\n",
      "2 Maga\n",
      "3 Habib\n",
      "4 \n",
      "5 Islam\n",
      "6 \n",
      "\n",
      "4 6\n"
     ]
    }
   ],
   "source": [
    "# Enumerate\n",
    "\n",
    "# The enumerate() function adds a counter to an iterable and returns it in a form of enumerate object.\n",
    "# The syntax is: enumerate(iterable, start=0).\n",
    "\n",
    "names = ['Rustam', 'Maga', 'Habib', '', 'Islam', '']\n",
    "\n",
    "for i, name in enumerate(names, 1):\n",
    "    print(i, name)\n",
    "print()\n",
    "\n",
    "def find_empty_names(names):\n",
    "    print(*(i for i, name in enumerate(names,1) if not name))\n",
    "\n",
    "find_empty_names(names)"
   ]
  },
  {
   "cell_type": "code",
   "execution_count": 5,
   "metadata": {},
   "outputs": [],
   "source": [
    "# Zip\n",
    "\n",
    "# The zip() function takes iterables (can be zero or more), aggregates them in a tuple, and return it.\n",
    "# The syntax is: zip(*iterables).\n",
    "\n",
    "# EXAMPLE"
   ]
  },
  {
   "cell_type": "code",
   "execution_count": 6,
   "metadata": {},
   "outputs": [
    {
     "name": "stdout",
     "output_type": "stream",
     "text": [
      "4 6\n"
     ]
    }
   ],
   "source": [
    "# finding empty names\n",
    "\n",
    "names = ['Rustam', 'Maga', 'Habib', '', 'Islam', '']\n",
    "\n",
    "def find_empty_names(names):\n",
    "    print(*[i for i, name in enumerate(names,1) if not name])\n",
    "\n",
    "find_empty_names(names)"
   ]
  },
  {
   "cell_type": "code",
   "execution_count": 7,
   "metadata": {},
   "outputs": [],
   "source": [
    "# XOR (exclusive or) is a boolean operator with the following truth table:\n",
    "\n",
    "# 𝑥𝑜𝑟(0,0)=0;\n",
    "# 𝑥𝑜𝑟(0,1)=1;\n",
    "# 𝑥𝑜𝑟(1,0)=1;\n",
    "# 𝑥𝑜𝑟(1,1)=0.\n",
    "\n",
    "# Two sequences (𝑎1,…,𝑎𝑛) and (𝑏1,…,𝑏𝑛)consisting of 0 and 1 are submitted to your program input.\n",
    "# Calculate the sequence (𝑐1,…,𝑐𝑛) where each 𝑐𝑖=𝑥𝑜𝑟(𝑎𝑖,𝑏𝑖)\n",
    "\n",
    "def xor(a,b):\n",
    "    zipped_input = zip((int(i) for i in input().split()), (int(i) for i in input().split()))\n",
    "    c = (i^j for i, j in zipped_input)\n",
    "    print(*(c))\n"
   ]
  },
  {
   "cell_type": "code",
   "execution_count": 8,
   "metadata": {},
   "outputs": [
    {
     "ename": "AttributeError",
     "evalue": "'function' object has no attribute 'split'",
     "output_type": "error",
     "traceback": [
      "\u001b[0;31m---------------------------------------------------------------------------\u001b[0m",
      "\u001b[0;31mAttributeError\u001b[0m                            Traceback (most recent call last)",
      "Cell \u001b[0;32mIn [8], line 8\u001b[0m\n\u001b[1;32m      1\u001b[0m \u001b[39m# To create a quiz you need to select words similar to the correct answer. \u001b[39;00m\n\u001b[1;32m      2\u001b[0m \u001b[39m# You are given proposed words and their similarity score. Leave only words with similarity score greater than 0.5\u001b[39;00m\n\u001b[1;32m      3\u001b[0m \u001b[39m# Print these words in descending order of similarity score.\u001b[39;00m\n\u001b[1;32m      4\u001b[0m \n\u001b[1;32m      5\u001b[0m \u001b[39m# Input format: The first line contains the proposed words. The second line contains similarity score of each word. It is guaranteed that all words have different similarity scores.\u001b[39;00m\n\u001b[1;32m      6\u001b[0m \u001b[39m# Output format: Print words in descending order of similarity score after filtering.\u001b[39;00m\n\u001b[0;32m----> 8\u001b[0m words,scores \u001b[39m=\u001b[39m [i \u001b[39mfor\u001b[39;00m i \u001b[39min\u001b[39;00m \u001b[39minput\u001b[39m()\u001b[39m.\u001b[39msplit()], [\u001b[39mfloat\u001b[39m(i) \u001b[39mfor\u001b[39;00m i \u001b[39min\u001b[39;00m \u001b[39minput\u001b[39m\u001b[39m.\u001b[39msplit()]\n\u001b[1;32m     10\u001b[0m filtered_words \u001b[39m=\u001b[39m \u001b[39mfilter\u001b[39m(\u001b[39mlambda\u001b[39;00m score: score[\u001b[39m1\u001b[39m] \u001b[39m>\u001b[39m \u001b[39m0.5\u001b[39m, \u001b[39mzip\u001b[39m(words, scores))\n\u001b[1;32m     12\u001b[0m \u001b[39mfor\u001b[39;00m word \u001b[39min\u001b[39;00m \u001b[39msorted\u001b[39m(filtered_words, key \u001b[39m=\u001b[39m \u001b[39mlambda\u001b[39;00m x: x[\u001b[39m1\u001b[39m], reverse \u001b[39m=\u001b[39m \u001b[39mTrue\u001b[39;00m):\n",
      "\u001b[0;31mAttributeError\u001b[0m: 'function' object has no attribute 'split'"
     ]
    }
   ],
   "source": [
    "# To create a quiz you need to select words similar to the correct answer. \n",
    "# You are given proposed words and their similarity score. Leave only words with similarity score greater than 0.5\n",
    "# Print these words in descending order of similarity score.\n",
    "\n",
    "# Input format: The first line contains the proposed words. The second line contains similarity score of each word. It is guaranteed that all words have different similarity scores.\n",
    "# Output format: Print words in descending order of similarity score after filtering.\n",
    "\n",
    "words,scores = [i for i in input().split()], [float(i) for i in input.split()]\n",
    "\n",
    "filtered_words = filter(lambda score: score[1] > 0.5, zip(words, scores))\n",
    "\n",
    "for word in sorted(filtered_words, key = lambda x: x[1], reverse = True):\n",
    "    print(word[0])\n"
   ]
  },
  {
   "cell_type": "code",
   "execution_count": 9,
   "metadata": {},
   "outputs": [
    {
     "name": "stdout",
     "output_type": "stream",
     "text": [
      "10 60 5 150 140\n"
     ]
    }
   ],
   "source": [
    "# After a lengthy meeting, the company's director decided to order a taxi to take the staff home. He ordered 𝑁 cars − exactly as many employees as he had. However, when taxi drivers arrived, it turned out that each taxi driver has a different fare for 1 kilometer.\n",
    "# The director knows the distance from work to home for each employee (unfortunately, all employees live in different directions, so it is impossible to send two employees in one car). Now the director wants to select a taxi for each employee. Obviously, the director wants to pay as little as possible.\n",
    "\n",
    "# kms, fares = [int(i) for i in input().split()], [int(i) for i in input().split()] \n",
    "\n",
    "km_to_home = [10, 20, 1, 30, 35]\n",
    "taxi_fare = [1, 3, 5, 5, 4]\n",
    "\n",
    "# get taxi index\n",
    "def get_taxi_index(km_to_home, taxi_fare):\n",
    "    print(*enumerate(taxi_fare))\n",
    "\n",
    "# get_taxi_index(km_to_home, taxi_fare)\n",
    "\n",
    "# get cheapest fare - km combo\n",
    "def get_cheapest_fare(km_to_home, taxi_fare):\n",
    "    print(*map(lambda x: x[0] * x[1], zip(km_to_home, taxi_fare)))\n",
    "\n",
    "get_cheapest_fare(km_to_home, taxi_fare)"
   ]
  },
  {
   "cell_type": "code",
   "execution_count": 10,
   "metadata": {},
   "outputs": [
    {
     "name": "stdout",
     "output_type": "stream",
     "text": [
      "\n"
     ]
    }
   ],
   "source": [
    "# After a lengthy meeting, the company's director decided to order a taxi to take the staff home. He ordered 𝑁 cars − exactly as many employees as he had. However, when taxi drivers arrived, it turned out that each taxi driver has a different fare for 1 kilometer.\n",
    "# The director knows the distance from work to home for each employee (unfortunately, all employees live in different directions, so it is impossible to send two employees in one car). Now the director wants to select a taxi for each employee. Obviously, the director wants to pay as little as possible.\n",
    "\n",
    "# kms, fares = [int(i) for i in input().split()], [int(i) for i in input().split()]\n",
    "\n",
    "kms, fares = map(int, input().split()), map(int, input().split()) \n",
    "route = sorted(\\\n",
    "            zip(\\\n",
    "                sorted(enumerate(kms),key=lambda x: x[1]), \\\n",
    "                sorted(enumerate(fares), key=lambda x: x[1], reverse=True)),\\\n",
    "            key=lambda x: x[0][0]) \n",
    "            \n",
    "print(*map(lambda x: x[1][0], route))"
   ]
  },
  {
   "cell_type": "code",
   "execution_count": 11,
   "metadata": {},
   "outputs": [
    {
     "name": "stdout",
     "output_type": "stream",
     "text": [
      "Total rows: 891\n",
      "Total number of males: 577\n",
      "Total count of people with parch > 1: 213\n",
      "Proportion of first class: 0.24\n",
      "Proportion of survival: 0.38\n",
      "Proportion of survival in the 1st class: 0.63\n",
      "Mean age: 29.7,\n",
      "Median age: 28.0,\n",
      "Mode age: 24.0\n",
      "Number of people who paid more than average: 211\n"
     ]
    }
   ],
   "source": [
    "# Titanic\n",
    "\n",
    "import pandas as pd\n",
    "\n",
    "df = pd.read_csv('/Users/rustya/Desktop/MDS/Python Advanced/titanic/titanic.txt')\n",
    "\n",
    "# total records\n",
    "print(f\"Total rows: {df.shape[0]}\")\n",
    "\n",
    "# num of males\n",
    "print(f\"Total number of males: {len(df[df['Sex'] == 'male'])}\")\n",
    "\n",
    "# parch > 1\n",
    "print(f\"Total count of people with parch > 1: {len(df[df['Parch'] >= 1])}\")\n",
    "\n",
    "# proportion of first class\n",
    "print(f\"Proportion of first class: {round(len(df[df['Pclass'] == 1]) / len(df),2)}\")\n",
    "\n",
    "# proportion of survived\n",
    "print(f\"Proportion of survival: {round(len(df[df['Survived'] == 1]) / len(df),2)}\")\n",
    "\n",
    "# proportion of survivors among first-class passengers\n",
    "print(f\"Proportion of survival in the 1st class: {round(len(df[(df['Pclass'] == 1) & (df['Survived'] == 1)]) / len(df[(df['Pclass'] == 1)]),2)}\")\n",
    "\n",
    "# average, median, mode age\n",
    "print(f\"Mean age: {round(df.Age.mean(),2)},\\nMedian age: {df.Age.median()},\\nMode age: {df.Age.mode().values[0].tolist()}\")\n",
    "\n",
    "# number of people who paid more than average price\n",
    "print(f\"Number of people who paid more than average: {len(df[df['Fare'] > df.Fare.mean()])}\")"
   ]
  },
  {
   "cell_type": "markdown",
   "metadata": {},
   "source": [
    "# Week 6 - Modules, Useful Standard Modules"
   ]
  },
  {
   "cell_type": "code",
   "execution_count": 12,
   "metadata": {},
   "outputs": [
    {
     "name": "stdout",
     "output_type": "stream",
     "text": [
      "Python\n",
      "1980s\n",
      "<b>Guido van Rossum</b>\n",
      "Python 2.0\n",
      "16 October 2000 \n",
      "Python 3.0\n",
      "3 December 2008\n"
     ]
    }
   ],
   "source": [
    "# Hypertext Markup Language (HTML) is the standard markup language for documents designed to be displayed in a web browser. \n",
    "# HTML markup consists of several key components, including those called tags. For example, <b>bold</b> indicates that visual output devices should render \"bold\" in bold text, \n",
    "# <i>italic</i> render \"italic\" in italic text.\n",
    "# You need to print all the phrases that are enclosed inside the <i> tag. The function re.findall is very useful in this task. Learn the syntax of this function yourself.\n",
    "\n",
    "# Input format: Input data is a text divided into lines. The input ends with an empty line. You don't need to join lines together, process them separately.\n",
    "# Output format: Print the phrases enclosed in the <i> tag in the same order as they were in the text.\n",
    "\n",
    "import re\n",
    "import sys\n",
    "\n",
    "for line in sys.stdin:\n",
    "    for match in re.findall(r'<i>(.*?)</i>', line):\n",
    "        print(match)    \n",
    "\n"
   ]
  },
  {
   "cell_type": "code",
   "execution_count": null,
   "metadata": {},
   "outputs": [],
   "source": []
  }
 ],
 "metadata": {
  "kernelspec": {
   "display_name": "Python 3.9.12 ('base')",
   "language": "python",
   "name": "python3"
  },
  "language_info": {
   "codemirror_mode": {
    "name": "ipython",
    "version": 3
   },
   "file_extension": ".py",
   "mimetype": "text/x-python",
   "name": "python",
   "nbconvert_exporter": "python",
   "pygments_lexer": "ipython3",
   "version": "3.9.12"
  },
  "orig_nbformat": 4,
  "vscode": {
   "interpreter": {
    "hash": "cd78fef2128015050713e82ca51c6520b11aee7c9ee8df750520bbbc7384cbaa"
   }
  }
 },
 "nbformat": 4,
 "nbformat_minor": 2
}
